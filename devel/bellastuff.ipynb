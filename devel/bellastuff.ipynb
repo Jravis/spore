{
 "cells": [
  {
   "cell_type": "markdown",
   "metadata": {},
   "source": [
    "# Plots for the Clustering Paper"
   ]
  },
  {
   "cell_type": "markdown",
   "metadata": {},
   "source": [
    "This notebook contains all the plots made for the clustering paper."
   ]
  },
  {
   "cell_type": "code",
   "execution_count": 48,
   "metadata": {
    "ExecuteTime": {
     "end_time": "2018-01-09T00:06:18.921979Z",
     "start_time": "2018-01-09T00:06:10.724674Z"
    },
    "init_cell": true
   },
   "outputs": [
    {
     "name": "stdout",
     "output_type": "stream",
     "text": [
      "The fortranmagic extension is already loaded. To reload it, use:\n",
      "  %reload_ext fortranmagic\n"
     ]
    }
   ],
   "source": [
    "from astropy.cosmology import Planck15\n",
    "from astropy import units as un\n",
    "import matplotlib.pyplot as plt\n",
    "import matplotlib as mpl\n",
    "from matplotlib.colors import LogNorm\n",
    "%matplotlib inline\n",
    "\n",
    "import numpy as np\n",
    "\n",
    "from scipy.interpolate import InterpolatedUnivariateSpline as spline, griddata\n",
    "\n",
    "from powerbox.tools import angular_average, get_power\n",
    "from powerbox.dft import fft\n",
    "from powerbox.powerbox import _magnitude_grid\n",
    "\n",
    "%load_ext fortranmagic\n",
    "\n",
    "from os.path import join"
   ]
  },
  {
   "cell_type": "markdown",
   "metadata": {},
   "source": [
    "This notebook produced with ``spore`` version:"
   ]
  },
  {
   "cell_type": "markdown",
   "metadata": {},
   "source": [
    "## Connect To Instruments"
   ]
  },
  {
   "cell_type": "markdown",
   "metadata": {},
   "source": [
    "### Get Power Spectrum from Basic Box"
   ]
  },
  {
   "cell_type": "code",
   "execution_count": 6,
   "metadata": {
    "ExecuteTime": {
     "end_time": "2017-12-15T03:58:02.986447Z",
     "start_time": "2017-12-15T03:53:43.535966Z"
    }
   },
   "outputs": [
    {
     "name": "stdout",
     "output_type": "stream",
     "text": [
      "{'dim': 1024, 'BoxSize': 1600, 'basedir': '/home/steven/Documents/Projects/Foregrounds/DataSets', 'HIIdim': 1024, 'filename': 'delta_T_v3_no_halos__zstart005.00000_zend009.56801_FLIPBOXES0_1024_1600Mpc_lighttravel', 'z': 0.0, 'type': 'deltaT'}\n",
      "[ 5.          5.00446531  5.00893062 ...,  9.55907938  9.56354469  9.56801   ] [ 7955.26716772  7957.67083891  7960.07185629 ...,  9550.11164822\n",
      "  9551.14519859  9552.17809448] Mpc\n",
      "{'dim': 1024, 'BoxSize': 1600, 'basedir': '/home/steven/Documents/Projects/Foregrounds/DataSets', 'HIIdim': 1024, 'filename': 'delta_T_v3_no_halos__zstart005.00000_zend009.56801_FLIPBOXES0_1024_1600Mpc_lighttravel', 'z': 0.0, 'type': 'deltaT'}\n",
      "[ 5.          5.00446531  5.00893062 ...,  9.55907938  9.56354469  9.56801   ] [ 7955.26716772  7957.67083891  7960.07185629 ...,  9550.11164822\n",
      "  9551.14519859  9552.17809448] Mpc\n"
     ]
    },
    {
     "ename": "KeyboardInterrupt",
     "evalue": "",
     "output_type": "error",
     "traceback": [
      "\u001b[0;31m---------------------------------------------------------------------------\u001b[0m",
      "\u001b[0;31mKeyboardInterrupt\u001b[0m                         Traceback (most recent call last)",
      "\u001b[0;32m<ipython-input-6-1975f7973ed5>\u001b[0m in \u001b[0;36m<module>\u001b[0;34m()\u001b[0m\n\u001b[1;32m      2\u001b[0m                                                get_delta=False, res_ndim=2, taper=blackmanharris)\n\u001b[1;32m      3\u001b[0m \u001b[0;34m\u001b[0m\u001b[0m\n\u001b[0;32m----> 4\u001b[0;31m \u001b[0mpk_1d\u001b[0m\u001b[0;34m,\u001b[0m \u001b[0mkav_1d\u001b[0m \u001b[0;34m=\u001b[0m \u001b[0mpssim\u001b[0m\u001b[0;34m.\u001b[0m\u001b[0mget_power_lightcone\u001b[0m\u001b[0;34m(\u001b[0m\u001b[0;34m\"/home/steven/Documents/Projects/Foregrounds/DataSets/delta_T_v3_no_halos__zstart005.00000_zend009.56801_FLIPBOXES0_1024_1600Mpc_lighttravel\"\u001b[0m\u001b[0;34m,\u001b[0m \u001b[0mtaper\u001b[0m\u001b[0;34m=\u001b[0m\u001b[0mblackmanharris\u001b[0m\u001b[0;34m)\u001b[0m\u001b[0;34m\u001b[0m\u001b[0m\n\u001b[0m\u001b[1;32m      5\u001b[0m \u001b[0;34m\u001b[0m\u001b[0m\n\u001b[1;32m      6\u001b[0m \u001b[0msimf0\u001b[0m \u001b[0;34m=\u001b[0m \u001b[0mnp\u001b[0m\u001b[0;34m.\u001b[0m\u001b[0mlinspace\u001b[0m\u001b[0;34m(\u001b[0m\u001b[0;36m1\u001b[0m\u001b[0;34m,\u001b[0m\u001b[0msimdat\u001b[0m\u001b[0;34m[\u001b[0m\u001b[0;34m'nu'\u001b[0m\u001b[0;34m]\u001b[0m\u001b[0;34m.\u001b[0m\u001b[0mmax\u001b[0m\u001b[0;34m(\u001b[0m\u001b[0;34m)\u001b[0m\u001b[0;34m/\u001b[0m\u001b[0msimdat\u001b[0m\u001b[0;34m[\u001b[0m\u001b[0;34m'nu'\u001b[0m\u001b[0;34m]\u001b[0m\u001b[0;34m.\u001b[0m\u001b[0mmin\u001b[0m\u001b[0;34m(\u001b[0m\u001b[0;34m)\u001b[0m\u001b[0;34m,\u001b[0m\u001b[0mlen\u001b[0m\u001b[0;34m(\u001b[0m\u001b[0msimdat\u001b[0m\u001b[0;34m[\u001b[0m\u001b[0;34m'nu'\u001b[0m\u001b[0;34m]\u001b[0m\u001b[0;34m)\u001b[0m\u001b[0;34m)\u001b[0m\u001b[0;34m\u001b[0m\u001b[0m\n",
      "\u001b[0;32m/home/steven/Documents/Projects/Foregrounds/spore/spore/measure/power_spectra_from_sim_direct.pyc\u001b[0m in \u001b[0;36mget_power_lightcone\u001b[0;34m(fname, numin, numax, get_delta, bins, res_ndim, taper)\u001b[0m\n\u001b[1;32m    107\u001b[0m         \u001b[0mbox\u001b[0m \u001b[0;34m=\u001b[0m \u001b[0mbox\u001b[0m \u001b[0;34m*\u001b[0m \u001b[0mtaper\u001b[0m\u001b[0;34m(\u001b[0m\u001b[0mlen\u001b[0m\u001b[0;34m(\u001b[0m\u001b[0mnu\u001b[0m\u001b[0;34m)\u001b[0m\u001b[0;34m)\u001b[0m\u001b[0;34m\u001b[0m\u001b[0m\n\u001b[1;32m    108\u001b[0m \u001b[0;34m\u001b[0m\u001b[0m\n\u001b[0;32m--> 109\u001b[0;31m     \u001b[0mres\u001b[0m \u001b[0;34m=\u001b[0m \u001b[0mget_power\u001b[0m\u001b[0;34m(\u001b[0m\u001b[0mbox\u001b[0m\u001b[0;34m,\u001b[0m \u001b[0;34m[\u001b[0m\u001b[0mL\u001b[0m\u001b[0;34m,\u001b[0m \u001b[0mL\u001b[0m\u001b[0;34m,\u001b[0m \u001b[0mnp\u001b[0m\u001b[0;34m.\u001b[0m\u001b[0mabs\u001b[0m\u001b[0;34m(\u001b[0m\u001b[0md\u001b[0m\u001b[0;34m[\u001b[0m\u001b[0;34m-\u001b[0m\u001b[0;36m1\u001b[0m\u001b[0;34m]\u001b[0m \u001b[0;34m-\u001b[0m \u001b[0md\u001b[0m\u001b[0;34m[\u001b[0m\u001b[0;36m0\u001b[0m\u001b[0;34m]\u001b[0m\u001b[0;34m)\u001b[0m\u001b[0;34m]\u001b[0m\u001b[0;34m,\u001b[0m \u001b[0mbins\u001b[0m\u001b[0;34m=\u001b[0m\u001b[0mbins\u001b[0m\u001b[0;34m,\u001b[0m \u001b[0mres_ndim\u001b[0m\u001b[0;34m=\u001b[0m\u001b[0mres_ndim\u001b[0m\u001b[0;34m)\u001b[0m\u001b[0;34m\u001b[0m\u001b[0m\n\u001b[0m\u001b[1;32m    110\u001b[0m \u001b[0;34m\u001b[0m\u001b[0m\n\u001b[1;32m    111\u001b[0m     \u001b[0;32mif\u001b[0m \u001b[0mget_delta\u001b[0m\u001b[0;34m:\u001b[0m\u001b[0;34m\u001b[0m\u001b[0m\n",
      "\u001b[0;32m/home/steven/Documents/Projects/powerbox/powerbox/tools.pyc\u001b[0m in \u001b[0;36mget_power\u001b[0;34m(deltax, boxlength, deltax2, N, a, b, remove_shotnoise, vol_normalised_power, bins, res_ndim, weights, weights2, dimensionless)\u001b[0m\n\u001b[1;32m    349\u001b[0m         \u001b[0mbins\u001b[0m \u001b[0;34m=\u001b[0m \u001b[0mint\u001b[0m\u001b[0;34m(\u001b[0m\u001b[0mnp\u001b[0m\u001b[0;34m.\u001b[0m\u001b[0mproduct\u001b[0m\u001b[0;34m(\u001b[0m\u001b[0mN\u001b[0m\u001b[0;34m[\u001b[0m\u001b[0;34m:\u001b[0m\u001b[0mres_ndim\u001b[0m\u001b[0;34m]\u001b[0m\u001b[0;34m)\u001b[0m\u001b[0;34m**\u001b[0m\u001b[0;34m(\u001b[0m\u001b[0;36m1.\u001b[0m\u001b[0;34m/\u001b[0m\u001b[0mres_ndim\u001b[0m\u001b[0;34m)\u001b[0m\u001b[0;34m/\u001b[0m\u001b[0;36m2.2\u001b[0m\u001b[0;34m)\u001b[0m\u001b[0;34m\u001b[0m\u001b[0m\n\u001b[1;32m    350\u001b[0m \u001b[0;34m\u001b[0m\u001b[0m\n\u001b[0;32m--> 351\u001b[0;31m     \u001b[0mp_k\u001b[0m\u001b[0;34m,\u001b[0m \u001b[0mk_av_bins\u001b[0m\u001b[0;34m,\u001b[0m \u001b[0mother_k\u001b[0m \u001b[0;34m=\u001b[0m \u001b[0mangular_average_nd\u001b[0m\u001b[0;34m(\u001b[0m\u001b[0mP\u001b[0m\u001b[0;34m,\u001b[0m \u001b[0mfreq\u001b[0m\u001b[0;34m,\u001b[0m \u001b[0mbins\u001b[0m\u001b[0;34m,\u001b[0m \u001b[0mn\u001b[0m\u001b[0;34m=\u001b[0m\u001b[0mres_ndim\u001b[0m\u001b[0;34m)\u001b[0m\u001b[0;34m\u001b[0m\u001b[0m\n\u001b[0m\u001b[1;32m    352\u001b[0m \u001b[0;34m\u001b[0m\u001b[0m\n\u001b[1;32m    353\u001b[0m     \u001b[0;31m# Remove shot-noise\u001b[0m\u001b[0;34m\u001b[0m\u001b[0;34m\u001b[0m\u001b[0m\n",
      "\u001b[0;32m/home/steven/Documents/Projects/powerbox/powerbox/tools.pyc\u001b[0m in \u001b[0;36mangular_average_nd\u001b[0;34m(field, coords, bins, n, weights, average)\u001b[0m\n\u001b[1;32m    174\u001b[0m \u001b[0;34m\u001b[0m\u001b[0m\n\u001b[1;32m    175\u001b[0m     \u001b[0;32mif\u001b[0m \u001b[0mn\u001b[0m \u001b[0;34m==\u001b[0m \u001b[0mlen\u001b[0m\u001b[0;34m(\u001b[0m\u001b[0mcoords\u001b[0m\u001b[0;34m)\u001b[0m\u001b[0;34m:\u001b[0m\u001b[0;34m\u001b[0m\u001b[0m\n\u001b[0;32m--> 176\u001b[0;31m         \u001b[0mav\u001b[0m\u001b[0;34m,\u001b[0m \u001b[0mbins\u001b[0m \u001b[0;34m=\u001b[0m \u001b[0mangular_average\u001b[0m\u001b[0;34m(\u001b[0m\u001b[0mfield\u001b[0m\u001b[0;34m,\u001b[0m \u001b[0mav_coords\u001b[0m\u001b[0;34m,\u001b[0m \u001b[0mbins\u001b[0m\u001b[0;34m,\u001b[0m \u001b[0mweights\u001b[0m\u001b[0;34m,\u001b[0m \u001b[0maverage\u001b[0m\u001b[0;34m)\u001b[0m\u001b[0;34m\u001b[0m\u001b[0m\n\u001b[0m\u001b[1;32m    177\u001b[0m         \u001b[0;32mreturn\u001b[0m \u001b[0mav\u001b[0m\u001b[0;34m,\u001b[0m\u001b[0mbins\u001b[0m\u001b[0;34m,\u001b[0m \u001b[0;34m[\u001b[0m\u001b[0;34m]\u001b[0m\u001b[0;34m\u001b[0m\u001b[0m\n\u001b[1;32m    178\u001b[0m \u001b[0;34m\u001b[0m\u001b[0m\n",
      "\u001b[0;32m/home/steven/Documents/Projects/powerbox/powerbox/tools.pyc\u001b[0m in \u001b[0;36mangular_average\u001b[0;34m(field, coords, bins, weights, average)\u001b[0m\n\u001b[1;32m     51\u001b[0m         \u001b[0mbins\u001b[0m \u001b[0;34m=\u001b[0m \u001b[0mnp\u001b[0m\u001b[0;34m.\u001b[0m\u001b[0mlinspace\u001b[0m\u001b[0;34m(\u001b[0m\u001b[0mcoords\u001b[0m\u001b[0;34m.\u001b[0m\u001b[0mmin\u001b[0m\u001b[0;34m(\u001b[0m\u001b[0;34m)\u001b[0m\u001b[0;34m,\u001b[0m \u001b[0mcoords\u001b[0m\u001b[0;34m.\u001b[0m\u001b[0mmax\u001b[0m\u001b[0;34m(\u001b[0m\u001b[0;34m)\u001b[0m \u001b[0;34m*\u001b[0m \u001b[0;36m1.001\u001b[0m\u001b[0;34m,\u001b[0m \u001b[0mbins\u001b[0m \u001b[0;34m+\u001b[0m \u001b[0;36m1\u001b[0m\u001b[0;34m)\u001b[0m\u001b[0;34m\u001b[0m\u001b[0m\n\u001b[1;32m     52\u001b[0m \u001b[0;34m\u001b[0m\u001b[0m\n\u001b[0;32m---> 53\u001b[0;31m     \u001b[0mindx\u001b[0m\u001b[0;34m,\u001b[0m \u001b[0mbinav\u001b[0m\u001b[0;34m,\u001b[0m \u001b[0msumweight\u001b[0m \u001b[0;34m=\u001b[0m \u001b[0m_get_binweights\u001b[0m\u001b[0;34m(\u001b[0m\u001b[0mcoords\u001b[0m\u001b[0;34m,\u001b[0m \u001b[0mweights\u001b[0m\u001b[0;34m,\u001b[0m \u001b[0mbins\u001b[0m\u001b[0;34m,\u001b[0m \u001b[0maverage\u001b[0m\u001b[0;34m)\u001b[0m\u001b[0;34m\u001b[0m\u001b[0m\n\u001b[0m\u001b[1;32m     54\u001b[0m \u001b[0;34m\u001b[0m\u001b[0m\n\u001b[1;32m     55\u001b[0m     \u001b[0;32mif\u001b[0m \u001b[0mlen\u001b[0m\u001b[0;34m(\u001b[0m\u001b[0mnp\u001b[0m\u001b[0;34m.\u001b[0m\u001b[0munique\u001b[0m\u001b[0;34m(\u001b[0m\u001b[0mindx\u001b[0m\u001b[0;34m)\u001b[0m\u001b[0;34m)\u001b[0m \u001b[0;34m!=\u001b[0m \u001b[0mlen\u001b[0m\u001b[0;34m(\u001b[0m\u001b[0mbins\u001b[0m\u001b[0;34m)\u001b[0m \u001b[0;34m-\u001b[0m \u001b[0;36m1\u001b[0m\u001b[0;34m:\u001b[0m\u001b[0;34m\u001b[0m\u001b[0m\n",
      "\u001b[0;32m/home/steven/Documents/Projects/powerbox/powerbox/tools.pyc\u001b[0m in \u001b[0;36m_get_binweights\u001b[0;34m(coords, weights, bins, average)\u001b[0m\n\u001b[1;32m     87\u001b[0m             \u001b[0mbinweight\u001b[0m \u001b[0;34m=\u001b[0m \u001b[0mnp\u001b[0m\u001b[0;34m.\u001b[0m\u001b[0mbincount\u001b[0m\u001b[0;34m(\u001b[0m\u001b[0mindx\u001b[0m\u001b[0;34m)\u001b[0m\u001b[0;34m\u001b[0m\u001b[0m\n\u001b[1;32m     88\u001b[0m \u001b[0;34m\u001b[0m\u001b[0m\n\u001b[0;32m---> 89\u001b[0;31m     \u001b[0mbinav\u001b[0m \u001b[0;34m=\u001b[0m \u001b[0mnp\u001b[0m\u001b[0;34m.\u001b[0m\u001b[0mbincount\u001b[0m\u001b[0;34m(\u001b[0m\u001b[0mindx\u001b[0m\u001b[0;34m,\u001b[0m \u001b[0mweights\u001b[0m\u001b[0;34m=\u001b[0m\u001b[0;34m(\u001b[0m\u001b[0mweights\u001b[0m\u001b[0;34m*\u001b[0m\u001b[0mcoords\u001b[0m\u001b[0;34m)\u001b[0m\u001b[0;34m.\u001b[0m\u001b[0mflatten\u001b[0m\u001b[0;34m(\u001b[0m\u001b[0;34m)\u001b[0m\u001b[0;34m)\u001b[0m\u001b[0;34m/\u001b[0m\u001b[0mbinweight\u001b[0m\u001b[0;34m\u001b[0m\u001b[0m\n\u001b[0m\u001b[1;32m     90\u001b[0m \u001b[0;34m\u001b[0m\u001b[0m\n\u001b[1;32m     91\u001b[0m     \u001b[0;32mreturn\u001b[0m \u001b[0mindx\u001b[0m\u001b[0;34m,\u001b[0m \u001b[0mbinav\u001b[0m\u001b[0;34m,\u001b[0m \u001b[0msumweights\u001b[0m\u001b[0;34m\u001b[0m\u001b[0m\n",
      "\u001b[0;31mKeyboardInterrupt\u001b[0m: "
     ]
    }
   ],
   "source": [
    "pk_2d, kperp, kpar, simdat = pssim.get_power_lightcone(\"/home/steven/Documents/Projects/Foregrounds/DataSets/delta_T_v3_no_halos__zstart005.00000_zend009.56801_FLIPBOXES0_1024_1600Mpc_lighttravel\", \n",
    "                                               get_delta=False, res_ndim=2, taper=blackmanharris)\n",
    "\n",
    "pk_1d, kav_1d = pssim.get_power_lightcone(\"/home/steven/Documents/Projects/Foregrounds/DataSets/delta_T_v3_no_halos__zstart005.00000_zend009.56801_FLIPBOXES0_1024_1600Mpc_lighttravel\", taper=blackmanharris)\n",
    "\n",
    "simf0 = np.linspace(1,simdat['nu'].max()/simdat['nu'].min(),len(simdat['nu']))\n",
    "sim_u = Planck15.h*Planck15.comoving_distance(simdat['z'].min()) * kperp/(2*np.pi)"
   ]
  },
  {
   "cell_type": "markdown",
   "metadata": {},
   "source": [
    "Plot the 2D power spectrum of the raw EoR simulation, to get a feel for where the power really is:"
   ]
  },
  {
   "cell_type": "code",
   "execution_count": 7,
   "metadata": {
    "ExecuteTime": {
     "end_time": "2017-12-15T04:01:29.199395Z",
     "start_time": "2017-12-15T04:01:29.197410Z"
    }
   },
   "outputs": [],
   "source": [
    "from spore.mock.convert_sim_to_vis import get_cut_box"
   ]
  },
  {
   "cell_type": "code",
   "execution_count": 8,
   "metadata": {
    "ExecuteTime": {
     "end_time": "2017-12-15T04:04:21.368856Z",
     "start_time": "2017-12-15T04:02:41.757386Z"
    }
   },
   "outputs": [
    {
     "name": "stdout",
     "output_type": "stream",
     "text": [
      "{'dim': 1024, 'BoxSize': 1600, 'basedir': '../../DataSets', 'HIIdim': 1024, 'filename': 'delta_T_v3_no_halos__zstart005.00000_zend009.56801_FLIPBOXES0_1024_1600Mpc_lighttravel', 'z': 0.0, 'type': 'deltaT'}\n",
      "[ 5.          5.00446531  5.00893062 ...,  9.55907938  9.56354469  9.56801   ] [ 7955.26716772  7957.67083891  7960.07185629 ...,  9550.11164822\n",
      "  9551.14519859  9552.17809448] Mpc\n"
     ]
    }
   ],
   "source": [
    "box, N, L, d, nu, z = get_cut_box(\"../../DataSets/delta_T_v3_no_halos__zstart005.00000_zend009.56801_FLIPBOXES0_1024_1600Mpc_lighttravel\",\n",
    "                                  numin=150.0, numax=153.)"
   ]
  },
  {
   "cell_type": "code",
   "execution_count": 15,
   "metadata": {
    "ExecuteTime": {
     "end_time": "2017-12-15T04:07:41.433463Z",
     "start_time": "2017-12-15T04:07:41.425096Z"
    }
   },
   "outputs": [],
   "source": [
    "box0 = box[:,:,0]"
   ]
  },
  {
   "cell_type": "code",
   "execution_count": 22,
   "metadata": {
    "ExecuteTime": {
     "end_time": "2017-12-15T04:09:04.512140Z",
     "start_time": "2017-12-15T04:09:04.113718Z"
    }
   },
   "outputs": [
    {
     "data": {
      "image/png": "[encoded data removed]",
      "text/plain": [
       "<matplotlib.figure.Figure at 0x7f0c7e05f210>"
      ]
     },
     "metadata": {},
     "output_type": "display_data"
    }
   ],
   "source": [
    "power_2d, k2d = get_power(box0, boxlength=L)\n",
    "plt.plot(k2d, power_2d * k2d**3)\n",
    "plt.xscale('log')\n",
    "plt.yscale('log')"
   ]
  },
  {
   "cell_type": "code",
   "execution_count": 17,
   "metadata": {
    "ExecuteTime": {
     "end_time": "2017-12-15T04:08:18.105070Z",
     "start_time": "2017-12-15T04:08:18.098434Z"
    }
   },
   "outputs": [],
   "source": [
    "import numpy as np"
   ]
  },
  {
   "cell_type": "code",
   "execution_count": 19,
   "metadata": {
    "ExecuteTime": {
     "end_time": "2017-12-15T04:08:28.301648Z",
     "start_time": "2017-12-15T04:08:28.294153Z"
    }
   },
   "outputs": [],
   "source": [
    "bigbox = np.hstack((box0, box0))\n",
    "bigbox = np.vstack((bigbox, bigbox))"
   ]
  },
  {
   "cell_type": "code",
   "execution_count": 24,
   "metadata": {
    "ExecuteTime": {
     "end_time": "2017-12-15T04:10:03.259370Z",
     "start_time": "2017-12-15T04:10:02.109764Z"
    }
   },
   "outputs": [
    {
     "data": {
      "image/png": "[encoded data removed]",
      "text/plain": [
       "<matplotlib.figure.Figure at 0x7f0c7e16e490>"
      ]
     },
     "metadata": {},
     "output_type": "display_data"
    }
   ],
   "source": [
    "power_2d, k2d = get_power(box0, boxlength=L)\n",
    "power_2dbig, k2dbig = get_power(bigbox, boxlength=L*2)\n",
    "plt.plot(k2d, power_2d * k2d**3, label='original')\n",
    "plt.plot(k2dbig, power_2dbig * k2dbig**3, label=\"big\")\n",
    "\n",
    "plt.legend()\n",
    "plt.xscale('log')\n",
    "plt.yscale('log')"
   ]
  },
  {
   "cell_type": "code",
   "execution_count": 30,
   "metadata": {
    "ExecuteTime": {
     "end_time": "2017-12-15T04:15:27.900143Z",
     "start_time": "2017-12-15T04:15:11.787248Z"
    }
   },
   "outputs": [],
   "source": [
    "%%fortran\n",
    "\n",
    "subroutine coarsen(nx_in,ny_in, nx_out, ny_out, a, coarsened)\n",
    "        implicit none\n",
    "        integer, intent(in) :: nx_in, ny_in, nx_out, ny_out\n",
    "        real(8), intent(in) :: a(nx_in,ny_in) ! input matrix\n",
    "        real(8), intent(out) :: coarsened(nx_out, ny_out)\n",
    "\n",
    "        integer :: ix,iy, ix_out, iy_out\n",
    "        real :: size_ratio_x, size_ratio_y, this_edge_x, ne_x, this_edge_y, ne_y\n",
    "\n",
    "        size_ratio_x = real(nx_in)/real(nx_out)     \n",
    "        size_ratio_y = real(ny_in)/real(ny_out)     \n",
    "                \n",
    "        this_edge_x = 0.0\n",
    "        ne_x = size_ratio_x\n",
    "        ix_out = 1\n",
    "\n",
    "        coarsened(:,:) = 0.d0\n",
    "        do ix=0,nx_in-1\n",
    "            \n",
    "            this_edge_y = 0.0\n",
    "            ne_y = size_ratio_y\n",
    "            iy_out = 1\n",
    "\n",
    "            if (ix>ne_x) then\n",
    "                this_edge_x = this_edge_x + size_ratio_x\n",
    "                ne_x = ne_x + size_ratio_x                    \n",
    "                ix_out = ix_out + 1\n",
    "            endif\n",
    "\n",
    "                \n",
    "            do iy=0,ny_in-1\n",
    "                \n",
    "\n",
    "                if (iy>ne_y) then\n",
    "                    this_edge_y = this_edge_y + size_ratio_y\n",
    "                    ne_y = ne_y + size_ratio_y\n",
    "                    iy_out = iy_out + 1\n",
    "                endif\n",
    "    \n",
    "                write(*,*) ix, iy, size_ratio_x, this_edge_x, this_edge_y, ne_x, ne_y, ix_out, iy_out\n",
    "        \n",
    "                coarsened(ix_out, iy_out) = coarsened(ix_out, iy_out) + (ne_x - ix)*(ne_y - iy) * a(ix+1,iy+1)                        \n",
    "                if (ix+1 - ne_x > 0.0) then\n",
    "                    coarsened(ix_out+1, iy_out) = coarsened(ix_out+1, iy_out) + (ix+1 - ne_x)*(ne_y - iy) * a(ix+1,iy+1)\n",
    "                end if\n",
    "                if (iy+1 - ne_y > 0.0) then\n",
    "                    coarsened(ix_out, iy_out+1) = coarsened(ix_out, iy_out+1) + (ne_x-ix)*(iy+1 - ne_y) * a(ix+1,iy+1)\n",
    "                end if\n",
    "\n",
    "                if (ix+1 - ne_x > 0.0 .and. iy+1 - ne_y > 0.0 ) then\n",
    "                    coarsened(ix_out+1, iy_out+1) = coarsened(ix_out+1, iy_out+1) + (ix+1 - ne_x)*(iy+1 - ne_y) * a(ix+1,iy+1)\n",
    "                end if\n",
    "                \n",
    "                                \n",
    "            end do        \n",
    "        end do\n",
    "        \n",
    "        coarsened = coarsened / (size_ratio_x*size_ratio_y)\n",
    "    end subroutine"
   ]
  },
  {
   "cell_type": "code",
   "execution_count": 32,
   "metadata": {
    "ExecuteTime": {
     "end_time": "2017-12-15T04:16:15.875826Z",
     "start_time": "2017-12-15T04:15:59.649549Z"
    }
   },
   "outputs": [],
   "source": [
    "coarse_box= coarsen(1024, 1024, bigbox)"
   ]
  },
  {
   "cell_type": "code",
   "execution_count": 34,
   "metadata": {
    "ExecuteTime": {
     "end_time": "2017-12-15T04:18:06.762118Z",
     "start_time": "2017-12-15T04:18:05.819126Z"
    }
   },
   "outputs": [
    {
     "data": {
      "image/png": "[encoded data removed]",
      "text/plain": [
       "<matplotlib.figure.Figure at 0x7f0d40ad4a90>"
      ]
     },
     "metadata": {},
     "output_type": "display_data"
    }
   ],
   "source": [
    "power_2d, k2d = get_power(box0, boxlength=L)\n",
    "power_2dbig, k2dbig = get_power(bigbox, boxlength=L*2)\n",
    "power_2dcoarse, k2dcoarse = get_power(coarse_box, boxlength=L*2)\n",
    "\n",
    "\n",
    "plt.plot(k2d, power_2d * k2d**2, label='original')\n",
    "plt.plot(k2dbig, power_2dbig * k2dbig**2, label=\"big\")\n",
    "plt.plot(k2dcoarse, power_2dcoarse * k2dcoarse**2, label=\"coarse\")\n",
    "\n",
    "plt.legend()\n",
    "plt.xscale('log')\n",
    "plt.yscale('log')"
   ]
  },
  {
   "cell_type": "markdown",
   "metadata": {},
   "source": [
    "## 3D"
   ]
  },
  {
   "cell_type": "code",
   "execution_count": 35,
   "metadata": {
    "ExecuteTime": {
     "end_time": "2017-12-15T04:20:00.996871Z",
     "start_time": "2017-12-15T04:20:00.991868Z"
    }
   },
   "outputs": [],
   "source": [
    "bigbox3d = np.concatenate?"
   ]
  },
  {
   "cell_type": "code",
   "execution_count": 36,
   "metadata": {
    "ExecuteTime": {
     "end_time": "2017-12-15T04:20:36.440329Z",
     "start_time": "2017-12-15T04:20:36.305876Z"
    }
   },
   "outputs": [],
   "source": [
    "bigbox3d = np.concatenate((box,box))\n",
    "bigbox3d = np.concatenate((bigbox3d, bigbox3d), axis=1)"
   ]
  },
  {
   "cell_type": "code",
   "execution_count": 41,
   "metadata": {
    "ExecuteTime": {
     "end_time": "2017-12-15T04:25:18.506571Z",
     "start_time": "2017-12-15T04:25:18.264346Z"
    }
   },
   "outputs": [
    {
     "data": {
      "image/png": "[encoded data removed]",
      "text/plain": [
       "<matplotlib.figure.Figure at 0x7f0d40d1f490>"
      ]
     },
     "metadata": {},
     "output_type": "display_data"
    }
   ],
   "source": [
    "power_3d, k3d = get_power(box, boxlength=[L,L,d[-1]-d[0]])\n",
    "power_3dbig, k3dbig = get_power(bigbox3d, boxlength=[L*2, L*2, d[-1]-d[0]])\n",
    "\n",
    "plt.plot(k3d, power_3d * k3d**3, label='original')\n",
    "plt.plot(k3dbig, power_3dbig * k3dbig**3, label=\"big\")\n",
    "plt.xscale('log')\n",
    "plt.yscale(\"log\")"
   ]
  },
  {
   "cell_type": "code",
   "execution_count": 46,
   "metadata": {
    "ExecuteTime": {
     "end_time": "2017-12-15T04:44:28.821839Z",
     "start_time": "2017-12-15T04:35:16.963431Z"
    }
   },
   "outputs": [],
   "source": [
    "coarse_3d = np.zeros_like(box)\n",
    "\n",
    "for i in range(box.shape[-1]):\n",
    "    coarse_3d[:,:,i] = coarsen(box.shape[0], box.shape[1], bigbox3d[:,:,i])\n",
    "    \n",
    "power_3dcoarse, k3dcoarse = get_power(coarse_3d, boxlength=[L*2,L*2,d[-1]-d[0]])"
   ]
  },
  {
   "cell_type": "code",
   "execution_count": 47,
   "metadata": {
    "ExecuteTime": {
     "end_time": "2017-12-15T04:44:32.227489Z",
     "start_time": "2017-12-15T04:44:31.997090Z"
    }
   },
   "outputs": [
    {
     "data": {
      "image/png": "[encoded data removed]",
      "text/plain": [
       "<matplotlib.figure.Figure at 0x7f0d407fecd0>"
      ]
     },
     "metadata": {},
     "output_type": "display_data"
    }
   ],
   "source": [
    "plt.plot(k3d, power_3d * k3d**3, label='original')\n",
    "plt.plot(k3dbig, power_3dbig * k3dbig**3, label=\"big\")\n",
    "plt.plot(k3dcoarse, power_3dcoarse * k3dcoarse**3, label=\"coarse\")\n",
    "\n",
    "plt.xscale('log')\n",
    "plt.yscale(\"log\")"
   ]
  },
  {
   "cell_type": "code",
   "execution_count": null,
   "metadata": {},
   "outputs": [],
   "source": [
    "\n",
    "power_2d, k2d = get_power(box0, boxlength=L)\n",
    "\n",
    "bigbox = np.hstack((box0, box0))\n",
    "bigbox = np.vstack((bigbox, bigbox))\n",
    "power_2dbig, k2dbig = get_power(bigbox, boxlength=L*2)\n",
    "\n",
    "\n",
    "power_2dcoarse, k2dcoarse = get_power(coarse_box, boxlength=L*2)\n",
    "\n",
    "\n",
    "plt.plot(k2d, power_2d * k2d**2, label='original')\n",
    "plt.plot(k2dbig, power_2dbig * k2dbig**2, label=\"big\")\n",
    "plt.plot(k2dcoarse, power_2dcoarse * k2dcoarse**2, label=\"coarse\")\n",
    "\n",
    "plt.legend()\n",
    "plt.xscale('log')\n",
    "plt.yscale('log')"
   ]
  }
 ],
 "metadata": {
  "celltoolbar": "Initialisation Cell",
  "kernelspec": {
   "display_name": "Python [conda env:spore]",
   "language": "python",
   "name": "conda-env-spore-py"
  },
  "language_info": {
   "codemirror_mode": {
    "name": "ipython",
    "version": 2
   },
   "file_extension": ".py",
   "mimetype": "text/x-python",
   "name": "python",
   "nbconvert_exporter": "python",
   "pygments_lexer": "ipython2",
   "version": "2.7.14"
  },
  "latex_envs": {
   "bibliofile": "biblio.bib",
   "cite_by": "apalike",
   "current_citInitial": 1,
   "eqLabelWithNumbers": true,
   "eqNumInitial": 0
  },
  "nav_menu": {},
  "toc": {
   "nav_menu": {},
   "number_sections": true,
   "sideBar": true,
   "skip_h1_title": false,
   "toc_cell": false,
   "toc_position": {},
   "toc_section_display": "block",
   "toc_window_display": true
  },
  "toc_position": {
   "height": "938px",
   "left": "0px",
   "right": "1783.57px",
   "top": "133px",
   "width": "318px"
  },
  "varInspector": {
   "cols": {
    "lenName": 16,
    "lenType": 16,
    "lenVar": 40
   },
   "kernels_config": {
    "python": {
     "delete_cmd_postfix": "",
     "delete_cmd_prefix": "del ",
     "library": "var_list.py",
     "varRefreshCmd": "print(var_dic_list())"
    },
    "r": {
     "delete_cmd_postfix": ") ",
     "delete_cmd_prefix": "rm(",
     "library": "var_list.r",
     "varRefreshCmd": "cat(var_dic_list()) "
    }
   },
   "types_to_exclude": [
    "module",
    "function",
    "builtin_function_or_method",
    "instance",
    "_Feature"
   ],
   "window_display": false
  }
 },
 "nbformat": 4,
 "nbformat_minor": 2
}
