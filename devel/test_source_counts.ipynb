{
 "cells": [
  {
   "cell_type": "code",
   "execution_count": 1,
   "metadata": {
    "ExecuteTime": {
     "end_time": "2017-04-21T21:19:16.226638",
     "start_time": "2017-04-21T21:19:15.959688"
    },
    "collapsed": true
   },
   "outputs": [],
   "source": [
    "from spore.model import source_counts as sc"
   ]
  },
  {
   "cell_type": "code",
   "execution_count": 2,
   "metadata": {
    "ExecuteTime": {
     "end_time": "2017-04-21T21:19:16.229735",
     "start_time": "2017-04-21T21:19:16.227746"
    },
    "collapsed": false
   },
   "outputs": [],
   "source": [
    "plsc = sc.PowerLawSourceCounts(1.,0.01, alpha=4100., beta = 1.5)"
   ]
  },
  {
   "cell_type": "code",
   "execution_count": 3,
   "metadata": {
    "ExecuteTime": {
     "end_time": "2017-04-21T21:19:16.380971",
     "start_time": "2017-04-21T21:19:16.230485"
    },
    "collapsed": false
   },
   "outputs": [
    {
     "name": "stdout",
     "output_type": "stream",
     "text": [
      "4100.0 1 / (Jy sr) should be 4100/Jy/sr\n",
      "73800.0 1 / sr should be 73800/sr\n",
      "7380.0 Jy / sr should be 7380 Jy/sr\n",
      "2730.6 Jy2 / sr should be  2730.6 Jy^2/sr\n"
     ]
    }
   ],
   "source": [
    "# get a few numbers to test things out\n",
    "print plsc.dnds(1.0), \"should be 4100/Jy/sr\"\n",
    "print plsc.total_number_density, \"should be 73800/sr\"\n",
    "print plsc.total_flux_density, \"should be 7380 Jy/sr\"\n",
    "print plsc.total_squared_flux_density, \"should be \", 4100*(1-0.01**1.5)/1.5, \"Jy^2/sr\""
   ]
  },
  {
   "cell_type": "code",
   "execution_count": 4,
   "metadata": {
    "ExecuteTime": {
     "end_time": "2017-04-21T21:19:16.517447",
     "start_time": "2017-04-21T21:19:16.382158"
    },
    "collapsed": false
   },
   "outputs": [
    {
     "data": {
      "text/latex": [
       "$[0.017385471,~0.011605892,~0.085786404,~0.066053829,~0.03442332,~0.016623869,~0.01244968,~0.13661956,~0.010328722,~0.072005543,~0.017585126,~0.25402487,~0.022694501,~0.42946573,~0.038515291,~0.054112849,~0.10277927,~0.14198277,~0.038682697,~0.032135323,~0.024445607,~0.087547868,~0.010262831,~0.10527832,~0.020733379,~0.010108219,~0.026516088,~0.26772218,~0.019732017,~0.020843988,~0.050042332,~0.022782377,~0.57321133,~0.071453209,~0.016154626,~0.049461023,~0.19742644,~0.045138405,~0.03760814,~0.017878915,~0.024318875,~0.0209538,~0.010914243,~0.03432678,~0.01863201,~0.14842327,~0.029632492,~0.12512044,~0.061513093,~0.058824463,~0.66308746,~0.05598639,~0.18104197,~0.99153365,~0.016297661,~0.03399046,~0.010629813,~0.046906387,~0.064778968,~0.020623391,~0.19467314,~0.017449085,~0.11122366,~0.014160842,~0.014828368,~0.010573542,~0.020885395,~0.031720872,~0.016864983,~0.010361865,~0.12683577,~0.013279386,~0.010858589,~0.11071369,~0.037745977,~0.028217262,~0.47891847,~0.053638095,~0.014803202,~0.13204807,~0.021173959,~0.029751546,~0.021929435,~0.012305556,~0.070804032,~0.061816293,~0.085351161,~0.04987222,~0.01052391,~0.68239627,~0.036752541,~0.06332814,~0.011048166,~0.43899054,~0.026060963,~0.012584426,~0.1272534,~0.014907248,~0.1141056,~0.039342331] \\; \\mathrm{Jy}$"
      ],
      "text/plain": [
       "<Quantity [ 0.01738547, 0.01160589, 0.0857864 , 0.06605383, 0.03442332,\n",
       "            0.01662387, 0.01244968, 0.13661956, 0.01032872, 0.07200554,\n",
       "            0.01758513, 0.25402487, 0.0226945 , 0.42946573, 0.03851529,\n",
       "            0.05411285, 0.10277927, 0.14198277, 0.0386827 , 0.03213532,\n",
       "            0.02444561, 0.08754787, 0.01026283, 0.10527832, 0.02073338,\n",
       "            0.01010822, 0.02651609, 0.26772218, 0.01973202, 0.02084399,\n",
       "            0.05004233, 0.02278238, 0.57321133, 0.07145321, 0.01615463,\n",
       "            0.04946102, 0.19742644, 0.04513841, 0.03760814, 0.01787892,\n",
       "            0.02431887, 0.0209538 , 0.01091424, 0.03432678, 0.01863201,\n",
       "            0.14842327, 0.02963249, 0.12512044, 0.06151309, 0.05882446,\n",
       "            0.66308746, 0.05598639, 0.18104197, 0.99153365, 0.01629766,\n",
       "            0.03399046, 0.01062981, 0.04690639, 0.06477897, 0.02062339,\n",
       "            0.19467314, 0.01744908, 0.11122366, 0.01416084, 0.01482837,\n",
       "            0.01057354, 0.02088539, 0.03172087, 0.01686498, 0.01036187,\n",
       "            0.12683577, 0.01327939, 0.01085859, 0.11071369, 0.03774598,\n",
       "            0.02821726, 0.47891847, 0.05363809, 0.0148032 , 0.13204807,\n",
       "            0.02117396, 0.02975155, 0.02192944, 0.01230556, 0.07080403,\n",
       "            0.06181629, 0.08535116, 0.04987222, 0.01052391, 0.68239627,\n",
       "            0.03675254, 0.06332814, 0.01104817, 0.43899054, 0.02606096,\n",
       "            0.01258443, 0.1272534 , 0.01490725, 0.1141056 , 0.03934233] Jy>"
      ]
     },
     "execution_count": 4,
     "metadata": {},
     "output_type": "execute_result"
    }
   ],
   "source": [
    "plsc.sample_source_counts(100)"
   ]
  },
  {
   "cell_type": "code",
   "execution_count": 5,
   "metadata": {
    "ExecuteTime": {
     "end_time": "2017-04-21T21:19:16.649351",
     "start_time": "2017-04-21T21:19:16.518897"
    },
    "collapsed": false
   },
   "outputs": [],
   "source": [
    "mpl = sc.MultiPowerLawSourceCounts(1.,0.01,Sbreak=[0.1],alpha=4100.,beta=[1.5,1.5])"
   ]
  },
  {
   "cell_type": "code",
   "execution_count": 6,
   "metadata": {
    "ExecuteTime": {
     "end_time": "2017-04-21T21:19:16.777415",
     "start_time": "2017-04-21T21:19:16.650793"
    },
    "collapsed": false
   },
   "outputs": [
    {
     "name": "stdout",
     "output_type": "stream",
     "text": [
      "[ 129653.3840669] 1 / (Jy sr) should be 129653.384067/Jy/sr\n",
      "73800.0 1 / sr should be 73800/sr\n",
      "7380.0 Jy / sr should be 7380 Jy/sr\n",
      "2730.6 Jy2 / sr should be  2730.6 Jy^2/sr\n"
     ]
    }
   ],
   "source": [
    "print mpl.dnds(0.1), \"should be %s/Jy/sr\"%(4100.*0.1**-1.5)\n",
    "print mpl.total_number_density, \"should be 73800/sr\"\n",
    "print mpl.total_flux_density, \"should be 7380 Jy/sr\"\n",
    "print mpl.total_squared_flux_density, \"should be \", 4100*(1-0.01**1.5)/1.5, \"Jy^2/sr\""
   ]
  },
  {
   "cell_type": "code",
   "execution_count": 7,
   "metadata": {
    "ExecuteTime": {
     "end_time": "2017-04-21T21:19:17.465496",
     "start_time": "2017-04-21T21:19:16.778387"
    },
    "collapsed": false
   },
   "outputs": [
    {
     "name": "stdout",
     "output_type": "stream",
     "text": [
      "[ 7380000.]\n"
     ]
    },
    {
     "data": {
      "text/latex": [
       "$[0.012700126,~0.019826161,~0.056515316,~\\dots, 0.01306027,~0.35988438,~0.06144526] \\; \\mathrm{Jy}$"
      ],
      "text/plain": [
       "<Quantity [ 0.01270013, 0.01982616, 0.05651532,...,  0.01306027,\n",
       "            0.35988438, 0.06144526] Jy>"
      ]
     },
     "execution_count": 7,
     "metadata": {},
     "output_type": "execute_result"
    }
   ],
   "source": [
    "mpl.sample_source_counts(100)"
   ]
  },
  {
   "cell_type": "code",
   "execution_count": 16,
   "metadata": {
    "ExecuteTime": {
     "end_time": "2017-04-21T21:32:52.594070",
     "start_time": "2017-04-21T21:32:52.591165"
    },
    "collapsed": true
   },
   "outputs": [],
   "source": [
    "from astropy import units as un\n",
    "from astropy.constants import c\n",
    "import numpy as np"
   ]
  },
  {
   "cell_type": "code",
   "execution_count": 14,
   "metadata": {
    "ExecuteTime": {
     "end_time": "2017-04-21T21:26:07.749074",
     "start_time": "2017-04-21T21:26:07.743991"
    },
    "collapsed": false
   },
   "outputs": [
    {
     "data": {
      "text/latex": [
       "$0.20985472 \\; \\mathrm{}$"
      ],
      "text/plain": [
       "<Quantity 0.2098547206>"
      ]
     },
     "execution_count": 14,
     "metadata": {},
     "output_type": "execute_result"
    }
   ],
   "source": [
    "(0.42*c/(150.*un.MHz * 4*un.m)).to(un.dimensionless_unscaled)"
   ]
  },
  {
   "cell_type": "code",
   "execution_count": 17,
   "metadata": {
    "ExecuteTime": {
     "end_time": "2017-04-21T21:32:55.063371",
     "start_time": "2017-04-21T21:32:55.059164"
    },
    "collapsed": false
   },
   "outputs": [
    {
     "data": {
      "text/latex": [
       "$[1,~1,~1,~1,~1,~1,~1,~1,~1] \\; \\mathrm{Hz}$"
      ],
      "text/plain": [
       "<Quantity [ 1., 1., 1., 1., 1., 1., 1., 1., 1.] Hz>"
      ]
     },
     "execution_count": 17,
     "metadata": {},
     "output_type": "execute_result"
    }
   ],
   "source": [
    "a = np.ones(3)*un.Hz\n",
    "np.repeat(a,3)"
   ]
  },
  {
   "cell_type": "code",
   "execution_count": 24,
   "metadata": {
    "ExecuteTime": {
     "end_time": "2017-04-21T21:36:31.859833",
     "start_time": "2017-04-21T21:36:31.857159"
    },
    "collapsed": false
   },
   "outputs": [
    {
     "data": {
      "text/plain": [
       "[(Unit(\"rad\"), None)]"
      ]
     },
     "execution_count": 24,
     "metadata": {},
     "output_type": "execute_result"
    }
   ],
   "source": [
    "un.dimensionless_angles()"
   ]
  },
  {
   "cell_type": "code",
   "execution_count": 26,
   "metadata": {
    "ExecuteTime": {
     "end_time": "2017-04-21T21:36:53.444759",
     "start_time": "2017-04-21T21:36:53.427405"
    },
    "collapsed": false
   },
   "outputs": [
    {
     "ename": "TypeError",
     "evalue": "[(Unit(\"rad\"), None)] can not be converted to a Unit",
     "output_type": "error",
     "traceback": [
      "\u001b[0;31m---------------------------------------------------------------------------\u001b[0m",
      "\u001b[0;31mTypeError\u001b[0m                                 Traceback (most recent call last)",
      "\u001b[0;32m<ipython-input-26-c62006f6b5b3>\u001b[0m in \u001b[0;36m<module>\u001b[0;34m()\u001b[0m\n\u001b[0;32m----> 1\u001b[0;31m \u001b[0;34m(\u001b[0m\u001b[0;36m1\u001b[0m\u001b[0;34m*\u001b[0m\u001b[0mun\u001b[0m\u001b[0;34m.\u001b[0m\u001b[0mm\u001b[0m\u001b[0;34m/\u001b[0m\u001b[0mun\u001b[0m\u001b[0;34m.\u001b[0m\u001b[0mm\u001b[0m\u001b[0;34m)\u001b[0m\u001b[0;34m.\u001b[0m\u001b[0mto\u001b[0m\u001b[0;34m(\u001b[0m\u001b[0mun\u001b[0m\u001b[0;34m.\u001b[0m\u001b[0mdimensionless_angles\u001b[0m\u001b[0;34m(\u001b[0m\u001b[0;34m)\u001b[0m\u001b[0;34m)\u001b[0m\u001b[0;34m\u001b[0m\u001b[0m\n\u001b[0m",
      "\u001b[0;32m/home/steven/anaconda2/lib/python2.7/site-packages/astropy/units/quantity.pyc\u001b[0m in \u001b[0;36mto\u001b[0;34m(self, unit, equivalencies)\u001b[0m\n\u001b[1;32m    762\u001b[0m         \u001b[0;32mif\u001b[0m \u001b[0mequivalencies\u001b[0m \u001b[0;34m==\u001b[0m \u001b[0;34m[\u001b[0m\u001b[0;34m]\u001b[0m\u001b[0;34m:\u001b[0m\u001b[0;34m\u001b[0m\u001b[0m\n\u001b[1;32m    763\u001b[0m             \u001b[0mequivalencies\u001b[0m \u001b[0;34m=\u001b[0m \u001b[0mself\u001b[0m\u001b[0;34m.\u001b[0m\u001b[0m_equivalencies\u001b[0m\u001b[0;34m\u001b[0m\u001b[0m\n\u001b[0;32m--> 764\u001b[0;31m         \u001b[0munit\u001b[0m \u001b[0;34m=\u001b[0m \u001b[0mUnit\u001b[0m\u001b[0;34m(\u001b[0m\u001b[0munit\u001b[0m\u001b[0;34m)\u001b[0m\u001b[0;34m\u001b[0m\u001b[0m\n\u001b[0m\u001b[1;32m    765\u001b[0m         new_val = self.unit.to(unit, self.view(np.ndarray),\n\u001b[1;32m    766\u001b[0m                                equivalencies=equivalencies)\n",
      "\u001b[0;32m/home/steven/anaconda2/lib/python2.7/site-packages/astropy/units/core.pyc\u001b[0m in \u001b[0;36m__call__\u001b[0;34m(self, s, represents, format, namespace, doc, parse_strict)\u001b[0m\n\u001b[1;32m   1849\u001b[0m \u001b[0;34m\u001b[0m\u001b[0m\n\u001b[1;32m   1850\u001b[0m         \u001b[0;32melse\u001b[0m\u001b[0;34m:\u001b[0m\u001b[0;34m\u001b[0m\u001b[0m\n\u001b[0;32m-> 1851\u001b[0;31m             \u001b[0;32mraise\u001b[0m \u001b[0mTypeError\u001b[0m\u001b[0;34m(\u001b[0m\u001b[0;34m\"{0} can not be converted to a Unit\"\u001b[0m\u001b[0;34m.\u001b[0m\u001b[0mformat\u001b[0m\u001b[0;34m(\u001b[0m\u001b[0ms\u001b[0m\u001b[0;34m)\u001b[0m\u001b[0;34m)\u001b[0m\u001b[0;34m\u001b[0m\u001b[0m\n\u001b[0m\u001b[1;32m   1852\u001b[0m \u001b[0;34m\u001b[0m\u001b[0m\n\u001b[1;32m   1853\u001b[0m \u001b[0;34m\u001b[0m\u001b[0m\n",
      "\u001b[0;31mTypeError\u001b[0m: [(Unit(\"rad\"), None)] can not be converted to a Unit"
     ]
    }
   ],
   "source": [
    "(1*un.m/un.m).to(un.dimensionless_angles())"
   ]
  },
  {
   "cell_type": "code",
   "execution_count": 28,
   "metadata": {
    "ExecuteTime": {
     "end_time": "2017-04-21T21:40:52.897717",
     "start_time": "2017-04-21T21:40:52.893481"
    },
    "collapsed": false
   },
   "outputs": [
    {
     "data": {
      "text/plain": [
       "array([[ 2.,  2.,  2.],\n",
       "       [ 2.,  2.,  2.],\n",
       "       [ 2.,  2.,  2.]])"
      ]
     },
     "execution_count": 28,
     "metadata": {},
     "output_type": "execute_result"
    }
   ],
   "source": [
    "np.add.outer(a,a)"
   ]
  },
  {
   "cell_type": "code",
   "execution_count": 30,
   "metadata": {
    "ExecuteTime": {
     "end_time": "2017-04-21T21:41:54.360412",
     "start_time": "2017-04-21T21:41:54.356535"
    },
    "collapsed": false
   },
   "outputs": [
    {
     "data": {
      "text/latex": [
       "$[[1,~1,~1],~\n",
       " [1,~1,~1],~\n",
       " [1,~1,~1]] \\; \\mathrm{Hz}$"
      ],
      "text/plain": [
       "<Quantity [[ 1., 1., 1.],\n",
       "           [ 1., 1., 1.],\n",
       "           [ 1., 1., 1.]] Hz>"
      ]
     },
     "execution_count": 30,
     "metadata": {},
     "output_type": "execute_result"
    }
   ],
   "source": [
    "np.repeat(a,3).reshape((3,3))"
   ]
  },
  {
   "cell_type": "code",
   "execution_count": null,
   "metadata": {
    "collapsed": true
   },
   "outputs": [],
   "source": []
  }
 ],
 "metadata": {
  "kernelspec": {
   "display_name": "Python [conda root]",
   "language": "python",
   "name": "conda-root-py"
  },
  "language_info": {
   "codemirror_mode": {
    "name": "ipython",
    "version": 2
   },
   "file_extension": ".py",
   "mimetype": "text/x-python",
   "name": "python",
   "nbconvert_exporter": "python",
   "pygments_lexer": "ipython2",
   "version": "2.7.13"
  },
  "latex_envs": {
   "bibliofile": "biblio.bib",
   "cite_by": "apalike",
   "current_citInitial": 1,
   "eqLabelWithNumbers": true,
   "eqNumInitial": 0
  },
  "nav_menu": {},
  "toc": {
   "navigate_menu": true,
   "number_sections": true,
   "sideBar": true,
   "threshold": 6,
   "toc_cell": false,
   "toc_section_display": "block",
   "toc_window_display": true
  }
 },
 "nbformat": 4,
 "nbformat_minor": 2
}
