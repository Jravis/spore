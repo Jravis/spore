{
 "cells": [
  {
   "cell_type": "code",
   "execution_count": 2,
   "metadata": {
    "ExecuteTime": {
     "end_time": "2017-10-18T01:44:58.349221",
     "start_time": "2017-10-18T01:44:15.908440Z"
    },
    "collapsed": false
   },
   "outputs": [
    {
     "name": "stdout",
     "output_type": "stream",
     "text": [
      "(411056534.61346036, 0.031549317000653991, 8.4979032614755085e-06)\n"
     ]
    }
   ],
   "source": [
    "%load_ext autoreload\n",
    "%autoreload 2\n",
    "\n",
    "import matplotlib.pyplot as plt\n",
    "%matplotlib inline\n",
    "\n",
    "import numpy as np\n",
    "\n",
    "from tempfile import NamedTemporaryFile\n",
    "import matplotlib.animation as animation\n",
    "from matplotlib.colors import LogNorm\n",
    "\n",
    "import sys\n",
    "sys.path.append('/home/steven/Documents/Projects/Foregrounds/expected_power_app')\n",
    "\n",
    "import main as fncs\n",
    "from spore.model import source_counts, spatial_dist, spectral_index, beam, foregrounds"
   ]
  },
  {
   "cell_type": "code",
   "execution_count": 10,
   "metadata": {
    "ExecuteTime": {
     "end_time": "2017-10-18T01:47:18.080642",
     "start_time": "2017-10-18T01:47:17.238826Z"
    },
    "collapsed": false,
    "scrolled": true
   },
   "outputs": [
    {
     "name": "stdout",
     "output_type": "stream",
     "text": [
      "38314540.934\n"
     ]
    },
    {
     "data": {
      "image/png": "[encoded data removed]",
      "text/plain": [
       "<matplotlib.figure.Figure at 0x7ffb71932710>"
      ]
     },
     "metadata": {},
     "output_type": "display_data"
    }
   ],
   "source": [
    "fig, ax = plt.subplots(2,2,sharex=True, sharey=True,figsize=(10,8), squeeze=False,subplot_kw={'yscale':'log'}, gridspec_kw={\"hspace\":0.15,\"wspace\":0.05})\n",
    "tau = 30./8./150.\n",
    "fmid = 165./150\n",
    "fvec = np.arange(fmid - 4*tau, fmid+4*tau, 8*tau/128)[:128]\n",
    "sigma = 0.20985\n",
    "sigma_u = 40.\n",
    "vmin = 1e-20\n",
    "\n",
    "\n",
    "data, eta = fncs.update_data(tau = tau, sigma = sigma, sigma_u = sigma_u, fmid = fmid,\n",
    "                             Smax = 1.0, Smin = 0.001, alpha = 4100., beta = 1.59, S0= None,\n",
    "                             beam_frqind=True,\n",
    "                             get_stochastic=False,\n",
    "                             get_static = True, get_single_source=False,\n",
    "                             ngp = True)\n",
    "\n",
    "\n",
    "ax[0,0].imshow(data,origin='lower', norm=LogNorm(), extent = (np.log10(fncs.u.min()),np.log10(fncs.u.max()),eta.min(),eta.max()), vmin=vmin)\n",
    "ax[0,0].set_title(\"Freq. Ind. Static Sky\")\n",
    "\n",
    "data, eta = fncs.update_data(tau = tau, sigma = sigma, sigma_u = sigma_u,fmid = fmid,\n",
    "                             Smax = 1.0, Smin = 0.001, alpha = 4100., beta = 1.59, S0= None,\n",
    "                             beam_frqind=True,\n",
    "                             get_stochastic=True,\n",
    "                             get_static = True, get_single_source=False,\n",
    "                             ngp = True)\n",
    "\n",
    "\n",
    "ax[0,1].imshow(data,origin='lower', norm=LogNorm(), extent = (np.log10(fncs.u.min()),np.log10(fncs.u.max()),eta.min(),eta.max()), vmin=vmin)\n",
    "ax[0,1].set_title(\"Freq. Ind. Stochastic Sky\")\n",
    "\n",
    "data, eta = fncs.update_data(tau = tau, sigma = sigma, sigma_u = sigma_u,fmid = fmid,\n",
    "                             Smax = 1.0, Smin = 0.001, alpha = 4100., beta = 1.59, S0= None,\n",
    "                             beam_frqind=False,\n",
    "                             get_stochastic=False,\n",
    "                             get_static = True, get_single_source=False,\n",
    "                             ngp = True)\n",
    "\n",
    "print(data.max())\n",
    "ax[1,0].imshow(data,origin='lower', norm=LogNorm(), extent = (np.log10(fncs.u.min()),np.log10(fncs.u.max()),eta.min(),eta.max()), vmin=vmin)\n",
    "ax[1,0].set_title(\"Freq. Dep. Static Sky\")\n",
    "\n",
    "data, eta = fncs.update_data(tau = tau, sigma = sigma, sigma_u = sigma_u,fmid = fmid,\n",
    "                             Smax = 1.0, Smin = 0.001, alpha = 4100., beta = 1.59, S0= None,\n",
    "                             beam_frqind=False,\n",
    "                             get_stochastic=True,\n",
    "                             get_static = True, get_single_source=False,\n",
    "                             ngp = True)\n",
    "\n",
    "ax[1,1].imshow(data,origin='lower', norm=LogNorm(), extent = (np.log10(fncs.u.min()),np.log10(fncs.u.max()),eta.min(),eta.max()), vmin=vmin)\n",
    "ax[1,1].set_title(\"Freq. Dep. Stochastic Sky\")\n",
    "\n",
    "fig.savefig(\"/home/steven/Desktop/figure_for_caastro.png\")\n",
    "# data, eta = fncs.update_data(tau = tau, sigma = sigma, sigma_u = sigma_u, fmid = fmid,\n",
    "#                              Smax = 1.0, Smin = 0.001, alpha = 4100., beta = 1.59, S0= None,\n",
    "#                              beam_frqind=True,\n",
    "#                              get_stochastic=False,\n",
    "#                              get_static = True, get_single_source=False,\n",
    "#                              ngp = False)\n",
    "\n",
    "# ax[1,0].imshow(data,origin='lower', norm=LogNorm(), extent = (np.log10(fncs.u.min()),np.log10(fncs.u.max()),eta.min(),eta.max()), vmin=vmin)\n",
    "\n",
    "# data, eta = fncs.update_data(tau = tau, sigma = sigma, sigma_u = sigma_u, fmid = fmid,\n",
    "#                              Smax = 1.0, Smin = 0.001, alpha = 4100., beta = 1.59, S0= None,\n",
    "#                              beam_frqind=True,\n",
    "#                              get_stochastic=True,\n",
    "#                              get_static = False, get_single_source=False,\n",
    "#                              ngp = False)\n",
    "\n",
    "# ax[1,1].imshow(data,origin='lower', norm=LogNorm(), extent = (np.log10(fncs.u.min()),np.log10(fncs.u.max()),eta.min(),eta.max()), vmin=vmin)\n"
   ]
  },
  {
   "cell_type": "code",
   "execution_count": 9,
   "metadata": {
    "ExecuteTime": {
     "end_time": "2017-10-18T01:46:47.252353",
     "start_time": "2017-10-18T01:46:47.217104Z"
    },
    "collapsed": false
   },
   "outputs": [
    {
     "data": {
      "text/plain": [
       "38314664.910614885"
      ]
     },
     "execution_count": 9,
     "metadata": {},
     "output_type": "execute_result"
    }
   ],
   "source": [
    "data.max()"
   ]
  },
  {
   "cell_type": "code",
   "execution_count": 4,
   "metadata": {
    "ExecuteTime": {
     "end_time": "2017-10-04T10:19:56.501889",
     "start_time": "2017-10-04T10:19:56.484521Z"
    },
    "collapsed": false
   },
   "outputs": [],
   "source": [
    "u0 = 0.05\n",
    "kappa = 1.5\n",
    "\n",
    "f0 = np.arange(1,180./150.,(180./150 - 1)/128)[:128]\n",
    "\n",
    "model = foregrounds.CircularGaussianPowerLaw(source_counts=source_counts.MultiPowerLawSourceCounts(f0=f0,Smax0=1.,Smin0=1e-3,alpha=4100.,beta=[1.54],Sbreak=[0.006]), \n",
    "                                             beam_model=beam.CircularGaussian(nu0=150.),\n",
    "                                             u =np.linspace(3,200.0,300),\n",
    "                                             clustering_params={\"u0\":u0,\"kappa\":kappa})"
   ]
  },
  {
   "cell_type": "code",
   "execution_count": 5,
   "metadata": {
    "ExecuteTime": {
     "end_time": "2017-10-04T10:20:06.826212",
     "start_time": "2017-10-04T10:20:03.932478Z"
    },
    "collapsed": false
   },
   "outputs": [],
   "source": [
    "cov_nu = model.fourier_vis_covariance_poisson(natural_units=True)"
   ]
  },
  {
   "cell_type": "code",
   "execution_count": 6,
   "metadata": {
    "ExecuteTime": {
     "end_time": "2017-10-04T10:20:07.807861",
     "start_time": "2017-10-04T10:20:07.791499Z"
    },
    "collapsed": false
   },
   "outputs": [
    {
     "data": {
      "text/latex": [
       "$452.49249 \\; \\mathrm{Jy^{2}\\,MHz^{2}}$"
      ],
      "text/plain": [
       "<Quantity 452.4924930517193 Jy2 MHz2>"
      ]
     },
     "execution_count": 6,
     "metadata": {},
     "output_type": "execute_result"
    }
   ],
   "source": [
    "cov_nu.max()"
   ]
  },
  {
   "cell_type": "code",
   "execution_count": 40,
   "metadata": {
    "ExecuteTime": {
     "end_time": "2017-10-04T08:51:57.820308",
     "start_time": "2017-10-04T08:51:57.530094Z"
    },
    "collapsed": false
   },
   "outputs": [
    {
     "data": {
      "image/png": "[encoded data removed]",
      "text/plain": [
       "<matplotlib.figure.Figure at 0x7f8782dc1890>"
      ]
     },
     "metadata": {},
     "output_type": "display_data"
    }
   ],
   "source": [
    "plt.imshow(cov_nu.value,origin='lower', norm=LogNorm(), extent = (model.u.min().value, model.u.max().value, model.eta.min().value, model.eta.max().value))\n",
    "plt.xscale('log')\n",
    "plt.yscale('log')"
   ]
  },
  {
   "cell_type": "code",
   "execution_count": 17,
   "metadata": {
    "ExecuteTime": {
     "end_time": "2017-10-04T10:03:00.759769",
     "start_time": "2017-10-04T10:03:00.649784Z"
    },
    "collapsed": false
   },
   "outputs": [
    {
     "data": {
      "text/latex": [
       "$388.30288 \\; \\mathrm{Jy^{2}}$"
      ],
      "text/plain": [
       "<Quantity 388.302880445828 Jy2>"
      ]
     },
     "execution_count": 17,
     "metadata": {},
     "output_type": "execute_result"
    }
   ],
   "source": [
    "model.poisson_covariance.max()"
   ]
  },
  {
   "cell_type": "code",
   "execution_count": 15,
   "metadata": {
    "ExecuteTime": {
     "end_time": "2017-10-04T09:08:52.256032",
     "start_time": "2017-10-04T09:08:52.164748Z"
    },
    "collapsed": true
   },
   "outputs": [],
   "source": [
    "cov_eta = fncs.covu_to_coveta(model.poisson_covariance.value, model.f0)"
   ]
  },
  {
   "cell_type": "code",
   "execution_count": 16,
   "metadata": {
    "ExecuteTime": {
     "end_time": "2017-10-04T09:08:54.742018",
     "start_time": "2017-10-04T09:08:54.372234Z"
    },
    "collapsed": false
   },
   "outputs": [
    {
     "data": {
      "image/png": "[encoded data removed]",
      "text/plain": [
       "<matplotlib.figure.Figure at 0x7fb2c79a9290>"
      ]
     },
     "metadata": {},
     "output_type": "display_data"
    }
   ],
   "source": [
    "plt.imshow(cov_eta.T,origin='lower', norm=LogNorm(), extent = (model.u.min().value, model.u.max().value, model.eta.min().value, model.eta.max().value))\n",
    "plt.xscale('log')\n",
    "plt.yscale('log')"
   ]
  },
  {
   "cell_type": "code",
   "execution_count": 4,
   "metadata": {
    "ExecuteTime": {
     "end_time": "2017-10-10T04:02:18.199051",
     "start_time": "2017-10-10T04:02:18.187801Z"
    },
    "collapsed": false
   },
   "outputs": [
    {
     "ename": "ImportError",
     "evalue": "cannot import name imresize",
     "output_type": "error",
     "traceback": [
      "\u001b[0;31m---------------------------------------------------------------------------\u001b[0m",
      "\u001b[0;31mImportError\u001b[0m                               Traceback (most recent call last)",
      "\u001b[0;32m<ipython-input-4-18323fe20513>\u001b[0m in \u001b[0;36m<module>\u001b[0;34m()\u001b[0m\n\u001b[0;32m----> 1\u001b[0;31m \u001b[0;32mfrom\u001b[0m \u001b[0mscipy\u001b[0m\u001b[0;34m.\u001b[0m\u001b[0mmisc\u001b[0m \u001b[0;32mimport\u001b[0m \u001b[0mimresize\u001b[0m\u001b[0;34m\u001b[0m\u001b[0m\n\u001b[0m",
      "\u001b[0;31mImportError\u001b[0m: cannot import name imresize"
     ]
    }
   ],
   "source": [
    "from scipy.misc import imresize"
   ]
  },
  {
   "cell_type": "code",
   "execution_count": 4,
   "metadata": {
    "ExecuteTime": {
     "end_time": "2017-10-10T04:01:01.784043",
     "start_time": "2017-10-10T04:01:01.774417Z"
    },
    "collapsed": true
   },
   "outputs": [],
   "source": [
    "from scipy import misc"
   ]
  },
  {
   "cell_type": "code",
   "execution_count": 1,
   "metadata": {
    "ExecuteTime": {
     "end_time": "2017-10-10T04:02:12.293874",
     "start_time": "2017-10-10T04:02:11.791529Z"
    },
    "collapsed": true
   },
   "outputs": [],
   "source": [
    "import scipy"
   ]
  },
  {
   "cell_type": "code",
   "execution_count": 2,
   "metadata": {
    "ExecuteTime": {
     "end_time": "2017-10-10T04:02:12.990465",
     "start_time": "2017-10-10T04:02:12.983175Z"
    },
    "collapsed": false
   },
   "outputs": [
    {
     "data": {
      "text/plain": [
       "'0.19.1'"
      ]
     },
     "execution_count": 2,
     "metadata": {},
     "output_type": "execute_result"
    }
   ],
   "source": [
    "scipy.__version__"
   ]
  },
  {
   "cell_type": "code",
   "execution_count": 21,
   "metadata": {
    "ExecuteTime": {
     "end_time": "2017-10-10T04:15:10.719833",
     "start_time": "2017-10-10T04:15:10.455012Z"
    },
    "collapsed": true
   },
   "outputs": [],
   "source": [
    "from scipy.interpolate import RectBivariateSpline\n",
    "import numpy as np\n",
    "import matplotlib.pyplot as plt\n",
    "%matplotlib inline"
   ]
  },
  {
   "cell_type": "code",
   "execution_count": 84,
   "metadata": {
    "ExecuteTime": {
     "end_time": "2017-10-10T04:48:35.310848",
     "start_time": "2017-10-10T04:48:35.288514Z"
    },
    "collapsed": true
   },
   "outputs": [],
   "source": [
    "def coarsen(a, centres=None, n2=125):\n",
    "    \"\"\"\n",
    "    Coarsen the square matrix a down to n2xn2.\n",
    "    \"\"\"\n",
    "    n = len(a)\n",
    "    if centres is None:\n",
    "        dx = 1.\n",
    "        centres = np.arange(n)\n",
    "        \n",
    "    else:\n",
    "        dx = centres[1] - centres[0]\n",
    "        \n",
    "    db = float(dx)/(float(n2)/n)\n",
    "    \n",
    "    bvec = np.linspace(centres.min()- dx/2 + db/2, centres.max() + dx/2 - db/2, n2)\n",
    "    spl = RectBivariateSpline(centres, centres, a, kx=1, ky=1)\n",
    "    \n",
    "    b = spl(bvec, bvec, grid=True)\n",
    "    return b, bvec"
   ]
  },
  {
   "cell_type": "code",
   "execution_count": 85,
   "metadata": {
    "ExecuteTime": {
     "end_time": "2017-10-10T04:48:36.196303",
     "start_time": "2017-10-10T04:48:36.187139Z"
    },
    "collapsed": false
   },
   "outputs": [],
   "source": [
    "centres = np.linspace(0,1,100)\n",
    "a = np.exp(-np.outer(centres,centres))\n",
    "\n",
    "b, new_centres = coarsen(a, centres,n2=70)"
   ]
  },
  {
   "cell_type": "code",
   "execution_count": 86,
   "metadata": {
    "ExecuteTime": {
     "end_time": "2017-10-10T04:48:37.672275",
     "start_time": "2017-10-10T04:48:37.516967Z"
    },
    "collapsed": false
   },
   "outputs": [
    {
     "data": {
      "text/plain": [
       "<matplotlib.colorbar.Colorbar at 0x7fc5e06fb650>"
      ]
     },
     "execution_count": 86,
     "metadata": {},
     "output_type": "execute_result"
    },
    {
     "data": {
      "image/png": "[encoded data removed]",
      "text/plain": [
       "<matplotlib.figure.Figure at 0x7fc5e0832e10>"
      ]
     },
     "metadata": {},
     "output_type": "display_data"
    }
   ],
   "source": [
    "plt.imshow(a)\n",
    "plt.colorbar()"
   ]
  },
  {
   "cell_type": "code",
   "execution_count": 87,
   "metadata": {
    "ExecuteTime": {
     "end_time": "2017-10-10T04:48:39.697424",
     "start_time": "2017-10-10T04:48:39.692029Z"
    },
    "collapsed": false
   },
   "outputs": [
    {
     "data": {
      "text/plain": [
       "array([ 0.0021645 ,  0.01659452,  0.03102453,  0.04545455,  0.05988456,\n",
       "        0.07431457,  0.08874459,  0.1031746 ,  0.11760462,  0.13203463,\n",
       "        0.14646465,  0.16089466,  0.17532468,  0.18975469,  0.2041847 ,\n",
       "        0.21861472,  0.23304473,  0.24747475,  0.26190476,  0.27633478,\n",
       "        0.29076479,  0.30519481,  0.31962482,  0.33405483,  0.34848485,\n",
       "        0.36291486,  0.37734488,  0.39177489,  0.40620491,  0.42063492,\n",
       "        0.43506494,  0.44949495,  0.46392496,  0.47835498,  0.49278499,\n",
       "        0.50721501,  0.52164502,  0.53607504,  0.55050505,  0.56493506,\n",
       "        0.57936508,  0.59379509,  0.60822511,  0.62265512,  0.63708514,\n",
       "        0.65151515,  0.66594517,  0.68037518,  0.69480519,  0.70923521,\n",
       "        0.72366522,  0.73809524,  0.75252525,  0.76695527,  0.78138528,\n",
       "        0.7958153 ,  0.81024531,  0.82467532,  0.83910534,  0.85353535,\n",
       "        0.86796537,  0.88239538,  0.8968254 ,  0.91125541,  0.92568543,\n",
       "        0.94011544,  0.95454545,  0.96897547,  0.98340548,  0.9978355 ])"
      ]
     },
     "execution_count": 87,
     "metadata": {},
     "output_type": "execute_result"
    }
   ],
   "source": [
    "new_centres"
   ]
  },
  {
   "cell_type": "code",
   "execution_count": 88,
   "metadata": {
    "ExecuteTime": {
     "end_time": "2017-10-10T04:48:41.428470",
     "start_time": "2017-10-10T04:48:41.235060Z"
    },
    "collapsed": false
   },
   "outputs": [
    {
     "data": {
      "text/plain": [
       "<matplotlib.colorbar.Colorbar at 0x7fc5e05c7a10>"
      ]
     },
     "execution_count": 88,
     "metadata": {},
     "output_type": "execute_result"
    },
    {
     "data": {
      "image/png": "[encoded data removed]",
      "text/plain": [
       "<matplotlib.figure.Figure at 0x7fc5e0985dd0>"
      ]
     },
     "metadata": {},
     "output_type": "display_data"
    }
   ],
   "source": [
    "plt.imshow(b)\n",
    "plt.colorbar()"
   ]
  },
  {
   "cell_type": "code",
   "execution_count": 64,
   "metadata": {
    "ExecuteTime": {
     "end_time": "2017-10-10T04:36:51.204900",
     "start_time": "2017-10-10T04:36:51.186567Z"
    },
    "collapsed": false
   },
   "outputs": [],
   "source": [
    "n = 500\n",
    "n2 = 125\n",
    "X = np.arange(n)\n",
    "a= np.outer(X,X)\n",
    "\n",
    "da = 1.\n",
    "db = float(n)/n2\n",
    "bvec = np.linspace(0-da/2+db/2,n + da/2 - db/2, n2)\n",
    "\n",
    "spl = RectBivariateSpline(np.arange(n), np.arange(n), a, kx=1, ky=1)\n",
    "b = spl(bvec, bvec, grid=True)"
   ]
  },
  {
   "cell_type": "code",
   "execution_count": 65,
   "metadata": {
    "ExecuteTime": {
     "end_time": "2017-10-10T04:36:52.957279",
     "start_time": "2017-10-10T04:36:52.954532Z"
    },
    "collapsed": false
   },
   "outputs": [
    {
     "data": {
      "text/plain": [
       "15562562500"
      ]
     },
     "execution_count": 65,
     "metadata": {},
     "output_type": "execute_result"
    }
   ],
   "source": [
    "np.sum(a)"
   ]
  },
  {
   "cell_type": "code",
   "execution_count": 68,
   "metadata": {
    "ExecuteTime": {
     "end_time": "2017-10-10T04:37:05.692364",
     "start_time": "2017-10-10T04:37:05.689546Z"
    },
    "collapsed": false
   },
   "outputs": [
    {
     "data": {
      "text/plain": [
       "15624999999.999998"
      ]
     },
     "execution_count": 68,
     "metadata": {},
     "output_type": "execute_result"
    }
   ],
   "source": [
    "np.sum(b) * 16"
   ]
  },
  {
   "cell_type": "code",
   "execution_count": 71,
   "metadata": {
    "ExecuteTime": {
     "end_time": "2017-10-10T04:37:23.787181",
     "start_time": "2017-10-10T04:37:23.632630Z"
    },
    "collapsed": false
   },
   "outputs": [
    {
     "data": {
      "text/plain": [
       "<matplotlib.colorbar.Colorbar at 0x7fc5e0d18e10>"
      ]
     },
     "execution_count": 71,
     "metadata": {},
     "output_type": "execute_result"
    },
    {
     "data": {
      "image/png": "[encoded data removed]",
      "text/plain": [
       "<matplotlib.figure.Figure at 0x7fc5e107e790>"
      ]
     },
     "metadata": {},
     "output_type": "display_data"
    }
   ],
   "source": [
    "plt.imshow(a)\n",
    "plt.colorbar()"
   ]
  },
  {
   "cell_type": "code",
   "execution_count": 73,
   "metadata": {
    "ExecuteTime": {
     "end_time": "2017-10-10T04:37:47.477455",
     "start_time": "2017-10-10T04:37:47.297070Z"
    },
    "collapsed": false
   },
   "outputs": [
    {
     "data": {
      "text/plain": [
       "<matplotlib.colorbar.Colorbar at 0x7fc5e0aa7090>"
      ]
     },
     "execution_count": 73,
     "metadata": {},
     "output_type": "execute_result"
    },
    {
     "data": {
      "image/png": "[encoded data removed]",
      "text/plain": [
       "<matplotlib.figure.Figure at 0x7fc5e0baad10>"
      ]
     },
     "metadata": {},
     "output_type": "display_data"
    }
   ],
   "source": [
    "plt.imshow(b)\n",
    "plt.colorbar()"
   ]
  },
  {
   "cell_type": "code",
   "execution_count": null,
   "metadata": {
    "collapsed": true
   },
   "outputs": [],
   "source": []
  }
 ],
 "metadata": {
  "kernelspec": {
   "display_name": "Python [conda env:spore]",
   "language": "python",
   "name": "conda-env-spore-py"
  },
  "language_info": {
   "codemirror_mode": {
    "name": "ipython",
    "version": 2
   },
   "file_extension": ".py",
   "mimetype": "text/x-python",
   "name": "python",
   "nbconvert_exporter": "python",
   "pygments_lexer": "ipython2",
   "version": "2.7.13"
  },
  "latex_envs": {
   "bibliofile": "biblio.bib",
   "cite_by": "apalike",
   "current_citInitial": 1,
   "eqLabelWithNumbers": true,
   "eqNumInitial": 0
  },
  "nav_menu": {},
  "toc": {
   "navigate_menu": true,
   "number_sections": true,
   "sideBar": true,
   "threshold": 6,
   "toc_cell": false,
   "toc_section_display": "block",
   "toc_window_display": true
  }
 },
 "nbformat": 4,
 "nbformat_minor": 2
}
