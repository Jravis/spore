{
 "cells": [
  {
   "cell_type": "markdown",
   "metadata": {},
   "source": [
    "# Expectation of 2D Power Spectrum (and its actual covariance)"
   ]
  },
  {
   "cell_type": "markdown",
   "metadata": {},
   "source": [
    "In this notebook, we aim to derive from first principles the expectation of the 2D power spectrum of foregrounds, specifically in the context of point-source foregrounds (we hope that this is intuitively generalisable to continuous foregrounds). In the process, we find that we require the covariance of the visibility, so that in effect we cover all required elements of the distribution. \n",
    "\n",
    "What differentiates this from previous work (in the CHIPS paper and Murray et al. 2017) is that we properly retain the structure of the $(u,v)$-gridding, and therefore retain the covariance between baselines.\n",
    "\n",
    "For all derivations here we will assume that sources have flat spectra, for simplicity. It should not be difficult to modify this in principle.\n",
    "\n",
    "We will run through a number of different approximations/special cases to see what effect each has.\n",
    "\n",
    "Namely, we will consider (listed in basic order of increasing complexity/generality):\n",
    "\n",
    "* Beam: Uniform, GB frequency-independent or dependent\n",
    "* Sky Distribution: single-source, non-stochastic uniform sky, stochastic (Poisson) uniform sky\n",
    "* Baseline layout and UV gridding: infinite baselines + dirac delta gridding, one baseline per square grid cell, infinite baselines + weighted gridding, finite baselines + weighted gridding"
   ]
  },
  {
   "cell_type": "markdown",
   "metadata": {},
   "source": [
    "The following is the master equation that we shall use for defining a visibility in the presence of many (point) sources:\n",
    "\n",
    "\\begin{equation}\n",
    "    \\tilde{V}(\\eta, \\mathbf{u}) = \\sum_{j=1}^{N_s} \\sum_{i=1}^{N_{\\rm bl}} S_j \\nu_0 \\int df \\phi(f) e^{-2\\pi i \\nu_0 f \\eta} \\frac{W_\\nu(\\mathbf{u} - f \\mathbf{u}_i)}{\\sum_{k=1}^{N_{\\rm bl}}W_\\nu(\\mathbf{u} - f \\mathbf{u}_k)}   B(\\mathbf{l}_j, \\nu) e^{-2\\pi i f \\mathbf{u}_i \\cdot\\mathbf{l}_j}.\n",
    "\\end{equation}\n",
    "\n",
    "Here $W$ is a window function that weights the gridding of visibilities in the UV plane (normalised so that the total weight is unity), $S$ is the flux-density of each source, $B$ is the primary beam, $u_i$ is the baseline length at some reference frequency $\\nu_0$, $f$ is the ratio of frequency to the reference, $f=\\nu_0/\\nu$, $\\phi(f)$ is the conjunction of taper and bandpass, and the sum is over all sources and baselines."
   ]
  },
  {
   "cell_type": "markdown",
   "metadata": {},
   "source": [
    "The power spectrum itself is an angular average over $\\mathbf{u}$. However, it is important to note that the average should take into account the weighting of each $u$ afforded by the baseline layout:\n",
    "\n",
    "\\begin{equation}\n",
    "    P(\\eta, u) = \\int_0^{\\pi} d\\theta \\frac{\\sum_{i=1}^{N_{\\rm bl}} W_0(\\mathbf{u} - \\mathbf{u}_i)}{\\int_0^{\\pi} d\\theta\\sum_{i=1}^{N_{\\rm bl}} W_0(\\mathbf{u} - \\mathbf{u}_i)} \\left|\\tilde{V}(\\eta, \\mathbf{u})\\right|^2\n",
    "\\end{equation}\n",
    "\n",
    "Note that this equation neglects the fact that baselines contribute differently to different bins at different frequency, and opts for normalising based on the reference frequency. We can fix that later.\n",
    "\n",
    "We only integrate over half a circle, since the other half is entirely redundant (any baseline configuration could be rather defined in one half of the UV plane). "
   ]
  },
  {
   "cell_type": "markdown",
   "metadata": {},
   "source": [
    "## Utilities"
   ]
  },
  {
   "cell_type": "code",
   "execution_count": 1,
   "metadata": {
    "ExecuteTime": {
     "end_time": "2018-01-11T16:22:20.414988Z",
     "start_time": "2018-01-11T16:22:19.847895Z"
    },
    "init_cell": true
   },
   "outputs": [
    {
     "ename": "ModuleNotFoundError",
     "evalue": "No module named 'powerbox'",
     "output_type": "error",
     "traceback": [
      "\u001b[0;31m---------------------------------------------------------------------------\u001b[0m",
      "\u001b[0;31mModuleNotFoundError\u001b[0m                       Traceback (most recent call last)",
      "\u001b[0;32m<ipython-input-1-81ce24df6177>\u001b[0m in \u001b[0;36m<module>\u001b[0;34m()\u001b[0m\n\u001b[1;32m      4\u001b[0m \u001b[0;32mimport\u001b[0m \u001b[0mnumpy\u001b[0m \u001b[0;32mas\u001b[0m \u001b[0mnp\u001b[0m\u001b[0;34m\u001b[0m\u001b[0m\n\u001b[1;32m      5\u001b[0m \u001b[0;34m\u001b[0m\u001b[0m\n\u001b[0;32m----> 6\u001b[0;31m \u001b[0;32mfrom\u001b[0m \u001b[0mpowerbox\u001b[0m\u001b[0;34m.\u001b[0m\u001b[0mdft\u001b[0m \u001b[0;32mimport\u001b[0m \u001b[0mfft\u001b[0m\u001b[0;34m\u001b[0m\u001b[0m\n\u001b[0m\u001b[1;32m      7\u001b[0m \u001b[0;32mfrom\u001b[0m \u001b[0mnumpy\u001b[0m\u001b[0;34m.\u001b[0m\u001b[0mfft\u001b[0m \u001b[0;32mimport\u001b[0m \u001b[0mfftfreq\u001b[0m\u001b[0;34m,\u001b[0m \u001b[0mfft2\u001b[0m\u001b[0;34m,\u001b[0m \u001b[0mfftshift\u001b[0m\u001b[0;34m\u001b[0m\u001b[0m\n\u001b[1;32m      8\u001b[0m \u001b[0;34m\u001b[0m\u001b[0m\n",
      "\u001b[0;31mModuleNotFoundError\u001b[0m: No module named 'powerbox'"
     ]
    }
   ],
   "source": [
    "%matplotlib inline\n",
    "import matplotlib.pyplot as plt\n",
    "from matplotlib.colors import LogNorm\n",
    "import numpy as np\n",
    "\n",
    "from powerbox.dft import fft\n",
    "from numpy.fft import fftfreq, fft2, fftshift\n",
    "\n",
    "from spore.mock.foregrounds import GalacticForegrounds\n",
    "from spore.model.spatial_dist import PureClustering_FlatSky\n",
    "from spore.model.spectral_index import UniversalDist\n",
    "from spore.model.beam import CircularGaussian\n",
    "from spore.model.foregrounds import _cov_fourier\n",
    "\n",
    "from astropy.constants import k_B\n",
    "\n",
    "\n",
    "from scipy.special import j1\n",
    "\n",
    "%load_ext fortranmagic\n",
    "\n",
    "nu0 = 150.\n",
    "f = np.linspace(1,1.6/1.5,100)\n",
    "\n",
    "s0 = 0.2\n",
    "mu1 = 1\n",
    "\n",
    "# Find a reasonable range of eta\n",
    "eta_base_large = fftfreq(1024, d=2./1024.) # Lots of fine channels\n",
    "eta_base_small = fftfreq(10, d=10./10.) # Few broad channels\n",
    "eta_base_large = eta_base_large[eta_base_large>0]\n",
    "eta_base_small = eta_base_small[eta_base_small>0]\n",
    "\n",
    "eta = np.logspace(np.log10(np.abs(eta_base_small).min()),np.log10(np.abs(eta_base_large).max()), 100)\n",
    "\n",
    "# Since eta is so close to reasonable eta, make them equivalent\n",
    "u = eta.copy()"
   ]
  },
  {
   "cell_type": "code",
   "execution_count": null,
   "metadata": {
    "ExecuteTime": {
     "end_time": "2018-01-11T16:22:20.416236Z",
     "start_time": "2018-01-11T16:22:19.856Z"
    },
    "init_cell": true
   },
   "outputs": [],
   "source": [
    "def power_from_vis(vis_nu, f, nu0):\n",
    "    res, eta = fft(nu0 * vis_nu, L = f[-1]- f[0], axes=(0,))\n",
    "    eta = eta[0]\n",
    "\n",
    "    res = np.abs(res)**2\n",
    "    res = res[len(f)/2+1:]\n",
    "    eta = eta[len(f)/2+1:]\n",
    "    return res, eta/nu0\n",
    "\n",
    "def plot_power(power, u, eta, vmin=None, u_is_logscale=True, eta_is_logscale=True):\n",
    "    if u_is_logscale:\n",
    "        umin = np.log10(u[0])\n",
    "        umax = np.log10(u[-1])\n",
    "    else:\n",
    "        umin = u[0]\n",
    "        umax = u[-1]\n",
    "        \n",
    "    if eta_is_logscale:\n",
    "        etamin = np.log10(eta[0])\n",
    "        etamax = np.log10(eta[-1])\n",
    "    else:\n",
    "        etamin = eta[0]\n",
    "        etamax = eta[-1]\n",
    "        \n",
    "\n",
    "    plt.imshow(power,origin='lower', norm=LogNorm(), extent = (umin,umax,etamin,etamax), vmin=vmin)\n",
    "    plt.xlabel(r\"$\\log_10 u$\")\n",
    "    plt.ylabel(r\"$\\eta$\")\n",
    "    \n",
    "    if not u_is_logscale:\n",
    "        plt.xscale('log')\n",
    "    if not eta_is_logscale:\n",
    "        plt.yscale('log')\n",
    "        \n",
    "    plt.colorbar()"
   ]
  },
  {
   "cell_type": "markdown",
   "metadata": {},
   "source": [
    "## Beam: Top-Hat"
   ]
  },
  {
   "cell_type": "markdown",
   "metadata": {
    "ExecuteTime": {
     "end_time": "2017-08-23T03:21:05.490797",
     "start_time": "2017-08-23T03:21:05.487398Z"
    }
   },
   "source": [
    "In this section, we consider the primary beam, $B(l)$ to be a top-hat out to l=1 (the horizon). "
   ]
  },
  {
   "cell_type": "markdown",
   "metadata": {},
   "source": [
    "In this case, the beam disappears:\n",
    "\n",
    "\\begin{align}\n",
    "    \\tilde{V}(\\eta, \\mathbf{u}) &= \\sum_{j=1}^{N_s} \\sum_{i=1}^{N_{\\rm bl}} S_j \\nu_0 \\int df e^{-2\\pi i \\nu_0 f \\eta} \\frac{W_\\nu(\\mathbf{u} - f \\mathbf{u}_i)}{\\sum_{k=1}^{N_{\\rm bl}}W_\\nu(\\mathbf{u} - f \\mathbf{u}_k)} e^{-2\\pi i f \\mathbf{u}_i \\cdot\\mathbf{l}_j}. \\nonumber \\\\\n",
    "    &= \\sum_{j=1}^{N_s} \\sum_{i=1}^{N_{\\rm bl}} S_j \\nu_0 \\int df e^{-2\\pi i f (\\nu_0  \\eta +\\mathbf{u}_i \\cdot\\mathbf{l}_j)} \\frac{W_\\nu(\\mathbf{u} - f \\mathbf{u}_i)}{\\sum_{k=1}^{N_{\\rm bl}}W_\\nu(\\mathbf{u} - f \\mathbf{u}_k)}\n",
    "\\end{align}"
   ]
  },
  {
   "cell_type": "markdown",
   "metadata": {},
   "source": [
    "### Sky-Distribution: Single-Source"
   ]
  },
  {
   "cell_type": "markdown",
   "metadata": {},
   "source": [
    "We consider just a single source in the sky, at position $(l_0, m_0)$ and with flux density $S_0$. Thus we have\n",
    "\n",
    "\\begin{equation}\n",
    "    \\tilde{V}(\\eta, \\mathbf{u}) = \\sum_{i=1}^{N_{\\rm bl}} S_0 \\nu_0 \\int df e^{-2\\pi i f (\\nu_0  \\eta +\\mathbf{u}_i \\cdot\\mathbf{l}_0)}\\frac{W_\\nu(\\mathbf{u} - f \\mathbf{u}_i)}{\\sum_{k=1}^{N_{\\rm bl}}W_\\nu(\\mathbf{u} - f \\mathbf{u}_k)}\n",
    "\\end{equation}"
   ]
  },
  {
   "cell_type": "markdown",
   "metadata": {},
   "source": [
    "#### Gridding: Dirac Delta"
   ]
  },
  {
   "cell_type": "markdown",
   "metadata": {},
   "source": [
    "If the weighting function is a dirac-delta, then the only way to have anything meaningful arise is by the extremely ideal assumption that there are baselines at *every* UV point. Thus throughout this exploration, a Dirac-Delta gridding will always be assumed to be accompanied by this assumption. \n",
    "\n",
    "In this case, the sum over baselines turns into an integral, which then contracts to a single value:\n",
    "\n",
    "\\begin{align}\n",
    "    \\tilde{V}(\\eta, \\mathbf{u}) &= S_0 \\nu_0 \\int df e^{-2\\pi i (f \\nu_0  \\eta + \\vec{u} \\cdot\\vec{l}_0)} \\nonumber \\\\\n",
    "    &= S_0 \\nu_0 e^{-2\\pi i  \\mathbf{u} \\cdot\\mathbf{l}_0} \\int df e^{-2\\pi i f \\nu_0  \\eta} \\nonumber \\\\\n",
    "    &= S_0 \\nu_0 e^{-2\\pi i  \\mathbf{u} \\cdot\\mathbf{l}_0} \\delta(\\nu_0 \\eta).\n",
    "\\end{align}"
   ]
  },
  {
   "cell_type": "markdown",
   "metadata": {},
   "source": [
    "Thus the power-spectrum, $\\tilde{V}\\tilde{V}^*$ is\n",
    "\n",
    "\\begin{equation}\n",
    "    P(\\eta, u) = S_0^2 \\nu_0^2 \\delta(\\eta).\n",
    "\\end{equation}\n",
    "\n",
    "Clearly, all of the power is at $\\eta = 0$ in such a case. This is most likely due to the \"perfect\" UV sampling.\n",
    "\n",
    "While restricting the frequency range to a small finite range will smear out the delta function, it will not induce a wedge, as the integral has no dependence on $u$."
   ]
  },
  {
   "cell_type": "markdown",
   "metadata": {},
   "source": [
    "#### Gridding: NGP"
   ]
  },
  {
   "cell_type": "markdown",
   "metadata": {},
   "source": [
    "In this case, we make a very restrictive assumption. That is, we assume that the UV gridding is done via nearest-grid-point assignment on a rectilinear grid, and furthermore that each baseline belongs to the same grid-cell over the entire bandwidth (i.e. there is a one-to-one relationship between baselines and grid cells). We note that this assumption, with the extra condition that the baselines at $\\nu_0$ define the \"central value\" of each bin,  is precisely that of the \"Delay Approximation\", so that the frequency transform is over baselines rather than frequencies.\n",
    "\n",
    "**Note: ** It would be possible to have NGP gridding with arbitrary baseline layouts, but the maths gets a little complicated, so we delay such a calculation for later. In any case, this *shouldn't* be how the calculation is done.\n",
    "\n",
    "In this case then we have $\\mathbf{u}_i = \\mathbf{u}$ and $W = 1$:\n",
    "\n",
    "\\begin{equation}\n",
    "    \\tilde{V}(\\eta, \\mathbf{u}) =  S_0 \\nu_0 \\int df e^{-2\\pi i f (\\nu_0  \\eta +\\mathbf{u} \\cdot\\vec{l}_0)} = S_0 \\nu_0 \\delta(\\nu_0 \\eta + \\mathbf{u}\\cdot\\mathbf{l}_0) e^{-2\\pi i \\mathbf{u}\\cdot\\mathbf{l}_0}\n",
    "\\end{equation}\n"
   ]
  },
  {
   "cell_type": "markdown",
   "metadata": {},
   "source": [
    "The angular integration is a bit messy here, because \"square pegs\" don't fit in \"round holes\". Nevertheless, assuming the annulus we care about neatly captures only bins defined at the same $u$, each bin has the same weight, since exactly one baseline is in each, thus for the power spectrum, we have\n",
    "\n",
    "$$ P(\\eta, u) = S_0^2 \\nu_0^2 \\frac{1}{2\\pi} \\int  d\\theta \\delta(\\nu_0\\eta + \\mathbf{u}\\cdot \\mathbf{l}_0).$$\n",
    "\n",
    "Let $\\phi$ be the angle between $\\mathbf{u}$ and $\\mathbf{l_0}$. The argument in the delta is zero when \n",
    "\n",
    "$$ \\phi = \\cos^{-1} \\left(-\\frac{\\nu_0\\eta}{u l_0}\\right). $$\n",
    "\n",
    "This only has a solution when\n",
    "\n",
    "$$ \\left|\\frac{\\nu_0 \\eta}{ul_0}\\right| \\leq 1, $$\n",
    "\n",
    "So the power spectrum is\n",
    "\n",
    "$$ P(\\eta, u ) = \\begin{cases} \\frac{S_0^2 \\nu_0^2}{2\\pi} & \\left|\\frac{\\nu_0 \\eta}{ul_0}\\right| \\leq 1 \\\\\n",
    "                               0 & {\\rm otherwise} \\end{cases}. $$\n",
    "\n",
    "This perfectly traces out a wedge with slope 1 in the $u-\\eta$ plane."
   ]
  },
  {
   "cell_type": "markdown",
   "metadata": {},
   "source": [
    "Since this \"semi-realistic\" example works out so nicely, it is convenient to add some more realism by restricting the bandwidth of the observation. Let $\\phi$ be a \"taper + bandpass\" function, which is 1 at 0. In this exploration, whenever we use this function analytically, it will either be a step function, or a Gaussian for simplicity:\n",
    "\n",
    "$$ \\phi(f) = e^{-f^2/2\\tau}. $$\n",
    "\n",
    "In this case, the visibility is\n",
    "\n",
    "$$ \\tilde{V}(\\eta, \\mathbf{u}) =  S_0 \\nu_0 2 \\pi \\tau^2 e^{-2\\pi^2\\tau^2(\\nu_0\\eta + \\mathbf{u}\\cdot\\mathbf{l}_0)^2} e^{-2\\pi i f_: (\\nu_0\\eta + \\mathbf{u}\\cdot\\mathbf{l}_0)}, $$\n",
    "\n",
    "where $f_:$ is the central frequency of the band (as a ratio to $\\nu_0$). The power spectrum is thus\n",
    "\n",
    "$$ P(\\eta, u) = S_0^2 \\nu_0^2 2\\pi \\tau^4 \\int  d\\theta e^{-2\\pi^2\\tau^2(\\nu_0\\eta + \\mathbf{u}\\cdot\\mathbf{l}_0)^2}.$$\n",
    "\n",
    "As far as I can tell, there is no analytic solution to this, however, we can see the general trend of the solution by looking at limits in $u$ and $l$. \n",
    "\n",
    "Clearly, if $l$ is 0, then there is no $u$ dependence, and thus there is no wedge. For $l>0$ and rising, the effect of the $u$ dependence becomes stronger. \n",
    "\n",
    "For $u \\rightarrow \\infty$, the power is constant for all $\\eta$ (i.e. it fills the whole space), but for $u\\rightarrow 0$, the power has an exponential drop-off dependent on the parameters of the instrument (i.e. power is contained to low $\\eta$). Thus we see that something like a wedge will occur, but it will not be as obvious as in the infinite-frequency case."
   ]
  },
  {
   "cell_type": "markdown",
   "metadata": {},
   "source": [
    "#### Gridding: Weighted Gridding"
   ]
  },
  {
   "cell_type": "markdown",
   "metadata": {},
   "source": [
    "I think the only real weighted gridding worth looking at is where the weights are given by the Fourier-space beam kernel. In this case, the fourier-space beam is a delta-function, so we really have covered this question already. However, here we have a finite number of baselines. In this case, it is extremely unlikely to ever get a baseline precisely matching the gridded $u$, so typically the visibility will be zero.\n",
    "\n",
    "For this reason, a derivation of the weighted gridding is deferred until the Gaussian Beam."
   ]
  },
  {
   "cell_type": "markdown",
   "metadata": {},
   "source": [
    "### Sky-Distribution: Non-Stochastic Uniform"
   ]
  },
  {
   "cell_type": "markdown",
   "metadata": {},
   "source": [
    "Now we consider a continuous distribution of sources which has constant brightness across the sky. This is the same as an infinitely deep sum of sources as in the previous section.\n",
    "\n",
    "\\begin{equation}\n",
    "    \\tilde{V}(\\eta, \\mathbf{u}) = \\sum_{i=1}^{N_{\\rm bl}} \\bar{S} \\nu_0 \\int d^2\\mathbf{l} \\int df e^{-2\\pi i f (\\nu_0  \\eta +\\mathbf{u}_i \\cdot\\mathbf{l})} \\frac{W_\\nu(\\mathbf{u} - f \\mathbf{u}_i)}{\\sum_{k=1}^{N_{\\rm bl}}W_\\nu(\\mathbf{u} - f \\mathbf{u}_k)}\n",
    "\\end{equation}"
   ]
  },
  {
   "cell_type": "markdown",
   "metadata": {},
   "source": [
    "Immediately performing the integral over $\\mathbf{l}$, we have \n",
    "\n",
    "\\begin{equation}\n",
    "    \\tilde{V}(\\eta, \\mathbf{u}) = \\sum_{i=1}^{N_{\\rm bl}} \\bar{S} \\nu_0 \\int df \\frac{J_1(2\\pi fu_i)}{fu_i}e^{-2\\pi i f \\nu_0  \\eta} \\frac{W_\\nu(\\mathbf{u} - f \\mathbf{u}_i)}{\\sum_{k=1}^{N_{\\rm bl}}W_\\nu(\\mathbf{u} - f \\mathbf{u}_k)}\n",
    "\\end{equation}"
   ]
  },
  {
   "cell_type": "markdown",
   "metadata": {},
   "source": [
    "#### Gridding: Dirac Delta"
   ]
  },
  {
   "cell_type": "markdown",
   "metadata": {},
   "source": [
    "If the weighting function is a dirac-delta, but we have baselines at every UV point, then the sum over baselines turns into an integral, which then contracts to a single value:\n",
    "\n",
    "\\begin{align}\n",
    "    \\tilde{V}(\\eta, \\mathbf{u}) &= \\bar{S} \\nu_0 \\frac{J_1(2\\pi u)}{u} \\int df e^{-2\\pi i  f \\nu_0  \\eta} \\nonumber \\\\\n",
    "    &= S_0 \\nu_0 \\frac{J_1(2\\pi u)}{u} \\delta(\\nu_0 \\eta) \\nonumber \\\\\n",
    "\\end{align}"
   ]
  },
  {
   "cell_type": "markdown",
   "metadata": {},
   "source": [
    "In this case, the integral over $\\theta$ is very simple, as there is no $\\theta$ dependence:\n",
    "\n",
    "\\begin{equation}\n",
    "    P(\\eta, u) = S_0^2 \\nu_0^2 \\frac{J_1^2(2\\pi u)}{u^2}\\delta(\\eta).\n",
    "\\end{equation}\n",
    "\n",
    "Clearly, all of the power is at $\\eta = 0$, again because we are not mixing frequencies."
   ]
  },
  {
   "cell_type": "markdown",
   "metadata": {},
   "source": [
    "#### Gridding: NGP"
   ]
  },
  {
   "cell_type": "markdown",
   "metadata": {},
   "source": [
    "(See corresponding section under single-source dist. for details of assumptions here).\n",
    "\n",
    "In this case then we have $\\mathbf{u}_i = \\mathbf{u}$ and $W = 1$:\n",
    "\n",
    "\\begin{equation}\n",
    "    \\tilde{V}(\\eta, u) = \\bar{S} \\nu_0 \\int df \\frac{J_1(2\\pi fu)}{fu}e^{-2\\pi i f \\nu_0  \\eta}\n",
    "\\end{equation}\n"
   ]
  },
  {
   "cell_type": "markdown",
   "metadata": {},
   "source": [
    "Here the finitude of the bandwidth is quite important. I will not attempt to do the analytic calculation using gaussian $\\phi$, as it is doomed to failure. However, we can do it numerically."
   ]
  },
  {
   "cell_type": "code",
   "execution_count": 42,
   "metadata": {
    "ExecuteTime": {
     "end_time": "2017-08-23T07:12:17.425076",
     "start_time": "2017-08-23T07:12:17.083818Z"
    }
   },
   "outputs": [
    {
     "data": {
      "image/png": "[encoded data removed]",
      "text/plain": [
       "<matplotlib.figure.Figure at 0x7f7239f2d1d0>"
      ]
     },
     "metadata": {},
     "output_type": "display_data"
    }
   ],
   "source": [
    "sbar = 1\n",
    "fu = np.outer(f,u)\n",
    "\n",
    "fnc = j1(2*np.pi*fu)/fu\n",
    "\n",
    "power_th_ns_1b, eta = power_from_vis(sbar*fnc, f, nu0)\n",
    "plot_power(power_th_ns_1b, u, eta)"
   ]
  },
  {
   "cell_type": "markdown",
   "metadata": {},
   "source": [
    "This plot has a kind of \"wedge\" but it is not very highlighted. If instead we had integrated over a wider range of f:"
   ]
  },
  {
   "cell_type": "code",
   "execution_count": 44,
   "metadata": {
    "ExecuteTime": {
     "end_time": "2017-08-23T07:12:39.659934",
     "start_time": "2017-08-23T07:12:39.402390Z"
    }
   },
   "outputs": [
    {
     "data": {
      "image/png": "[encoded data removed]",
      "text/plain": [
       "<matplotlib.figure.Figure at 0x7f7239f2f550>"
      ]
     },
     "metadata": {},
     "output_type": "display_data"
    }
   ],
   "source": [
    "sbar = 1\n",
    "ff = np.linspace(0.001,1.6/1.5, 100)\n",
    "\n",
    "fu = np.outer(ff,u)\n",
    "\n",
    "fnc = j1(2*np.pi*fu)/fu\n",
    "\n",
    "power_th_ns_1b_ff, eta = power_from_vis(sbar*fnc, ff, nu0)\n",
    "plot_power(power_th_ns_1b_ff, u, eta)"
   ]
  },
  {
   "cell_type": "markdown",
   "metadata": {},
   "source": [
    "Here the wedge is a lot clearer. We could have done a symmetric range of $f$ (though it would have been unphysical):"
   ]
  },
  {
   "cell_type": "code",
   "execution_count": 45,
   "metadata": {
    "ExecuteTime": {
     "end_time": "2017-08-23T07:12:49.196814",
     "start_time": "2017-08-23T07:12:48.743781Z"
    }
   },
   "outputs": [
    {
     "data": {
      "image/png": "[encoded data removed]",
      "text/plain": [
       "<matplotlib.figure.Figure at 0x7f7239c61150>"
      ]
     },
     "metadata": {},
     "output_type": "display_data"
    }
   ],
   "source": [
    "sbar = 1\n",
    "ff = np.linspace(-1.6/1.5,1.6/1.5, 100)\n",
    "\n",
    "fu = np.outer(ff,u)\n",
    "\n",
    "fnc = j1(2*np.pi*fu)/fu\n",
    "\n",
    "power_th_ns_1b_ff, eta = power_from_vis(sbar*fnc, ff, nu0)\n",
    "plot_power(power_th_ns_1b_ff, u, eta)"
   ]
  },
  {
   "cell_type": "markdown",
   "metadata": {},
   "source": [
    "#### Gridding: Weighted"
   ]
  },
  {
   "cell_type": "markdown",
   "metadata": {},
   "source": [
    "Refer to previous section on this -- it is trivially zero because the weight function is delta."
   ]
  },
  {
   "cell_type": "markdown",
   "metadata": {},
   "source": [
    "### Sky-Distribution: Stochastic  Uniform"
   ]
  },
  {
   "cell_type": "markdown",
   "metadata": {},
   "source": [
    "When the sky is stochastic, we can only compute the exact power-spectrum for a *realisation* of the sky, which is not that helpful. However, we can do better than this by computing the *expectation* of the power spectrum for a given sky model. In this case, we consider only a sky with Poisson-distributed point sources which are uniformly distributed."
   ]
  },
  {
   "cell_type": "markdown",
   "metadata": {},
   "source": [
    "The first thing to realise is that the expectation of the power spectrum is\n",
    "\n",
    "\\begin{equation}\n",
    "    \\langle P(\\eta, \\mathbf{u}) \\rangle = \\langle \\tilde{V} \\tilde{V}^* \\rangle = \\langle \\tilde{V} \\rangle \\langle \\tilde{V}^* \\rangle + {\\rm Var}(\\tilde{V}).\n",
    "\\end{equation}\n",
    "\n",
    "The first term on the RHS is precisely what we have calculated in the previous sections (for this beam type), but we need to also calculate the second term.\n",
    "\n",
    "Note that the initial equation for $P(\\eta, u)$ involves averaging over weighted values of $P(\\eta, \\mathbf{u})$. Since the weights themselves are not stochastic (since we are given a set of baselines and grid-points), the expectation of the averaged power is merely the weighted sum of the expectation of the binned-power above."
   ]
  },
  {
   "cell_type": "markdown",
   "metadata": {},
   "source": [
    "Here we go slightly further than what is done in Murray et al. (2017). There, the covariance *between frequencies* for the *same baseline* is determined. Here, we desire the variance of a single *bin* in $(\\eta, u)$-space. The variance of a sum is merely the sum of covariance of all pairs. The only stochastic part is $dN/dS$, and so we may take the covariance operator through to there, bringing everything else out. The source counts are independent for different bins of $S$ and $l$, but are not independent over $\\nu$ or baselines. Ultimately, we end up with \n",
    "\n",
    "\\begin{align}\n",
    "    {\\rm Var}\\left(\\tilde{V}(\\eta, \\mathbf{u})\\right) = &\\sum_{i_1=1}^{N_{\\rm bl}}\\sum_{i_2=1}^{N_{\\rm bl}} \\nu_0^2 \\int d f' e^{-2\\pi i f' \\nu_0 \\eta} \\int df'' e^{+2\\pi i f'' \\nu_0 \\eta} \\frac{W'(\\mathbf{u} - f'\\mathbf{u}_{i_1}) W''(\\mathbf{u} - f''\\mathbf{u}_{i_2})}{\\sum_{k=1}^{N_{\\rm bl}}W'(\\mathbf{u} - f' \\mathbf{u}_k)\\sum_{k=1}^{N_{\\rm bl}}W''(\\mathbf{u} - f'' \\mathbf{u}_k)} \\nonumber \\\\\n",
    "    &\\times \\mu_2 \\int d^2\\mathbf{l} B'B'' e^{-2\\pi i \\mathbf{l}\\cdot (f' \\mathbf{u}_{i_1} -f'' \\mathbf{u}_{i_2})}.\n",
    "\\end{align}"
   ]
  },
  {
   "cell_type": "markdown",
   "metadata": {},
   "source": [
    "This is a fairly involved expression, and clearly it is numerically expensive -- ultimately it is 6-dimensional sum for each $\\eta$ and $u$. Furthermore, it is only applicable to spatially uncorrelated sky models. \n",
    "\n",
    "While we will always try to solve this equation explicitly if possible, most choice for $B$ and $W$ do not admit analytic solutions. In this case it is more numerically feasible to use the following identity. If $\\mathbf{y} = \\mathbf{F}\\mathbf{x}$, then:\n",
    "\n",
    "$$ {\\rm Cov}(\\mathbf{y}) = \\mathbf{F}^\\dagger {\\rm Cov}(\\mathbf{x}) \\mathbf{F}.$$\n",
    "\n",
    "Letting $\\mathbf{F}$ be the DFT matrix, then the covariance of $\\tilde{V}$ can be found using the above relation on $V$. "
   ]
  },
  {
   "cell_type": "markdown",
   "metadata": {},
   "source": [
    "In this case, where the beam is a top-hat, it can be removed and the integral over $\\mathbf{l}$ performed immediately:\n",
    "\n",
    "\\begin{equation}\n",
    "    {\\rm Var}\\left(\\tilde{V}(\\eta, \\mathbf{u})\\right) = \\sum_{i_1=1}^{N_{\\rm bl}}\\sum_{i_2=1}^{N_{\\rm bl}} \\mu_2 \\nu_0^2 \\int d f' e^{-2\\pi i f' \\nu_0 \\eta} \\int df'' e^{+2\\pi i f'' \\nu_0 \\eta} \\frac{W'(\\mathbf{u} - f'\\mathbf{u}_{i_1}) W''(\\mathbf{u} - f''\\mathbf{u}_{i_2})}{\\sum_{k=1}^{N_{\\rm bl}}W'(\\mathbf{u} - f' \\mathbf{u}_k)\\sum_{k=1}^{N_{\\rm bl}}W''(\\mathbf{u} - f'' \\mathbf{u}_k)} \\frac{J_1(2\\pi |f'\\mathbf{u}_{i_1} -f'' \\mathbf{u}_{i_2}|)}{|f'\\mathbf{u}_{i_1} -f'' \\mathbf{u}_{i_2}|}.\n",
    "\\end{equation}"
   ]
  },
  {
   "cell_type": "markdown",
   "metadata": {},
   "source": [
    "#### Gridding: Dirac-Delta"
   ]
  },
  {
   "cell_type": "markdown",
   "metadata": {},
   "source": [
    "If the weighting function is a dirac-delta, but we have baselines at every UV point, then the sum over baselines turns into an integral, which then contracts to a single value. The argument of the bessel function goes to zero, and at that point, its ratio goes to $\\pi$. \n",
    "\n",
    "\\begin{equation}\n",
    "    {\\rm Var}\\left(\\tilde{V}(\\eta, \\mathbf{u})\\right) = \\pi \\mu_2 \\nu_0^2 \\int d f' e^{-2\\pi i f' \\nu_0 \\eta} \\int df'' e^{+2\\pi i f'' \\nu_0 \\eta}\n",
    "\\end{equation}"
   ]
  },
  {
   "cell_type": "markdown",
   "metadata": {},
   "source": [
    "Each of the integrals over frequency becomes a delta function (**note: this only occurs for an infinite bandwidth**), which merely reduces to:\n",
    "\n",
    "$$  {\\rm Var}\\left(\\tilde{V}(\\eta, \\mathbf{u})\\right) = \\pi \\mu_2 \\nu_0^2 \\delta(\\eta). $$"
   ]
  },
  {
   "cell_type": "markdown",
   "metadata": {},
   "source": [
    "Thus the total power-spectrum is\n",
    "\\begin{equation}\n",
    "    P(\\eta, u) = \\left(\\pi\\mu_2 + \\mu_1^2\\frac{J_1^2(2\\pi u)}{u^2} \\right) \\nu_0^2 \\delta(\\eta).\n",
    "\\end{equation}\n",
    "\n",
    "Clearly, all of the power is at $\\eta = 0$ in such a case. Thus, in the most general sense, the lack of mixing of frequencies leads to a lack of wedge."
   ]
  },
  {
   "cell_type": "markdown",
   "metadata": {},
   "source": [
    "#### Gridding: NGP"
   ]
  },
  {
   "cell_type": "markdown",
   "metadata": {},
   "source": [
    "(See corresponding section under single-source dist. for details of assumptions here).\n",
    "\n",
    "In this case then we have $\\mathbf{u}_i = \\mathbf{u}$ and $W = 1$:\n",
    "\n",
    "\\begin{equation}\n",
    "    {\\rm Var}\\left(\\tilde{V}(\\nu, \\mathbf{u})\\right) = \\pi \\mu_2 \\nu_0^2 \\frac{J_1(2\\pi f_\\nu u) }{f_\\nu u}\n",
    "\\end{equation}\n"
   ]
  },
  {
   "cell_type": "markdown",
   "metadata": {},
   "source": [
    "Again, the finitude of the bandwidth is quite important. Note also that the variance depends solely on $u$, and so the angular average is very simple."
   ]
  },
  {
   "cell_type": "code",
   "execution_count": 61,
   "metadata": {
    "ExecuteTime": {
     "end_time": "2017-08-23T07:28:26.748255",
     "start_time": "2017-08-23T07:28:26.744515Z"
    },
    "collapsed": true
   },
   "outputs": [],
   "source": [
    "def jinc(x):\n",
    "    if np.abs(x) < 1e-8:\n",
    "        return 0.5\n",
    "    else:\n",
    "        return j1(x)/x\n",
    "    \n",
    "jinc = np.vectorize(jinc)"
   ]
  },
  {
   "cell_type": "code",
   "execution_count": 67,
   "metadata": {
    "ExecuteTime": {
     "end_time": "2017-08-23T07:30:58.514484",
     "start_time": "2017-08-23T07:30:54.095276Z"
    }
   },
   "outputs": [
    {
     "name": "stdout",
     "output_type": "stream",
     "text": [
      "(300, 49, 49)\n",
      "(49, 300)\n"
     ]
    },
    {
     "data": {
      "image/png": "[encoded data removed]",
      "text/plain": [
       "<matplotlib.figure.Figure at 0x7f72391bea10>"
      ]
     },
     "metadata": {},
     "output_type": "display_data"
    }
   ],
   "source": [
    "mu2 = 1\n",
    "\n",
    "fnu = np.add.outer(f,-f)\n",
    "ufnu = np.einsum(\"i,jk -> ijk\", u, fnu)\n",
    "\n",
    "cov_nu = np.pi* mu2 * nu0**2 * 2*np.pi * jinc(2*np.pi*ufnu)\n",
    "cov_eta = _cov_fourier(cov_nu, dx = f[1]-f[0])\n",
    "cov_eta = np.diagonal(cov_eta.T).T\n",
    "\n",
    "plot_power(cov_eta, u, eta)"
   ]
  },
  {
   "cell_type": "markdown",
   "metadata": {},
   "source": [
    "The variance has a definite wedge. When plotting in conjunction with the expectation part:"
   ]
  },
  {
   "cell_type": "code",
   "execution_count": 69,
   "metadata": {
    "ExecuteTime": {
     "end_time": "2017-08-23T07:32:46.710385",
     "start_time": "2017-08-23T07:32:46.163803Z"
    }
   },
   "outputs": [
    {
     "data": {
      "image/png": "[encoded data removed]",
      "text/plain": [
       "<matplotlib.figure.Figure at 0x7f723dc3fe50>"
      ]
     },
     "metadata": {},
     "output_type": "display_data"
    }
   ],
   "source": [
    "plot_power(cov_eta+power_th_ns_1b, u, eta)"
   ]
  },
  {
   "cell_type": "markdown",
   "metadata": {},
   "source": [
    "#### Gridding: Weighted"
   ]
  },
  {
   "cell_type": "markdown",
   "metadata": {},
   "source": [
    "This can again be neglected in this section."
   ]
  },
  {
   "cell_type": "markdown",
   "metadata": {},
   "source": [
    "## Beam: Frequency-Independent Gaussian"
   ]
  },
  {
   "cell_type": "markdown",
   "metadata": {},
   "source": [
    "For this entire section, we will consider the primary beam to be\n",
    "\n",
    "$$ B(l) = e^{-l^2/2\\sigma^2}. $$\n",
    "\n",
    "In this case we can take the extent of $l$ to be infinite, since the beam truncates things nicely (in practice, this beam cannot be true, nor can objects exist at $l>1$). "
   ]
  },
  {
   "cell_type": "markdown",
   "metadata": {},
   "source": [
    "In this case, the beam comes outside the $\\nu$ integral:\n",
    "\n",
    "\\begin{align}\n",
    "    \\tilde{V}(\\eta, \\mathbf{u}) &= \\sum_{j=1}^{N_s} \\sum_{i=1}^{N_{\\rm bl}} S_j B(l_j) \\nu_0 \\int df e^{-2\\pi i \\nu_0 f \\eta} \\frac{W_\\nu(\\mathbf{u} - f \\mathbf{u}_i)}{\\sum_{k=1}^{N_{\\rm bl}}W_\\nu(\\mathbf{u} - f \\mathbf{u}_k)} e^{-2\\pi i f \\mathbf{u}_i \\cdot\\mathbf{l}_j}. \\nonumber \\\\\n",
    "    &= \\sum_{j=1}^{N_s} \\sum_{i=1}^{N_{\\rm bl}} S_j B(l_j) \\nu_0 \\int df e^{-2\\pi i f (\\nu_0  \\eta +\\mathbf{u}_i \\cdot\\mathbf{l}_j)} \\frac{W_\\nu(\\mathbf{u} - f \\mathbf{u}_i)}{\\sum_{k=1}^{N_{\\rm bl}}W_\\nu(\\mathbf{u} - f \\mathbf{u}_k)}\n",
    "\\end{align}"
   ]
  },
  {
   "cell_type": "markdown",
   "metadata": {},
   "source": [
    "### Sky-Distribution: Single-Source"
   ]
  },
  {
   "cell_type": "markdown",
   "metadata": {},
   "source": [
    "We consider just a single source in the sky, at position $(l_0, m_0)$ and with flux density $S_0$. Thus we have\n",
    "\n",
    "\\begin{equation}\n",
    "    \\tilde{V}(\\eta, \\mathbf{u}) = \\sum_{i=1}^{N_{\\rm bl}} S_0 \\nu_0 B(l_0)\\int df e^{-2\\pi i f (\\nu_0  \\eta +\\mathbf{u}_i \\cdot\\mathbf{l}_0)} \\frac{W_\\nu(\\mathbf{u} - f \\mathbf{u}_i)}{\\sum_{k=1}^{N_{\\rm bl}}W_\\nu(\\mathbf{u} - f \\mathbf{u}_k)}\n",
    "\\end{equation}"
   ]
  },
  {
   "cell_type": "markdown",
   "metadata": {},
   "source": [
    "#### Gridding: Dirac Delta"
   ]
  },
  {
   "cell_type": "markdown",
   "metadata": {},
   "source": [
    "It is clear from the top-hat section that this will not yield a wedge."
   ]
  },
  {
   "cell_type": "markdown",
   "metadata": {},
   "source": [
    "#### Gridding: NGP"
   ]
  },
  {
   "cell_type": "markdown",
   "metadata": {},
   "source": [
    "We refer back to the corresponding top-hat beam section for this, as the only difference is that the power is further weighted by a beam squared at $l_0$. That is, the wedge is very clear."
   ]
  },
  {
   "cell_type": "markdown",
   "metadata": {},
   "source": [
    "#### Gridding: Weighted *"
   ]
  },
  {
   "cell_type": "markdown",
   "metadata": {},
   "source": [
    "Since this is the first time that we have encountered a weighting function that is useful, we will here derive the basic equations. We will exclusively use a weighting function which is proportional to the the fourier beam kernel:\n",
    "\n",
    "$$ W \\propto \\hat{B}. $$\n",
    "\n",
    "In this single-source case we have\n",
    "\n",
    "\\begin{equation}\n",
    "    \\tilde{V}(\\eta, \\mathbf{u}) = \\sum_{i=1}^{N_{\\rm bl}} S_0 \\nu_0 B(l_0)\\int df e^{-2\\pi i f (\\nu_0  \\eta +\\mathbf{u}_i \\cdot\\mathbf{l}_0)} \\frac{\\hat{B}(\\mathbf{u} - f \\mathbf{u}_i)}{\\sum_{k=1}^{N_{\\rm bl}}\\hat{B}(\\mathbf{u} - f \\mathbf{u}_k)}\n",
    "\\end{equation}"
   ]
  },
  {
   "cell_type": "markdown",
   "metadata": {},
   "source": [
    "Without knowing precisely where the baselines are, there is not much more that can be done here. The frequency transform includes the sum of beam kernels, which are dependent on the frequency and also the baseline layout.\n",
    "\n",
    "There is the possibility to specify in some way the baseline layout here, but for simplicity we will defer doing so until the next section, in which the sky itself is considered to be symmetric, which simplifies many of the calculations."
   ]
  },
  {
   "cell_type": "markdown",
   "metadata": {},
   "source": [
    "### Sky-Distribution: Non-Stochastic Uniform"
   ]
  },
  {
   "cell_type": "markdown",
   "metadata": {},
   "source": [
    "Here we start with:\n",
    "\n",
    "\\begin{equation}\n",
    "    \\tilde{V}(\\eta, u) = \\sum_{i=1}^{N_{\\rm bl}} \\bar{S} \\nu_0 \\int d^2\\mathbf{l} B(l) \\int df e^{-2\\pi i f (\\nu_0  \\eta +\\mathbf{u}_i \\cdot\\mathbf{l})} \\frac{W_\\nu(\\mathbf{u} - f \\mathbf{u}_i)}{\\sum_{k=1}^{N_{\\rm bl}}W_\\nu(\\mathbf{u} - f \\mathbf{u}_k)}\n",
    "\\end{equation}"
   ]
  },
  {
   "cell_type": "markdown",
   "metadata": {},
   "source": [
    "Immediately performing the integral over $\\mathbf{l}$, we have \n",
    "\n",
    "\\begin{equation}\n",
    "    \\tilde{V}(\\eta, u) = \\sum_{i=1}^{N_{\\rm bl}} \\bar{S} \\nu_0 \\int df \\hat{B}(fu_i) e^{-2\\pi i f \\nu_0  \\eta} \\frac{W_\\nu(\\mathbf{u} - f \\mathbf{u}_i)}{\\sum_{k=1}^{N_{\\rm bl}}W_\\nu(\\mathbf{u} - f \\mathbf{u}_k)},\n",
    "\\end{equation}\n",
    "\n",
    "where \n",
    "\n",
    "$$ \\hat{B}(fu_i) = y^2 e^{-\\pi y^2 f^2 u_i^2}, $$\n",
    "\n",
    "with $y^2 = 2 \\pi \\sigma^2$."
   ]
  },
  {
   "cell_type": "markdown",
   "metadata": {},
   "source": [
    "#### Gridding: Dirac Delta"
   ]
  },
  {
   "cell_type": "markdown",
   "metadata": {},
   "source": [
    "It is clear from the top-hat case that this cannot exhibit a wedge."
   ]
  },
  {
   "cell_type": "markdown",
   "metadata": {},
   "source": [
    "#### Gridding: NGP"
   ]
  },
  {
   "cell_type": "markdown",
   "metadata": {},
   "source": [
    "(See corresponding section under single-source dist. for details of assumptions here).\n",
    "\n",
    "In this case then we have $\\mathbf{u}_i = \\mathbf{u}$ and $W = 1$:\n",
    "\n",
    "\\begin{equation}\n",
    "    \\tilde{V}(\\eta, u) = \\bar{S} y^2 \\nu_0 \\int df   e^{-\\pi y^2 f^2 u^2}e^{-2\\pi i f \\nu_0  \\eta}\n",
    "\\end{equation}\n"
   ]
  },
  {
   "cell_type": "markdown",
   "metadata": {},
   "source": [
    "Again, here the finitude of the bandwidth is actually quite important."
   ]
  },
  {
   "cell_type": "markdown",
   "metadata": {},
   "source": [
    "We will do three things. Firstly, the entire transform just leaves a Gaussian:\n",
    "\n",
    "\\begin{equation}\n",
    "    \\tilde{V}(\\eta, u) = \\mu_1  \\frac{\\nu_0}{u^2} e^{-\\pi \\frac{\\nu_0^2 \\eta^2}{y^2u^2}},\n",
    "\\end{equation}\n",
    "\n",
    "with power spectrum:\n",
    "\n",
    "\\begin{equation}\n",
    "    P(\\eta, u) = \\mu^2_1  \\frac{\\nu^2_0}{u^4} e^{-2\\pi \\frac{\\nu_0^2 \\eta^2}{y^2u^2}}.\n",
    "\\end{equation}\n",
    "\n",
    "This definitely has a wedge, provided by the $\\eta/u$ in the exponent of the power. "
   ]
  },
  {
   "cell_type": "markdown",
   "metadata": {},
   "source": [
    "Now let $\\phi$ be a step function. \n",
    "\n",
    "Then the power is\n",
    "\n",
    "$$ P(\\eta, u) = \\bar{S}^2 y^4 \\nu_0^2 \\frac{\\exp\\left(-2\\pi (\\nu_0 \\eta/ y u)^2 \\right)}{4\\pi y^2 u^2} \\left|{\\rm erf}\\left.\\left(i\\sqrt{\\pi} \\frac{\\nu_0\\eta}{yu} + \\sqrt{\\pi} y u f\\right)\\right|_{f_{\\rm min}}^{f_{\\rm max}}\\right|^2. $$"
   ]
  },
  {
   "cell_type": "markdown",
   "metadata": {},
   "source": [
    "Now let $\\phi$ be a Gaussian,  with width $\\tau$ in $f$. Then the power is\n",
    "\n",
    "\\begin{equation}\n",
    "    P(\\eta, u) = \\frac{\\mu_1^2 \\pi y^4 \\nu_0^2}{1/2\\tau^2 + \\pi y^2 u^2} \\exp\\left(-\\frac{1}{\\pi y^2 u^2 + 1/2\\tau^2}\\left(\\omega^2/2 + \\pi y^2u^2 f_:^2/\\tau^2 \\right)\\right)\n",
    "\\end{equation}\n",
    "\n",
    "where $f_:$ is the central frequency of the band, $\\omega = 2\\pi \\nu_0 \\eta$ and $y = 2\\pi \\sigma^2$."
   ]
  },
  {
   "cell_type": "markdown",
   "metadata": {},
   "source": [
    "Particularly when we use a Gaussian taper, we can see the behaviour of the system. For instance, if $\\tau \\rightarrow \\infty$ (i.e. the bandwidth becomes infinite), then the power spectrum follows the same kind of spectrum as the infinite transform above, which shows a clear wedge (i.e. the $\\eta/u$ in the exponent).\n",
    "\n",
    "Conversely, if $\\tau \\rightarrow 0$, then the entire power goes to zero, but it does so more and more without a wedge (see plot below)."
   ]
  },
  {
   "cell_type": "code",
   "execution_count": 9,
   "metadata": {
    "ExecuteTime": {
     "end_time": "2017-10-01T15:40:38.537696",
     "start_time": "2017-10-01T15:40:38.466537Z"
    }
   },
   "outputs": [],
   "source": [
    "def power_gb_nss_ngp_gt(tau, mu1, sigma, fmid, eta, u):\n",
    "    y2 = 2*np.pi*sigma**2\n",
    "    x2 = np.pi*y2*u**2\n",
    "    w = 2*np.pi*nu0*eta\n",
    "    \n",
    "    z2 = x2 + 1./(2*tau**2)\n",
    "    \n",
    "    \"Power spectrum with Gaussian Beam, non-stochastic sky, nearest-grid-point gridding, and gaussian taper\"\n",
    "    prefac = mu1**2 * np.pi * y2**2 * nu0**2/z2\n",
    "    \n",
    "    exppart = np.exp(-np.add.outer(w**2/2 , x2*fmid**2/tau**2)/z2)\n",
    "    out = exppart * prefac\n",
    "    return out\n",
    "\n",
    "\n",
    "def test_power_gb_nss_ngp_gt(tau, mu1, sigma, fmid):\n",
    "    \"Calculates the power spectrum numerically\"\n",
    "    \n",
    "    nsig = 3 #Width is twice this\n",
    "    ntau = 2\n",
    "    \n",
    "    fvec = np.arange(fmid-ntau*tau, fmid+ntau*tau, 2*ntau*tau/256)\n",
    "    l0 = np.arange(-sigma*nsig, sigma*nsig, 2*nsig*sigma/256)\n",
    "    \n",
    "    L0, M0 = np.meshgrid(l0,l0)\n",
    "    L2 = L0**2 + M0**2\n",
    "    \n",
    "    vis_u = np.zeros((len(fvec), len(l0)/2-1))\n",
    "    for i,f in enumerate(fvec):\n",
    "        # The following works by transformation of variables, x = fl.\n",
    "        sky = mu1*np.exp(-(L2/f**2)/(2*sigma**2))\n",
    "        vis, u = fft(sky, L = 2*nsig*sigma, a= 0, b = 2*np.pi)\n",
    "        \n",
    "        vis_u[i] = np.abs(vis[len(l0)/2, len(l0)/2+1:]) / f**2 # Divide by f**2 due to transformation\n",
    "        \n",
    "            \n",
    "    u = u[0][len(l0)/2+1:]\n",
    "    \n",
    "    \n",
    "    # Add bandpass filter\n",
    "    vis_u2 = (np.exp(-(fvec-fmid)**2/(2*tau**2)) * vis_u.T).T\n",
    "    vis_eta, eta = fft(vis_u2, L = 2*ntau*tau, axes=(0,), a= 0, b = 2*np.pi)\n",
    "    \n",
    "    vis_eta = vis_eta[len(fvec)/2+1:]\n",
    "    eta = eta[0][len(fvec)/2+1:]\n",
    "    \n",
    "    return np.abs(vis_eta)**2, u, eta, fvec, vis_u, vis_u2, sky\n",
    "\n",
    "def visu_to_powereta(vis_u, fvec, fmid):\n",
    "    vis_u = (np.exp(-(fvec-fmid)**2/(2*tau**2)) * vis_u.T).T\n",
    "    vis_eta, eta = fft(vis_u, L = (fvec[-1]-fvec[0]), axes=(0,), a= 0, b = 2*np.pi*nu0)\n",
    "    \n",
    "    vis_eta = vis_eta[len(fvec)/2+1:] * np.sqrt(nu0)\n",
    "    eta = eta[0][len(fvec)/2+1:]\n",
    "    \n",
    "    return np.abs(vis_eta)**2, eta"
   ]
  },
  {
   "cell_type": "code",
   "execution_count": 313,
   "metadata": {
    "ExecuteTime": {
     "end_time": "2017-09-22T05:48:38.882600",
     "start_time": "2017-09-22T05:48:38.589103Z"
    }
   },
   "outputs": [
    {
     "name": "stdout",
     "output_type": "stream",
     "text": [
      "0.166666666667\n"
     ]
    },
    {
     "data": {
      "text/plain": [
       "(1e-20, 1.6807026552481347e+64)"
      ]
     },
     "execution_count": 313,
     "metadata": {},
     "output_type": "execute_result"
    },
    {
     "data": {
      "image/png": "[encoded data removed]",
      "text/plain": [
       "<matplotlib.figure.Figure at 0x7f00eb6bc490>"
      ]
     },
     "metadata": {},
     "output_type": "display_data"
    }
   ],
   "source": [
    "print(u[0])\n",
    "plt.plot(eta, power[:,11])\n",
    "plt.plot(eta,  power_gb_nss_ngp_gt(tau, mu1, sigma, fmid, eta, u[0]))\n",
    "plt.plot(eta, 2*tau**2*mu1**2*y2**2*nu0**2*np.pi*np.exp(-(2*np.pi*nu0*eta)**2*tau**2))\n",
    "plt.yscale('log')\n",
    "plt.ylim(1e-20)"
   ]
  },
  {
   "cell_type": "code",
   "execution_count": 31,
   "metadata": {
    "ExecuteTime": {
     "end_time": "2017-10-01T18:24:03.228648",
     "start_time": "2017-10-01T18:24:01.332545Z"
    }
   },
   "outputs": [
    {
     "data": {
      "image/png": "[encoded data removed]",
      "text/plain": [
       "<matplotlib.figure.Figure at 0x7f86a19d6cd0>"
      ]
     },
     "metadata": {},
     "output_type": "display_data"
    }
   ],
   "source": [
    "nu0 = 1.\n",
    "mu1 = 1.\n",
    "sigma = 1.\n",
    "tau = 0.05\n",
    "fmid=1.\n",
    "\n",
    "y2 = 2*np.pi*sigma**2\n",
    "\n",
    "power, u , eta, fvec, vis_u, vis_u2, sky = test_power_gb_nss_ngp_gt(tau, mu1, sigma, fmid)\n",
    "plot_power(power, u, eta,  u_is_logscale=False, eta_is_logscale=False)"
   ]
  },
  {
   "cell_type": "code",
   "execution_count": 36,
   "metadata": {
    "ExecuteTime": {
     "end_time": "2017-10-01T18:28:52.045066",
     "start_time": "2017-10-01T18:28:51.455194Z"
    }
   },
   "outputs": [
    {
     "data": {
      "text/plain": [
       "(3.7773020782912097e-13, 285746540310.98993)"
      ]
     },
     "execution_count": 36,
     "metadata": {},
     "output_type": "execute_result"
    },
    {
     "data": {
      "image/png": "[encoded data removed]",
      "text/plain": [
       "<matplotlib.figure.Figure at 0x7f86a17114d0>"
      ]
     },
     "metadata": {},
     "output_type": "display_data"
    }
   ],
   "source": [
    "u = 1.\n",
    "nu0 = 1.\n",
    "mu1 = 1.\n",
    "sigma = 0.1\n",
    "tau = 0.05\n",
    "fmid=1.\n",
    "fvec = np.linspace(fmid-10*tau, fmid+10*tau, 1024)\n",
    "y2 = 2*np.pi*sigma**2\n",
    "\n",
    "\n",
    "visu = mu1 * y2 * np.exp(-np.pi*y2*fvec**2 * u**2 ) \n",
    "power, eta = visu_to_powereta(visu, fvec, fmid) \n",
    "\n",
    "\n",
    "plt.plot(eta, power, label=\"numerical\")\n",
    "\n",
    "eta = np.concatenate(([1e-5], eta))\n",
    "x2 = np.pi*y2*u**2\n",
    "w = 2*np.pi*nu0*eta\n",
    "\n",
    "\n",
    "plt.plot(eta,  power_gb_nss_ngp_gt(tau, mu1, sigma, fmid, eta, u), ls=\":\", label=\"analytic\")\n",
    "plt.axhline((mu1*y2*nu0*np.sqrt(np.pi)* tau * np.exp(-fmid**2*x2/(2*x2*tau**2 + 1))/np.sqrt(x2*tau**2 +0.5))**2, color='k', ls='--',\n",
    "           label=\"analytic as eta-> 0\")\n",
    "\n",
    "if tau > 0.5:\n",
    "    plt.plot(eta, mu1**2 * y2**2 *nu0**2 *np.pi * np.exp(-w**2/(2*x2))/x2, color='c', ls='--', label='analytic as tau->Inf')\n",
    "    plt.axhline(mu1**2 * y2 * nu0**2/u**2, color='k', ls=':', label=\"Analytic as tau-> Inf and eta->0\")\n",
    "\n",
    "plt.legend()\n",
    "plt.xscale('log')\n",
    "plt.yscale('log')\n",
    "plt.xlabel(r\"$\\eta$\",fontsize=13)\n",
    "plt.ylabel(\"Power\")\n",
    "plt.ylim(power.max()/1e8,)"
   ]
  },
  {
   "cell_type": "code",
   "execution_count": 30,
   "metadata": {
    "ExecuteTime": {
     "end_time": "2017-10-01T18:21:45.402832",
     "start_time": "2017-10-01T18:21:44.825203Z"
    }
   },
   "outputs": [
    {
     "data": {
      "text/plain": [
       "<matplotlib.text.Text at 0x7f86a16e47d0>"
      ]
     },
     "execution_count": 30,
     "metadata": {},
     "output_type": "execute_result"
    },
    {
     "data": {
      "image/png": "[encoded data removed]",
      "text/plain": [
       "<matplotlib.figure.Figure at 0x7f86a1cdb8d0>"
      ]
     },
     "metadata": {},
     "output_type": "display_data"
    }
   ],
   "source": [
    "# PLOT VS TAU\n",
    "nu0 = 1.\n",
    "mu1 = 1.\n",
    "sigma = 0.1\n",
    "tau = np.logspace(-5,2, 100)\n",
    "fmid=1.\n",
    "\n",
    "y2 = 2*np.pi*sigma**2\n",
    "u = 1.\n",
    "eta = 10.\n",
    "\n",
    "\n",
    "x2 = np.pi*y2*u**2\n",
    "w = 2*np.pi*nu0*eta\n",
    "\n",
    "\n",
    "plt.plot(tau,  power_gb_nss_ngp_gt(tau, mu1, sigma, fmid, eta, u), label=\"analytic\")\n",
    "#plt.axhline((mu1*y2*nu0*np.sqrt(np.pi)* tau * np.exp(-fmid**2*x2/(2*x2*tau**2 + 1))/np.sqrt(x2*tau**2 +0.5))**2, color='k', ls='--',\n",
    " #          label=\"analytic as eta-> 0\")\n",
    "\n",
    "plt.axhline(mu1**2 * y2**2 *nu0**2 *np.pi * np.exp(-w**2/(2*x2))/x2, color='c', ls='--', label='analytic as tau->Inf')\n",
    "plt.plot(tau, 2*tau**2*np.pi*mu1**2*y2**2*nu0**2*np.exp(-2*x2*fmid**2),color='m',ls='--', label=\"analytic as tau-->0\")\n",
    "\n",
    "if eta < 1e-3:\n",
    "    plt.axhline(mu1**2 * y2 * nu0**2/u**2, color='k', ls=':', label=\"Analytic as tau-> Inf and eta->0\")\n",
    "\n",
    "\n",
    "plt.legend()\n",
    "plt.xscale('log')\n",
    "plt.yscale('log')\n",
    "plt.xlabel(r\"$\\tau$\",fontsize=13)\n",
    "plt.ylabel(\"Power\")\n",
    "#plt.ylim(power.max()/1e8,)"
   ]
  },
  {
   "cell_type": "markdown",
   "metadata": {},
   "source": [
    "#### Gridding: Weighted *"
   ]
  },
  {
   "cell_type": "markdown",
   "metadata": {},
   "source": [
    "Here we have:\n",
    "\n",
    "\\begin{equation}\n",
    "    \\tilde{V}(\\eta, u) = \\sum_{i=1}^{N_{\\rm bl}} \\bar{S} \\nu_0 \\int df  e^{-2\\pi i f \\nu_0  \\eta} \\frac{\\hat{B}(fu_i) \\hat{B}(\\mathbf{u} - f \\mathbf{u}_i)}{\\sum_{k=1}^{N_{\\rm bl}}\\hat{B}(\\mathbf{u} - f \\mathbf{u}_k)},\n",
    "\\end{equation}\n",
    "\n",
    "\n"
   ]
  },
  {
   "cell_type": "markdown",
   "metadata": {},
   "source": [
    "Again, we cannot get any further than this without specifying some kind of baseline layout."
   ]
  },
  {
   "cell_type": "markdown",
   "metadata": {},
   "source": [
    "##### Baseline Layout: Sparse *"
   ]
  },
  {
   "cell_type": "markdown",
   "metadata": {},
   "source": [
    "We first mention this special case, in which we assume that the baselines are extremely sparse, so that typically only one baseline ever contributes to any ring of $u$, and it contributes at the point closest to $u$. This is of course quite unrealistic. It gives an answer which is precisely the same as the NGP case above *for the u at which baselines are situated*. In between these points, the form will be the same (in the $\\eta$ direction) but the result will be damped according to how far from $u$ the nearest baseline is. This will most likely contribute a \"ringing\" to the $u$-direction signal."
   ]
  },
  {
   "cell_type": "markdown",
   "metadata": {},
   "source": [
    "##### Baseline Layout: Symmetric Gaussian"
   ]
  },
  {
   "cell_type": "markdown",
   "metadata": {},
   "source": [
    "The most general case that can be derived analytically is that of a circularly-symmetric Gaussian distribution of baselines, in the continuous limit.\n",
    "\n",
    "** Justification: ** There's a temptation to think that perhaps doing this is equivalent to the general solution. The reasoning goes like this: given that we have an isotropic sky, with isotropic response (beam), then we expect the actual power at any $\\mathbf{u}$ to be only dependent on $u$. So we average over annuli to get the final result. The only asymmetry that may enter with this setup is the asymmetry of the baseline layout. However, since we are averaging over annuli in $u$, we may reason that differences in $V(\\mathbf{u})$ for the same $u$ but different angles, will be averaged out. This fact *will* ensure that rotating the baselines about the origin has no effect. However it does *not* ensure that clumpiness of baselines has no effect. This is because of the coherent/incoherent averaging problem. Since the transformation to power uses a squaring operation, we know that the sum of squares is not the same as the square of a sum, in general. \n"
   ]
  },
  {
   "cell_type": "markdown",
   "metadata": {},
   "source": [
    "Let the baseline layout (number density) be \n",
    "\n",
    "$$\\rho(u_i) \\propto e^{-u_i^2/2\\sigma_u^2}. $$\n",
    "\n",
    "Then the sum over baselines may be converted to an integral:\n",
    "\n",
    "\\begin{equation}\n",
    "    \\tilde{V}(\\eta, u) = \\bar{S} \\nu_0 \\int df \\phi(f-f') e^{-2\\pi i f \\nu_0  \\eta} \\int d^2\\mathbf{u}_i e^{-u_i^2/2\\sigma_u^2} \\frac{\\hat{B}(fu_i) \\hat{B}(\\mathbf{u} - f \\mathbf{u}_i)}{\\int d^2\\mathbf{u}_i e^{-u_i^2/2\\sigma_u^2}\\hat{B}(\\mathbf{u} - f \\mathbf{u}_k)}.\n",
    "\\end{equation}\n",
    "\n",
    "It is tempting to transform the $\\mathbf{u}_i$-integral to polar co-ordinates, but we realise that for a single $\\mathbf{u}$, the integral is not circularly symmetric. Rather, since $\\hat{B}$ is a Gaussian, it is easier to integrate each Cartesian co-ordinate independently.\n",
    "\n",
    "We start with the integral in the denominator and find\n",
    "\n",
    "$$\\int d^2\\mathbf{u}_i e^{-u_i^2/2\\sigma_u^2}\\hat{B}(\\mathbf{u} - f \\mathbf{u}_k) = e^{-\\pi y^2 u^2}\\left(\\frac{\\pi}{1/2\\sigma_u^2 + \\pi y^2f^2}\\right)\\exp\\left(\\frac{\\pi^2y^4f^2u^2}{1/2\\sigma_u^2 + \\pi y^2f^2}\\right). $$\n",
    "\n",
    "Clearly, the upper integral is very similar, and we finally find that\n",
    "\n",
    "\\begin{equation}\n",
    "    \\tilde{V}(\\nu, u) = \\bar{S} \\nu_0 y^2 \\frac{1 + 2\\pi \\sigma_u^2 y^2f^2}{1+4\\pi \\sigma_u^2 y^2 f^2} \\exp\\left(2\\pi^2 \\sigma_y^2 y^4 f^2 u^2\\left(\\frac{1}{1 + 4\\pi\\sigma_u^2y^2f^2} + \\frac{1}{1 + 2\\pi \\sigma_u^2y^2f^2}\\right)\\right).\n",
    "\\end{equation}"
   ]
  },
  {
   "cell_type": "markdown",
   "metadata": {},
   "source": [
    "Defining $ q^2_\\nu = 2\\pi \\sigma_u^2 y^2 f^2$, this simplifies to\n",
    "\n",
    "\\begin{equation}\n",
    "    \\tilde{V}(\\nu, u) = \\bar{S} \\nu_0 y^2 \\frac{1 + q^2_\\nu}{1+2q^2_\\nu} \\exp\\left(q^2_\\nu y^2 u^2\\left(\\frac{1}{1 + 2q^2_\\nu} - \\frac{1}{1 + q^2_\\nu}\\right)\\right).\n",
    "\\end{equation}\n",
    "\n",
    "This clearly has a negative exponential as a function of $u$. \n",
    "\n",
    "If $q^2_\\nu \\rightarrow \\infty$, (i.e. the beam is very broad, or the baseline distribution is very wide), then we are left with\n",
    "\n",
    "\\begin{equation}\n",
    "    \\tilde{V}(\\nu, u) \\approx \\frac{\\bar{S} \\nu_0 y^2}{2} \\exp\\left(- y^2 u^2/2\\right),\n",
    "\\end{equation}\n",
    "\n",
    "which has no frequency-dependence left, unless the beam itself is frequency-dependent (more on that in the next big section)."
   ]
  },
  {
   "cell_type": "markdown",
   "metadata": {},
   "source": [
    "Moreover, if $q_\\nu^2 \\rightarrow 0$, then the visibility is just a constant, $\\bar{S}\\nu_0 y^2$. Neither of these limits will produce a wedge. Unfortunately, it is very difficult to solve the $f$ integral in the full case. \n",
    "\n",
    "We just do it numerically:"
   ]
  },
  {
   "cell_type": "code",
   "execution_count": 77,
   "metadata": {
    "ExecuteTime": {
     "end_time": "2017-08-30T06:55:41.860334",
     "start_time": "2017-08-30T06:55:41.855265Z"
    },
    "collapsed": true
   },
   "outputs": [],
   "source": [
    "def Vnu(y2, su2, mu1, f, u):\n",
    "    q = 2*np.pi*su2*y2\n",
    "    \n",
    "    p1 = 1+q*f**2\n",
    "    p2 = 1+2*q*f**2\n",
    "\n",
    "    prefac =  mu1*nu0*y2 * p1/p2\n",
    "    exppart = np.exp(np.outer(u**2, q*y2*f**2*(1/p2-1/p1)))\n",
    "    \n",
    "    return (prefac*exppart).T"
   ]
  },
  {
   "cell_type": "markdown",
   "metadata": {},
   "source": [
    "Foran MWA-like setup, we have $y^2 \\approx 0.25$ and $\\sigma_u\\approx 40.$:"
   ]
  },
  {
   "cell_type": "code",
   "execution_count": 81,
   "metadata": {
    "ExecuteTime": {
     "end_time": "2017-08-30T06:57:51.431003",
     "start_time": "2017-08-30T06:57:50.850231Z"
    }
   },
   "outputs": [
    {
     "data": {
      "image/png": "[encoded data removed]",
      "text/plain": [
       "<matplotlib.figure.Figure at 0x7f0543b7eb90>"
      ]
     },
     "metadata": {},
     "output_type": "display_data"
    }
   ],
   "source": [
    "vis_nu = Vnu(0.25, 1600., mu1, f, u) \n",
    "power, eta = power_from_vis(vis_nu, f, nu0)\n",
    "plot_power(power,u,eta,vmin=1e-12)"
   ]
  },
  {
   "cell_type": "markdown",
   "metadata": {
    "ExecuteTime": {
     "end_time": "2017-08-30T06:57:10.924467",
     "start_time": "2017-08-30T06:57:10.470297Z"
    }
   },
   "source": [
    "For a smaller beam (i.e. SKA-like):"
   ]
  },
  {
   "cell_type": "code",
   "execution_count": 83,
   "metadata": {
    "ExecuteTime": {
     "end_time": "2017-08-30T06:58:41.192768",
     "start_time": "2017-08-30T06:58:40.733774Z"
    }
   },
   "outputs": [
    {
     "data": {
      "image/png": "[encoded data removed]",
      "text/plain": [
       "<matplotlib.figure.Figure at 0x7f054437eed0>"
      ]
     },
     "metadata": {},
     "output_type": "display_data"
    }
   ],
   "source": [
    "vis_nu = Vnu(0.025**2, 1600., mu1, f, u) \n",
    "power, eta = power_from_vis(vis_nu, f, nu0)\n",
    "plot_power(power,u,eta,vmin=1e-12)"
   ]
  },
  {
   "cell_type": "markdown",
   "metadata": {},
   "source": [
    "There is a slight wedge here, but it is very damped. This may be because of the infinite layout, *or* it may be because the sky is completely uniform. This second assumption we'll tackle next."
   ]
  },
  {
   "cell_type": "markdown",
   "metadata": {},
   "source": [
    "### Sky-Distribution: Stochastic  Uniform"
   ]
  },
  {
   "cell_type": "markdown",
   "metadata": {},
   "source": [
    "** See the Top-Hat section corresponding to this to see the derivation of the basic equations **\n",
    "\n",
    "In this case, where the beam is a gaussian, it can be removed and the integral over $\\mathbf{l}$ performed immediately:\n",
    "\n",
    "\\begin{equation}\n",
    "    {\\rm Var}\\left(\\tilde{V}(\\eta, \\mathbf{u})\\right) = \\sum_{i_1=1}^{N_{\\rm bl}}\\sum_{i_2=1}^{N_{\\rm bl}} \\frac{\\mu_2 \\nu_0^2 y^2}{2} \\int d f' e^{-2\\pi i f' \\nu_0 \\eta} \\int df'' e^{+2\\pi i f'' \\nu_0 \\eta} \\frac{W'(\\mathbf{u} - f'\\mathbf{u}_{i_1}) W''(\\mathbf{u} - f''\\mathbf{u}_{i_2})}{\\sum_{k=1}^{N_{\\rm bl}}W'(\\mathbf{u} - f' \\mathbf{u}_k)\\sum_{k=1}^{N_{\\rm bl}}W''(\\mathbf{u} - f'' \\mathbf{u}_k)} \\exp\\left[-\\pi^2 \\sigma^2(f'\\mathbf{u}_{i_1} -f'' \\mathbf{u}_{i_2})^2)\\right].\n",
    "\\end{equation}"
   ]
  },
  {
   "cell_type": "markdown",
   "metadata": {},
   "source": [
    "#### Gridding: Dirac Delta"
   ]
  },
  {
   "cell_type": "markdown",
   "metadata": {},
   "source": [
    "It is clear that this will end up with a dirac function at $\\eta = 0$ (see top-hat corresponding section)."
   ]
  },
  {
   "cell_type": "markdown",
   "metadata": {},
   "source": [
    "#### Gridding: NGP"
   ]
  },
  {
   "cell_type": "markdown",
   "metadata": {},
   "source": [
    "(See corresponding section under single-source dist. for details of assumptions here).\n",
    "\n",
    "In this case then we have $\\mathbf{u}_i = \\mathbf{u}$ and $W = 1$, and since the original baselines *must* be $\\mathbf{u}$, we have:\n",
    "\n",
    "\\begin{equation}\n",
    "    {\\rm Var}\\left(\\tilde{V}(\\eta, \\mathbf{u})\\right) = \\pi \\mu_2 \\sigma^2 \\nu_0^2 \\int d f' e^{-2\\pi i f' \\nu_0 \\eta} \\int df'' e^{+2\\pi i f'' \\nu_0 \\eta} e^{-\\sigma^2 f_\\nu^2 u^2},\n",
    "\\end{equation}\n",
    "\n",
    "with $f_\\nu = f'-f''$."
   ]
  },
  {
   "cell_type": "markdown",
   "metadata": {},
   "source": [
    "It is worth deriving this case fully for a gaussian taper/bandpass. The algebra gets a little tedious, but we can use Wolfram|Alpha as a two-step process to get the doube integral.\n",
    "\n",
    "We let $q^2 = \\sigma^2 u^2$,and $\\omega = 2\\pi \\nu_0\\eta$, for clarity, and find \n",
    "\n",
    "$$ Var(V) = \\frac{2\\pi^2 \\mu_2 \\sigma^2 \\nu_0^2 \\tau^2}{\\sqrt{4q^2\\tau^2 + 1}} \\exp\\left(-\\frac{\\tau^2 \\omega^2}{4q^2 \\tau^2 + 1}\\right). $$"
   ]
  },
  {
   "cell_type": "markdown",
   "metadata": {},
   "source": [
    "#### Gridding: Weighted"
   ]
  },
  {
   "cell_type": "markdown",
   "metadata": {},
   "source": [
    "We begin with\n",
    "\n",
    "\\begin{equation}\n",
    "    {\\rm Var}\\left(\\tilde{V}(\\eta, \\mathbf{u})\\right) = \\sum_{i_1=1}^{N_{\\rm bl}}\\sum_{i_2=1}^{N_{\\rm bl}} \\frac{\\mu_2 \\nu_0^2 y^2}{2} \\int d f' e^{-2\\pi i f' \\nu_0 \\eta} \\int df'' e^{+2\\pi i f'' \\nu_0 \\eta} \\frac{\\hat{B}(\\mathbf{u} - f'\\mathbf{u}_{i_1}) \\hat{B}(\\mathbf{u} - f''\\mathbf{u}_{i_2})}{\\sum_{k=1}^{N_{\\rm bl}}\\hat{B}(\\mathbf{u} - f' \\mathbf{u}_k)\\sum_{k=1}^{N_{\\rm bl}}\\hat{B}(\\mathbf{u} - f'' \\mathbf{u}_k)} \\exp\\left[-\\sigma^2(f'\\mathbf{u}_{i_1} -f'' \\mathbf{u}_{i_2})^2)\\right],\n",
    "\\end{equation}\n",
    "\n",
    "with $\\hat{B} \\propto e^{-\\pi y^2 u^2}$."
   ]
  },
  {
   "cell_type": "markdown",
   "metadata": {},
   "source": [
    "##### Baseline Layout: Symmetric Gaussian"
   ]
  },
  {
   "cell_type": "markdown",
   "metadata": {},
   "source": [
    "Let the baseline layout (number density) be \n",
    "\n",
    "$$\\rho(u_i) \\propto e^{-u_i^2/2\\sigma_u^2}. $$\n",
    "\n",
    "Then the sum over baselines may be converted to an integral.\n",
    "\n",
    "Again the integral in the denominator is:\n",
    "\n",
    "$$\\int d^2\\mathbf{u}_i e^{-u_i^2/2\\sigma_u^2}\\hat{B}(\\mathbf{u} - f \\mathbf{u}_i) = e^{-\\pi y^2 u^2}\\left(\\frac{\\pi}{1/2\\sigma_u^2 + \\pi y^2f^2}\\right)\\exp\\left(\\frac{\\pi^2y^4f^2u^2}{1/2\\sigma_u^2 + \\pi y^2f^2}\\right). $$\n",
    "\n",
    "The total denominator is merely the square of this. The next integral to perform is the outer $u$ integrals:\n",
    "\n",
    "\\begin{equation}\n",
    "    {\\rm Var}\\left(\\tilde{V}(\\eta, \\mathbf{u})\\right) = \\frac{\\mu_2 \\nu_0^2 y^2}{2e^{-2\\pi y^2 u^2}\\left(\\frac{\\pi}{1/2\\sigma_u^2 + \\pi y^2f^2}\\right)^2 \\exp\\left(\\frac{2 \\pi^2y^4f^2u^2}{1/2\\sigma_u^2 + \\pi y^2f^2}\\right)} \\int d f' e^{-2\\pi i f' \\nu_0 \\eta} \\int df'' e^{+2\\pi i f'' \\nu_0 \\eta} \\int d^2\\mathbf{u}_{i_1} \\int d^2\\mathbf{u}_{i_2} \\exp\\left[-\\left(\\frac{u_{i_1}^2+u_{i_2}^2}{2\\sigma_u^2}  + \\pi y^2 \\left((\\mathbf{u} - f'\\mathbf{u}_{i_1})^2 + (\\mathbf{u} - f''\\mathbf{u}_{i_2})^2\\right) + \\sigma^2(f'\\mathbf{u}_{i_1} -f'' \\mathbf{u}_{i_2})^2\\right)\\right].\n",
    "\\end{equation}\n",
    "\n",
    "My calculations (on paper) lead to a result of:\n",
    "\n",
    "\n",
    "\\begin{equation}\n",
    "    {\\rm Var}\\left(\\tilde{V}(\\eta, \\mathbf{u})\\right) = \\int d f' e^{-2\\pi i f' \\nu_0 \\eta} \\int df'' e^{+2\\pi i f'' \\nu_0 \\eta} \\frac{\\mu_2 \\nu_0^2 y^2}{2 e^{-2\\pi y^2 u^2}\\left(\\frac{\\pi}{1/2\\sigma_u^2 + \\pi y^2f'^2}\\right)\\left(\\frac{\\pi}{1/2\\sigma_u^2 + \\pi y^2f''^2}\\right) \\exp\\left(\\frac{2 \\pi^2y^4f'^2u^2}{1/2\\sigma_u^2 + \\pi y^2f'^2}\\right)\\exp\\left(\\frac{2 \\pi^2y^4f''^2u^2}{1/2\\sigma_u^2 + \\pi y^2f''^2}\\right)}  \\frac{4\\pi^2\\sigma_u^4}{z^2} \\exp\\left[-\\frac{2\\pi y^2 u^2 (q^2 - 4\\pi y^2 f'f\" \\sigma^2\\sigma_u^2 + 2\\sigma^2\\sigma_u^2(q^2 - \\pi y^2\\sigma_u^2)(f'^2+f''^2)}{z^2}\\right],\n",
    "\\end{equation}\n",
    "\n",
    "with $q^2 = 1+2\\pi \\sigma_u^2 y^2$ and $z^2 = q^2[q^2+2\\sigma_u^2\\sigma^2(f'^2+f''^2)]$."
   ]
  },
  {
   "cell_type": "markdown",
   "metadata": {},
   "source": [
    "Simplifying a little, we get\n",
    "\n",
    "\\begin{equation}\n",
    "    {\\rm Var}\\left(\\tilde{V}(\\eta, \\mathbf{u})\\right) = \\int d f' e^{-2\\pi i f' \\nu_0 \\eta} \\int df'' e^{+2\\pi i f'' \\nu_0 \\eta} \\frac{2\\mu_2 \\nu_0^2 y^2\\sigma_u^4\\left(1/2\\sigma_u^2 + \\pi y^2f'^2\\right)\\left(1/2\\sigma_u^2 + \\pi y^2f''^2\\right)}{z^2 \\exp\\left(-2\\pi y^2 u^2 \\left[1 - \\frac{\\pi y^2f'^2}{1/2\\sigma_u^2 + \\pi y^2f'^2} - \\frac{ \\pi y^2 f''^2}{1/2\\sigma_u^2 + \\pi y^2f''^2} -\\frac{q^2 - 4\\pi y^2 f'f\" \\sigma^2\\sigma_u^2 + 2\\sigma^2\\sigma_u^2(q^2 - \\pi y^2\\sigma_u^2)(f'^2+f''^2)}{z^2}\\right]\\right)}.\n",
    "\\end{equation}"
   ]
  },
  {
   "cell_type": "markdown",
   "metadata": {},
   "source": [
    "## Beam: Frequency-Dependent Gaussian"
   ]
  },
  {
   "cell_type": "markdown",
   "metadata": {},
   "source": [
    "For this entire section, we will consider the primary beam to be\n",
    "\n",
    "$$ B(l) = e^{-l^2 f^2/ 2\\sigma^2}, $$\n",
    "\n",
    "where $\\sigma$ is the beam width at $\\nu_0$."
   ]
  },
  {
   "cell_type": "markdown",
   "metadata": {},
   "source": [
    "### Sky-Distribution: Single-Source"
   ]
  },
  {
   "cell_type": "markdown",
   "metadata": {},
   "source": [
    "TODO!!!!!!"
   ]
  },
  {
   "cell_type": "markdown",
   "metadata": {},
   "source": [
    "We consider just a single source in the sky, at position $(l_0, m_0)$ and with flux density $S_0$. Thus we have\n",
    "\n",
    "\\begin{equation}\n",
    "    \\tilde{V}(\\eta, \\mathbf{u}) = \\sum_{i=1}^{N_{\\rm bl}} S_0 \\nu_0 B(l_0)\\int df e^{-2\\pi i f (\\nu_0  \\eta +\\mathbf{u}_i \\cdot\\mathbf{l}_0)} \\frac{W_\\nu(\\mathbf{u} - f \\mathbf{u}_i)}{\\sum_{k=1}^{N_{\\rm bl}}W_\\nu(\\mathbf{u} - f \\mathbf{u}_k)}\n",
    "\\end{equation}"
   ]
  },
  {
   "cell_type": "markdown",
   "metadata": {},
   "source": [
    "### Sky-Distribution: Non-Stochastic Uniform"
   ]
  },
  {
   "cell_type": "markdown",
   "metadata": {},
   "source": [
    "Here we start with the result from the frequency-independent beam:"
   ]
  },
  {
   "cell_type": "markdown",
   "metadata": {},
   "source": [
    "\\begin{equation}\n",
    "    \\tilde{V}(\\eta, u) = \\sum_{i=1}^{N_{\\rm bl}} \\bar{S} \\nu_0 \\int df \\hat{B}(fu_i) e^{-2\\pi i f \\nu_0  \\eta} \\frac{W_\\nu(\\mathbf{u} - f \\mathbf{u}_i)}{\\sum_{k=1}^{N_{\\rm bl}}W_\\nu(\\mathbf{u} - f \\mathbf{u}_k)},\n",
    "\\end{equation}\n",
    "\n",
    "where now\n",
    "\n",
    "$$ \\hat{B}(fu_i) = \\frac{y^2}{f^2} e^{-\\pi y^2 u_i^2}, $$\n",
    "\n",
    "with $y^2 = 2 \\pi \\sigma^2$."
   ]
  },
  {
   "cell_type": "markdown",
   "metadata": {},
   "source": [
    "#### Gridding: NGP"
   ]
  },
  {
   "cell_type": "markdown",
   "metadata": {},
   "source": [
    "(See corresponding section under single-source dist. for details of assumptions here).\n",
    "\n",
    "In this case then we have $\\mathbf{u}_i = \\mathbf{u}$ and $W = 1$:\n",
    "\n",
    "\\begin{equation}\n",
    "    \\tilde{V}(\\eta, u) = \\bar{S} y^2 \\nu_0 e^{-\\pi y^2 u^2} \\int df  \\frac{\\phi(f)}{f^2} e^{-2\\pi i f \\nu_0  \\eta}\n",
    "\\end{equation}\n"
   ]
  },
  {
   "cell_type": "markdown",
   "metadata": {},
   "source": [
    "Because of the $f^{-2}$, we cannot simply integrate over infinity bandwidth (even when damping with a Gaussian). \n",
    "Instead, we assume that $\\phi$ is the product of a step function and Gaussian, between $f_: - n\\tau$ and $f_: + n\\tau$, where the lower limit is greater than 0.\n",
    "\n",
    "Letting $x^2 = \\pi y^2 u^2$, and $\\omega = 2\\pi \\nu_0\\eta$, we have\n",
    "\n",
    "$$ \\tilde{V}(\\eta, u) = \\mu_1 y^2 \\nu_0 e^{-x^2} \\int df f^{-2} e^{-(f-f_:)^2/2\\tau^2 - i \\omega f}. $$"
   ]
  },
  {
   "cell_type": "markdown",
   "metadata": {},
   "source": [
    "Let $a = 1/2\\tau^2$ and $b = i \\omega - f_:/\\tau^2$, then we have\n",
    "\n",
    "$$ \\tilde{V}(\\eta, u)= \\mu_1 y^2 \\nu_0 e^{-x^2} e^{-a^2 f_:^2} \\int_{f_:-n\\tau}^{f_:+n\\tau} df \\ \\ f^{-2} e^{-a^2 f^2 - b f}. $$\n",
    "\n",
    "We can expand the exponential in a Taylor series around $f_:$, and then evaluate the derivatives analytically as Hermite polynomials:\n",
    "\n",
    "$$ \\tilde{V}(\\eta, u)= \\mu_1 y^2 \\nu_0 e^{-x^2} e^{-a^2 f_:^2} \\int_{f_:-n\\tau}^{f_:+n\\tau} df \\ \\ f^{-2} \\sum_{k=0}^\\infty \\frac{(-i)^k}{k!}\\left[(-a^2)^{k/2} H_k \\left(-\\frac{i(b+2a^2f_:}{2\\sqrt{-a^2}}\\right)e^{-a^2 f_:^2 - bf_:} (f-f_:)^k\\right]. $$\n"
   ]
  },
  {
   "cell_type": "markdown",
   "metadata": {},
   "source": [
    "Performing the integral over $f$ we get\n",
    "\n",
    "\n",
    "$$ \\tilde{V}(\\eta, u)= \\mu_1 y^2 \\nu_0 e^{-x^2} e^{-a^2 f_:^2} \\sum_{k=0}^\\infty \\frac{(-i)^k}{k!}\\left[(-a^2)^{k/2} H_k \\left(-\\frac{i(b+2a^2f_:)}{2\\sqrt{-a^2}}\\right)e^{-a^2 f_:^2 - bf_:} \\right] \\left. f_:^{k-1} \\mathcal{B}(f_:/f; 1-k, k+1)\\right|_{f_:+n\\tau}^{f_:-n\\tau}, $$\n",
    "\n",
    "where $\\mathcal{B}$ is the incomplete beta function."
   ]
  },
  {
   "cell_type": "markdown",
   "metadata": {},
   "source": [
    "Expanding $b$ throughout, we have the fortune of some things cancelling:\n",
    "\n",
    "$$ \\tilde{V}(\\eta, u)= \\mu_1 y^2 \\nu_0 e^{-x^2} e^{- i\\omega f_:} \\sum_{k=0}^\\infty \\frac{(-i)^k}{k!}\\left[(-1)^{k/2}a^k H_k \\left(-\\frac{i\\omega}{2a}\\right) \\right] \\left. f_:^{k-1} \\mathcal{B}(f_:/f; 1-k, k+1)\\right|_{f_:+n\\tau}^{f_:-n\\tau}, $$"
   ]
  },
  {
   "cell_type": "code",
   "execution_count": 53,
   "metadata": {
    "ExecuteTime": {
     "end_time": "2017-10-02T19:29:12.746432",
     "start_time": "2017-10-02T19:29:12.739527Z"
    },
    "collapsed": true
   },
   "outputs": [],
   "source": [
    "from scipy.special import betainc, hermite, factorial\n",
    "from mpmath import hermite as herm"
   ]
  },
  {
   "cell_type": "code",
   "execution_count": 58,
   "metadata": {
    "ExecuteTime": {
     "end_time": "2017-10-02T19:31:14.948335",
     "start_time": "2017-10-02T19:31:14.939142Z"
    },
    "collapsed": true
   },
   "outputs": [],
   "source": [
    "def ngp_static_freqdep(mu1, sigma, nu0, tau, fmid, u , eta):\n",
    "    y2 = 2*np.pi*sigma**2\n",
    "    x2 = np.pi*y2*u**2\n",
    "    omega = 2*np.pi*nu0*eta\n",
    "    a2 = 1/(2*tau**2)\n",
    "    \n",
    "    front = mu1**2 * y2**2 * nu0**2 * np.exp(-2*x2)\n",
    "    \n",
    "    ss = 0\n",
    "    new_term = 10\n",
    "    k = 0\n",
    "    n = 4\n",
    "    while k < 15 and np.isclose(ss, ss+new_term, atol=1, rtol=1e-5):\n",
    "        ss += new_term\n",
    "        betapart = fmid ** (k-1) * (betainc(1-k,1+k, fmid/(fmid-4*tau))- betainc(1-k,1+k, fmid/(fmid+4*tau)))\n",
    "        mult = [1,1j, -1,-1j][k%2]    \n",
    "        hermitepart = mult * a2**(k/2.) * herm(k,-1j*omega/(2*np.sqrt(a2)))\n",
    "        new_term = -1j**k / factorial(k) * hermitepart * betapart\n",
    "        \n",
    "    return front * np.abs(new_term)**2"
   ]
  },
  {
   "cell_type": "code",
   "execution_count": 61,
   "metadata": {
    "ExecuteTime": {
     "end_time": "2017-10-02T19:34:14.585017",
     "start_time": "2017-10-02T19:34:14.580139Z"
    }
   },
   "outputs": [
    {
     "data": {
      "text/plain": [
       "0.18674427317079892"
      ]
     },
     "execution_count": 61,
     "metadata": {},
     "output_type": "execute_result"
    }
   ],
   "source": [
    "ngp_static_freqdep(1,1/np.sqrt(2*np.pi),1,0.1,1,1,0)"
   ]
  },
  {
   "cell_type": "code",
   "execution_count": 62,
   "metadata": {
    "ExecuteTime": {
     "end_time": "2017-10-02T19:36:24.179004",
     "start_time": "2017-10-02T19:36:24.174259Z"
    }
   },
   "outputs": [
    {
     "data": {
      "text/plain": [
       "0.011173390706280956"
      ]
     },
     "execution_count": 62,
     "metadata": {},
     "output_type": "execute_result"
    }
   ],
   "source": [
    "0.25856 * np.exp(-np.pi)"
   ]
  },
  {
   "cell_type": "markdown",
   "metadata": {},
   "source": [
    "#### Gridding: Weighted *"
   ]
  },
  {
   "cell_type": "markdown",
   "metadata": {},
   "source": [
    "Here we have:\n",
    "\n",
    "\\begin{equation}\n",
    "    \\tilde{V}(\\eta, u) = \\sum_{i=1}^{N_{\\rm bl}} \\bar{S} \\nu_0 \\int df  e^{-2\\pi i f \\nu_0  \\eta} \\frac{\\hat{B}(fu_i) \\hat{B}(\\mathbf{u} - f \\mathbf{u}_i)}{\\sum_{k=1}^{N_{\\rm bl}}\\hat{B}(\\mathbf{u} - f \\mathbf{u}_k)},\n",
    "\\end{equation}\n",
    "\n",
    "\n"
   ]
  },
  {
   "cell_type": "markdown",
   "metadata": {},
   "source": [
    "Again, we cannot get any further than this without specifying some kind of baseline layout."
   ]
  },
  {
   "cell_type": "markdown",
   "metadata": {},
   "source": [
    "##### Baseline Layout: Sparse *"
   ]
  },
  {
   "cell_type": "markdown",
   "metadata": {},
   "source": [
    "We first mention this special case, in which we assume that the baselines are extremely sparse, so that typically only one baseline ever contributes to any ring of $u$, and it contributes at the point closest to $u$. This is of course quite unrealistic. It gives an answer which is precisely the same as the NGP case above *for the u at which baselines are situated*. In between these points, the form will be the same (in the $\\eta$ direction) but the result will be damped according to how far from $u$ the nearest baseline is. This will most likely contribute a \"ringing\" to the $u$-direction signal."
   ]
  },
  {
   "cell_type": "markdown",
   "metadata": {},
   "source": [
    "##### Baseline Layout: Symmetric Gaussian"
   ]
  },
  {
   "cell_type": "markdown",
   "metadata": {},
   "source": [
    "The most general case that can be derived analytically is that of a circularly-symmetric Gaussian distribution of baselines, in the continuous limit.\n",
    "\n",
    "** Justification: ** There's a temptation to think that perhaps doing this is equivalent to the general solution. The reasoning goes like this: given that we have an isotropic sky, with isotropic response (beam), then we expect the actual power at any $\\mathbf{u}$ to be only dependent on $u$. So we average over annuli to get the final result. The only asymmetry that may enter with this setup is the asymmetry of the baseline layout. However, since we are averaging over annuli in $u$, we may reason that differences in $V(\\mathbf{u})$ for the same $u$ but different angles, will be averaged out. This fact *will* ensure that rotating the baselines about the origin has no effect. However it does *not* ensure that clumpiness of baselines has no effect. This is because of the coherent/incoherent averaging problem. Since the transformation to power uses a squaring operation, we know that the sum of squares is not the same as the square of a sum, in general. \n"
   ]
  },
  {
   "cell_type": "markdown",
   "metadata": {},
   "source": [
    "Let the baseline layout (number density) be \n",
    "\n",
    "$$\\rho(u_i) \\propto e^{-u_i^2/2\\sigma_u^2}. $$\n",
    "\n",
    "Then the sum over baselines may be converted to an integral:\n",
    "\n",
    "\\begin{equation}\n",
    "    \\tilde{V}(\\eta, u) = \\bar{S} \\nu_0 \\int df  e^{-2\\pi i f \\nu_0  \\eta} \\int d^2\\mathbf{u}_i e^{-u_i^2/2\\sigma_u^2} \\frac{\\hat{B}(fu_i) \\hat{B}(\\mathbf{u} - f \\mathbf{u}_i)}{\\int d^2\\mathbf{u}_i e^{-u_i^2/2\\sigma_u^2}\\hat{B}(\\mathbf{u} - f \\mathbf{u}_k)}.\n",
    "\\end{equation}\n",
    "\n",
    "It is tempting to transform the $\\mathbf{u}_i$-integral to polar co-ordinates, but we realise that for a single $\\mathbf{u}$, the integral is not circularly symmetric. Rather, since $\\hat{B}$ is a Gaussian, it is easier to integrate each Cartesian co-ordinate independently.\n",
    "\n",
    "We start with the integral in the denominator and find\n",
    "\n",
    "$$\\int d^2\\mathbf{u}_i e^{-u_i^2/2\\sigma_u^2}\\hat{B}(\\mathbf{u} - f \\mathbf{u}_k) = e^{-\\pi y^2 u^2}\\left(\\frac{\\pi}{1/2\\sigma_u^2 + \\pi y^2f^2}\\right)\\exp\\left(\\frac{\\pi^2y^4f^2u^2}{1/2\\sigma_u^2 + \\pi y^2f^2}\\right). $$\n",
    "\n",
    "Clearly, the upper integral is very similar, and we finally find that\n",
    "\n",
    "\\begin{equation}\n",
    "    \\tilde{V}(\\nu, u) = \\bar{S} \\nu_0 y^2 \\frac{1 + 2\\pi \\sigma_u^2 y^2f^2}{1+4\\pi \\sigma_u^2 y^2 f^2} \\exp\\left(2\\pi^2 \\sigma_y^2 y^4 f^2 u^2\\left(\\frac{1}{1 + 4\\pi\\sigma_u^2y^2f^2} + \\frac{1}{1 + 2\\pi \\sigma_u^2y^2f^2}\\right)\\right).\n",
    "\\end{equation}"
   ]
  },
  {
   "cell_type": "markdown",
   "metadata": {},
   "source": [
    "Defining $ q^2_\\nu = 2\\pi \\sigma_u^2 y^2 f^2$, this simplifies to\n",
    "\n",
    "\\begin{equation}\n",
    "    \\tilde{V}(\\nu, u) = \\bar{S} \\nu_0 y^2 \\frac{1 + q^2_\\nu}{1+2q^2_\\nu} \\exp\\left(q^2_\\nu y^2 u^2\\left(\\frac{1}{1 + 2q^2_\\nu} - \\frac{1}{1 + q^2_\\nu}\\right)\\right).\n",
    "\\end{equation}\n",
    "\n",
    "This clearly has a negative exponential as a function of $u$. \n",
    "\n",
    "If $q^2_\\nu \\rightarrow \\infty$, (i.e. the beam is very broad, or the baseline distribution is very wide), then we are left with\n",
    "\n",
    "\\begin{equation}\n",
    "    \\tilde{V}(\\nu, u) \\approx \\frac{\\bar{S} \\nu_0 y^2}{2} \\exp\\left(- y^2 u^2/2\\right),\n",
    "\\end{equation}\n",
    "\n",
    "which has no frequency-dependence left, unless the beam itself is frequency-dependent (more on that in the next big section)."
   ]
  },
  {
   "cell_type": "markdown",
   "metadata": {},
   "source": [
    "Moreover, if $q_\\nu^2 \\rightarrow 0$, then the visibility is just a constant, $\\bar{S}\\nu_0 y^2$. Neither of these limits will produce a wedge. Unfortunately, it is very difficult to solve the $f$ integral in the full case. \n",
    "\n",
    "We just do it numerically:"
   ]
  },
  {
   "cell_type": "code",
   "execution_count": 77,
   "metadata": {
    "ExecuteTime": {
     "end_time": "2017-08-30T06:55:41.860334",
     "start_time": "2017-08-30T06:55:41.855265Z"
    },
    "collapsed": true
   },
   "outputs": [],
   "source": [
    "def Vnu(y2, su2, mu1, f, u):\n",
    "    q = 2*np.pi*su2*y2\n",
    "    \n",
    "    p1 = 1+q*f**2\n",
    "    p2 = 1+2*q*f**2\n",
    "\n",
    "    prefac =  mu1*nu0*y2 * p1/p2\n",
    "    exppart = np.exp(np.outer(u**2, q*y2*f**2*(1/p2-1/p1)))\n",
    "    \n",
    "    return (prefac*exppart).T"
   ]
  },
  {
   "cell_type": "markdown",
   "metadata": {},
   "source": [
    "Foran MWA-like setup, we have $y^2 \\approx 0.25$ and $\\sigma_u\\approx 40.$:"
   ]
  },
  {
   "cell_type": "code",
   "execution_count": 81,
   "metadata": {
    "ExecuteTime": {
     "end_time": "2017-08-30T06:57:51.431003",
     "start_time": "2017-08-30T06:57:50.850231Z"
    }
   },
   "outputs": [
    {
     "data": {
      "image/png": "[encoded data removed]",
      "text/plain": [
       "<matplotlib.figure.Figure at 0x7f0543b7eb90>"
      ]
     },
     "metadata": {},
     "output_type": "display_data"
    }
   ],
   "source": [
    "vis_nu = Vnu(0.25, 1600., mu1, f, u) \n",
    "power, eta = power_from_vis(vis_nu, f, nu0)\n",
    "plot_power(power,u,eta,vmin=1e-12)"
   ]
  },
  {
   "cell_type": "markdown",
   "metadata": {
    "ExecuteTime": {
     "end_time": "2017-08-30T06:57:10.924467",
     "start_time": "2017-08-30T06:57:10.470297Z"
    }
   },
   "source": [
    "For a smaller beam (i.e. SKA-like):"
   ]
  },
  {
   "cell_type": "code",
   "execution_count": 83,
   "metadata": {
    "ExecuteTime": {
     "end_time": "2017-08-30T06:58:41.192768",
     "start_time": "2017-08-30T06:58:40.733774Z"
    }
   },
   "outputs": [
    {
     "data": {
      "image/png": "[encoded data removed]",
      "text/plain": [
       "<matplotlib.figure.Figure at 0x7f054437eed0>"
      ]
     },
     "metadata": {},
     "output_type": "display_data"
    }
   ],
   "source": [
    "vis_nu = Vnu(0.025**2, 1600., mu1, f, u) \n",
    "power, eta = power_from_vis(vis_nu, f, nu0)\n",
    "plot_power(power,u,eta,vmin=1e-12)"
   ]
  },
  {
   "cell_type": "markdown",
   "metadata": {},
   "source": [
    "There is a slight wedge here, but it is very damped. This may be because of the infinite layout, *or* it may be because the sky is completely uniform. This second assumption we'll tackle next."
   ]
  },
  {
   "cell_type": "markdown",
   "metadata": {},
   "source": [
    "### Sky-Distribution: Stochastic  Uniform"
   ]
  },
  {
   "cell_type": "markdown",
   "metadata": {},
   "source": [
    "** See the Top-Hat section corresponding to this to see the derivation of the basic equations **\n",
    "\n",
    "In this case, where the beam is a gaussian, it can be removed and the integral over $\\mathbf{l}$ performed immediately:\n",
    "\n",
    "\\begin{equation}\n",
    "    {\\rm Var}\\left(\\tilde{V}(\\eta, \\mathbf{u})\\right) = \\sum_{i_1=1}^{N_{\\rm bl}}\\sum_{i_2=1}^{N_{\\rm bl}} \\frac{\\mu_2 \\nu_0^2 y^2}{2} \\int d f' e^{-2\\pi i f' \\nu_0 \\eta} \\int df'' e^{+2\\pi i f'' \\nu_0 \\eta} \\frac{W'(\\mathbf{u} - f'\\mathbf{u}_{i_1}) W''(\\mathbf{u} - f''\\mathbf{u}_{i_2})}{\\sum_{k=1}^{N_{\\rm bl}}W'(\\mathbf{u} - f' \\mathbf{u}_k)\\sum_{k=1}^{N_{\\rm bl}}W''(\\mathbf{u} - f'' \\mathbf{u}_k)} \\exp\\left[-\\sigma^2(f'\\mathbf{u}_{i_1} -f'' \\mathbf{u}_{i_2})^2)\\right].\n",
    "\\end{equation}"
   ]
  },
  {
   "cell_type": "markdown",
   "metadata": {},
   "source": [
    "#### Gridding: Dirac Delta"
   ]
  },
  {
   "cell_type": "markdown",
   "metadata": {},
   "source": [
    "It is clear that this will end up with a dirac function at $\\eta = 0$ (see top-hat corresponding section)."
   ]
  },
  {
   "cell_type": "markdown",
   "metadata": {},
   "source": [
    "#### Gridding: NGP"
   ]
  },
  {
   "cell_type": "markdown",
   "metadata": {},
   "source": [
    "(See corresponding section under single-source dist. for details of assumptions here).\n",
    "\n",
    "In this case then we have $\\mathbf{u}_i = \\mathbf{u}$ and $W = 1$, and since the original baselines *must* be $\\mathbf{u}$, we have:\n",
    "\n",
    "\\begin{equation}\n",
    "    {\\rm Var}\\left(\\tilde{V}(\\eta, \\mathbf{u})\\right) = \\pi \\mu_2 \\sigma^2 \\nu_0^2 \\int d f' e^{-2\\pi i f' \\nu_0 \\eta} \\int df'' e^{+2\\pi i f'' \\nu_0 \\eta} e^{-\\sigma^2 f_\\nu^2 u^2},\n",
    "\\end{equation}\n",
    "\n",
    "with $f_\\nu = f'-f''$."
   ]
  },
  {
   "cell_type": "markdown",
   "metadata": {},
   "source": [
    "It is worth deriving this case fully for a gaussian taper/bandpass. The algebra gets a little tedious, but we can use Wolfram|Alpha as a two-step process to get the doube integral.\n",
    "\n",
    "We let $q^2 = \\sigma^2 u^2$,and $\\omega = 2\\pi \\nu_0\\eta$, for clarity, and find \n",
    "\n",
    "$$ Var(V) = \\frac{2\\pi^2 \\mu_2 \\sigma^2 \\nu_0^2 \\tau^2}{\\sqrt{4q^2\\tau^2 + 1}} \\exp\\left(-\\frac{\\tau^2 \\omega^2}{4q^2 \\tau^2 + 1}\\right). $$"
   ]
  },
  {
   "cell_type": "markdown",
   "metadata": {},
   "source": [
    "#### Gridding: Weighted"
   ]
  },
  {
   "cell_type": "markdown",
   "metadata": {},
   "source": [
    "We begin with\n",
    "\n",
    "\\begin{equation}\n",
    "    {\\rm Var}\\left(\\tilde{V}(\\eta, \\mathbf{u})\\right) = \\sum_{i_1=1}^{N_{\\rm bl}}\\sum_{i_2=1}^{N_{\\rm bl}} \\frac{\\mu_2 \\nu_0^2 y^2}{2} \\int d f' e^{-2\\pi i f' \\nu_0 \\eta} \\int df'' e^{+2\\pi i f'' \\nu_0 \\eta} \\frac{\\hat{B}(\\mathbf{u} - f'\\mathbf{u}_{i_1}) \\hat{B}(\\mathbf{u} - f''\\mathbf{u}_{i_2})}{\\sum_{k=1}^{N_{\\rm bl}}\\hat{B}(\\mathbf{u} - f' \\mathbf{u}_k)\\sum_{k=1}^{N_{\\rm bl}}\\hat{B}(\\mathbf{u} - f'' \\mathbf{u}_k)} \\exp\\left[-\\sigma^2(f'\\mathbf{u}_{i_1} -f'' \\mathbf{u}_{i_2})^2)\\right],\n",
    "\\end{equation}\n",
    "\n",
    "with $\\hat{B} \\propto e^{-\\pi y^2 u^2}$."
   ]
  },
  {
   "cell_type": "markdown",
   "metadata": {},
   "source": [
    "##### Baseline Layout: Symmetric Gaussian"
   ]
  },
  {
   "cell_type": "markdown",
   "metadata": {},
   "source": [
    "Let the baseline layout (number density) be \n",
    "\n",
    "$$\\rho(u_i) \\propto e^{-u_i^2/2\\sigma_u^2}. $$\n",
    "\n",
    "Then the sum over baselines may be converted to an integral.\n",
    "\n",
    "Again the integral in the denominator is:\n",
    "\n",
    "$$\\int d^2\\mathbf{u}_i e^{-u_i^2/2\\sigma_u^2}\\hat{B}(\\mathbf{u} - f \\mathbf{u}_i) = e^{-\\pi y^2 u^2}\\left(\\frac{\\pi}{1/2\\sigma_u^2 + \\pi y^2f^2}\\right)\\exp\\left(\\frac{\\pi^2y^4f^2u^2}{1/2\\sigma_u^2 + \\pi y^2f^2}\\right). $$"
   ]
  },
  {
   "cell_type": "code",
   "execution_count": 6,
   "metadata": {
    "ExecuteTime": {
     "end_time": "2018-01-10T05:32:54.749148Z",
     "start_time": "2018-01-10T05:32:54.742315Z"
    }
   },
   "outputs": [],
   "source": [
    "from scipy.integrate import simps\n",
    "from scipy.special import comb"
   ]
  },
  {
   "cell_type": "code",
   "execution_count": 7,
   "metadata": {
    "ExecuteTime": {
     "end_time": "2018-01-10T05:32:58.079898Z",
     "start_time": "2018-01-10T05:32:58.035247Z"
    }
   },
   "outputs": [],
   "source": [
    "comb?"
   ]
  },
  {
   "cell_type": "code",
   "execution_count": 23,
   "metadata": {
    "ExecuteTime": {
     "end_time": "2018-01-10T06:04:15.762471Z",
     "start_time": "2018-01-10T06:04:15.750943Z"
    }
   },
   "outputs": [
    {
     "name": "stdout",
     "output_type": "stream",
     "text": [
      "1.9634952841 6.15676388823\n"
     ]
    }
   ],
   "source": [
    "x = np.linspace(0,2*np.pi, 1000)\n",
    "n = 3\n",
    "a = 0.001\n",
    "ne = 1\n",
    "ul = 1\n",
    "\n",
    "y = np.cos(x)**(2*n)\n",
    "yy = np.exp(-a*(ne + ul*x)**2)\n",
    "\n",
    "print simps(y,x), simps(yy,x)"
   ]
  },
  {
   "cell_type": "code",
   "execution_count": 22,
   "metadata": {
    "ExecuteTime": {
     "end_time": "2018-01-10T06:03:28.040818Z",
     "start_time": "2018-01-10T06:03:28.030357Z"
    }
   },
   "outputs": [
    {
     "data": {
      "text/plain": [
       "(1.9634954084936207, 0.985)"
      ]
     },
     "execution_count": 22,
     "metadata": {},
     "output_type": "execute_result"
    }
   ],
   "source": [
    "2*np.pi * comb(2*n,n)/4**n, 1 - a*(ne**2 + 0.5*ul**2)"
   ]
  },
  {
   "cell_type": "code",
   "execution_count": 18,
   "metadata": {
    "ExecuteTime": {
     "end_time": "2018-01-10T05:58:29.690568Z",
     "start_time": "2018-01-10T05:58:29.542756Z"
    }
   },
   "outputs": [
    {
     "data": {
      "text/plain": [
       "<matplotlib.colorbar.Colorbar at 0x7f1c6f0ac250>"
      ]
     },
     "execution_count": 18,
     "metadata": {},
     "output_type": "execute_result"
    },
    {
     "data": {
      "image/png": "[encoded data removed]",
      "text/plain": [
       "<matplotlib.figure.Figure at 0x7f1c6f5d4510>"
      ]
     },
     "metadata": {},
     "output_type": "display_data"
    }
   ],
   "source": [
    "u = np.logspace(0,3,100)\n",
    "eta = np.logspace(-3,0,100)\n",
    "\n",
    "nu0 = 150.0\n",
    "l0 = 0.1\n",
    "tau = 1e3\n",
    "\n",
    "U,ETA = np.meshgrid(u,eta)\n",
    "plt.imshow(1 - 2*np.pi**2 * ((nu0*ETA)**2 + 0.5*(U*l0)**2)/tau**2,\n",
    "          origin='lower')\n",
    "plt.colorbar()"
   ]
  },
  {
   "cell_type": "code",
   "execution_count": null,
   "metadata": {},
   "outputs": [],
   "source": []
  }
 ],
 "metadata": {
  "celltoolbar": "Initialisation Cell",
  "kernelspec": {
   "display_name": "Python [default]",
   "language": "python",
   "name": "python3"
  },
  "language_info": {
   "codemirror_mode": {
    "name": "ipython",
    "version": 3
   },
   "file_extension": ".py",
   "mimetype": "text/x-python",
   "name": "python",
   "nbconvert_exporter": "python",
   "pygments_lexer": "ipython3",
   "version": "3.6.3"
  },
  "latex_envs": {
   "LaTeX_envs_menu_present": true,
   "autocomplete": true,
   "bibliofile": "biblio.bib",
   "cite_by": "apalike",
   "current_citInitial": 1,
   "eqLabelWithNumbers": true,
   "eqNumInitial": 0,
   "hotkeys": {
    "equation": "Ctrl-E",
    "itemize": "Ctrl-I"
   },
   "labels_anchors": false,
   "latex_user_defs": false,
   "report_style_numbering": false,
   "user_envs_cfg": false
  },
  "nav_menu": {},
  "toc": {
   "nav_menu": {},
   "number_sections": true,
   "sideBar": true,
   "skip_h1_title": false,
   "toc_cell": false,
   "toc_position": {
    "height": "865px",
    "left": "0px",
    "right": "1541px",
    "top": "111px",
    "width": "331px"
   },
   "toc_section_display": "block",
   "toc_window_display": true
  },
  "toc_position": {
   "height": "611px",
   "left": "0px",
   "right": "614.75px",
   "top": "163px",
   "width": "239px"
  },
  "varInspector": {
   "cols": {
    "lenName": 16,
    "lenType": 16,
    "lenVar": 40
   },
   "kernels_config": {
    "python": {
     "delete_cmd_postfix": "",
     "delete_cmd_prefix": "del ",
     "library": "var_list.py",
     "varRefreshCmd": "print(var_dic_list())"
    },
    "r": {
     "delete_cmd_postfix": ") ",
     "delete_cmd_prefix": "rm(",
     "library": "var_list.r",
     "varRefreshCmd": "cat(var_dic_list()) "
    }
   },
   "types_to_exclude": [
    "module",
    "function",
    "builtin_function_or_method",
    "instance",
    "_Feature"
   ],
   "window_display": false
  }
 },
 "nbformat": 4,
 "nbformat_minor": 2
}
