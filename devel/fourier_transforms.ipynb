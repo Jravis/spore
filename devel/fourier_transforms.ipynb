{
 "cells": [
  {
   "cell_type": "code",
   "execution_count": 1,
   "metadata": {
    "ExecuteTime": {
     "end_time": "2017-02-23T13:36:08.294652",
     "start_time": "2017-02-23T13:36:08.167782"
    },
    "collapsed": true,
    "init_cell": true
   },
   "outputs": [],
   "source": [
    "from numpy.fft import fftn,ifftn,fftshift,ifftshift,fftfreq\n",
    "import numpy as np\n",
    "\n",
    "import matplotlib.pyplot as plt\n",
    "%matplotlib inline"
   ]
  },
  {
   "cell_type": "code",
   "execution_count": 2,
   "metadata": {
    "ExecuteTime": {
     "end_time": "2017-02-23T13:36:08.298177",
     "start_time": "2017-02-23T13:36:08.295511"
    },
    "collapsed": true,
    "init_cell": true
   },
   "outputs": [],
   "source": [
    "def circavg(field,coords,bins):\n",
    "    weights,edges = np.histogram(coords.flatten(), bins=bins)\n",
    "    binav = np.histogram(coords.flatten(),bins=bins,weights=coords.flatten())[0]/weights\n",
    "    return np.histogram(coords.flatten(),bins=bins,weights=field.flatten())[0]/weights, binav"
   ]
  },
  {
   "cell_type": "code",
   "execution_count": 3,
   "metadata": {
    "ExecuteTime": {
     "end_time": "2017-02-20T13:51:48.599238",
     "start_time": "2017-02-20T13:51:48.565328"
    },
    "collapsed": false,
    "init_cell": false
   },
   "outputs": [],
   "source": [
    "def fft(X,L=1,a=0,b=2*np.pi,axes=None):\n",
    "    if axes is None:\n",
    "        axes = range(len(X.shape))\n",
    "      \n",
    "    if np.isscalar(L):\n",
    "        L = [L]*len(axes)\n",
    "    L = np.array(L)\n",
    "    N = [X.shape[axis] for axis in axes]\n",
    "    V = np.product(L)\n",
    "    dx = np.array([float(l)/float(n) for l,n in zip(L,N)])\n",
    "    Vx = V/np.product(N)\n",
    "    \n",
    "    ft = Vx*fftshift(fftn(X,axes=axes)) * np.sqrt(np.abs(b)/(2*np.pi)**(1-a))**len(axes)\n",
    "    freq = np.array([fftshift(fftfreq(n,d=d)) for n,d in zip(N,dx)])*(2*np.pi/b)\n",
    "    print Vx, np.sqrt(np.abs(b)/(2*np.pi)**(1-a))**len(axes), (2*np.pi/b)\n",
    "    \n",
    "    grid = freq[0]**2\n",
    "    for i in range(len(axes)-1):\n",
    "        grid = np.add.outer(grid,freq[i]**2)\n",
    "        \n",
    "    return ft, freq, np.sqrt(grid)\n",
    "\n",
    "def ifft(X,Lk=1,a=0,b=2*np.pi,axes=None):\n",
    "    if axes is None:\n",
    "        axes = range(len(X.shape))\n",
    "      \n",
    "    if np.isscalar(Lk):\n",
    "        Lk = [Lk]*len(axes)\n",
    "    Lk = np.array(Lk)\n",
    "    N = [X.shape[axis] for axis in axes]\n",
    "    \n",
    "    V = np.product(Lk)\n",
    "    dk = np.array([float(lk)/float(n) for lk,n in zip(Lk,N)])\n",
    "    Vk = np.product(dk)\n",
    "    \n",
    "    #print Lk,N, V, dk, Vk\n",
    "    print V, np.sqrt(np.abs(b)/(2*np.pi)**(1+a))**len(axes), (2*np.pi/b)\n",
    "    \n",
    "    ft = V*ifftn(ifftshift(X),axes=axes) * np.sqrt(np.abs(b)/(2*np.pi)**(1+a))**len(axes)\n",
    "    \n",
    "    freq = np.array([fftshift(fftfreq(n,d=d)) for n,d in zip(N,dk)])*(2*np.pi/b)\n",
    "    \n",
    "    grid = freq[0]**2\n",
    "    for i in range(len(axes)-1):\n",
    "        grid = np.add.outer(grid,freq[i]**2)\n",
    "        \n",
    "    return ft, freq, np.sqrt(grid)"
   ]
  },
  {
   "cell_type": "markdown",
   "metadata": {},
   "source": [
    "## Test Round-Trip"
   ]
  },
  {
   "cell_type": "markdown",
   "metadata": {},
   "source": [
    "### Setup"
   ]
  },
  {
   "cell_type": "code",
   "execution_count": 27,
   "metadata": {
    "ExecuteTime": {
     "end_time": "2017-02-20T14:18:32.551845",
     "start_time": "2017-02-20T14:18:32.517426"
    },
    "collapsed": false
   },
   "outputs": [
    {
     "name": "stdout",
     "output_type": "stream",
     "text": [
      "1000 4.99 -5.0\n"
     ]
    }
   ],
   "source": [
    "N = 1000\n",
    "L = 10.\n",
    "dx = L/N\n",
    "x = np.arange(-L/2 , L/2,dx)[:N]\n",
    "print len(x), x.max(),x.min()\n",
    "X,Y = np.meshgrid(x,x)\n",
    "\n",
    "a_squared = 1\n",
    "\n",
    "fx = np.exp(-np.pi*a_squared*(X**2+Y**2))"
   ]
  },
  {
   "cell_type": "markdown",
   "metadata": {},
   "source": [
    "### Unitary, Ordinary Frequency"
   ]
  },
  {
   "cell_type": "code",
   "execution_count": 28,
   "metadata": {
    "ExecuteTime": {
     "end_time": "2017-02-20T14:18:34.488053",
     "start_time": "2017-02-20T14:18:34.360425"
    },
    "collapsed": false
   },
   "outputs": [
    {
     "name": "stdout",
     "output_type": "stream",
     "text": [
      "0.0001 1.0 1.0\n",
      "10000.0 1.0 1.0\n",
      "Maximum Difference (centre lies at 1):  1.55431223448e-15\n",
      "Maximum Difference in grid:  2.13162820728e-13\n"
     ]
    }
   ],
   "source": [
    "a,b = 0 , 2*np.pi\n",
    "Fx,freq,grid = fft(fx,L=L,a=a,b=b)\n",
    "\n",
    "Lk = -2*np.min(freq)\n",
    "fx_,x_,_ = ifft(Fx,Lk=Lk,a=a,b=b)\n",
    "print \"Maximum Difference (centre lies at 1): \", np.max(np.real((fx_-fx)))\n",
    "print \"Maximum Difference in grid: \", np.max(x_[0]-x)"
   ]
  },
  {
   "cell_type": "markdown",
   "metadata": {},
   "source": [
    "### Unitary, Angular Freq."
   ]
  },
  {
   "cell_type": "code",
   "execution_count": null,
   "metadata": {
    "collapsed": true
   },
   "outputs": [],
   "source": []
  },
  {
   "cell_type": "code",
   "execution_count": 26,
   "metadata": {
    "ExecuteTime": {
     "end_time": "2017-02-20T14:18:25.068992",
     "start_time": "2017-02-20T14:18:25.055514"
    },
    "collapsed": false
   },
   "outputs": [
    {
     "ename": "NameError",
     "evalue": "name 'fx' is not defined",
     "output_type": "error",
     "traceback": [
      "\u001b[0;31m---------------------------------------------------------------------------\u001b[0m",
      "\u001b[0;31mNameError\u001b[0m                                 Traceback (most recent call last)",
      "\u001b[0;32m<ipython-input-26-acda70c6a7f5>\u001b[0m in \u001b[0;36m<module>\u001b[0;34m()\u001b[0m\n\u001b[1;32m      1\u001b[0m \u001b[0ma\u001b[0m\u001b[0;34m,\u001b[0m\u001b[0mb\u001b[0m \u001b[0;34m=\u001b[0m \u001b[0;36m0\u001b[0m \u001b[0;34m,\u001b[0m\u001b[0;36m1\u001b[0m\u001b[0;34m\u001b[0m\u001b[0m\n\u001b[0;32m----> 2\u001b[0;31m \u001b[0mFx\u001b[0m\u001b[0;34m,\u001b[0m\u001b[0mfreq\u001b[0m\u001b[0;34m,\u001b[0m\u001b[0mgrid\u001b[0m \u001b[0;34m=\u001b[0m \u001b[0mfft\u001b[0m\u001b[0;34m(\u001b[0m\u001b[0mfx\u001b[0m\u001b[0;34m,\u001b[0m\u001b[0mL\u001b[0m\u001b[0;34m=\u001b[0m\u001b[0mL\u001b[0m\u001b[0;34m,\u001b[0m\u001b[0ma\u001b[0m\u001b[0;34m=\u001b[0m\u001b[0ma\u001b[0m\u001b[0;34m,\u001b[0m\u001b[0mb\u001b[0m\u001b[0;34m=\u001b[0m\u001b[0mb\u001b[0m\u001b[0;34m)\u001b[0m\u001b[0;34m\u001b[0m\u001b[0m\n\u001b[0m\u001b[1;32m      3\u001b[0m \u001b[0;34m\u001b[0m\u001b[0m\n\u001b[1;32m      4\u001b[0m \u001b[0mLk\u001b[0m \u001b[0;34m=\u001b[0m \u001b[0;34m-\u001b[0m\u001b[0;36m2\u001b[0m\u001b[0;34m*\u001b[0m\u001b[0mnp\u001b[0m\u001b[0;34m.\u001b[0m\u001b[0mmin\u001b[0m\u001b[0;34m(\u001b[0m\u001b[0mfreq\u001b[0m\u001b[0;34m)\u001b[0m\u001b[0;34m\u001b[0m\u001b[0m\n\u001b[1;32m      5\u001b[0m \u001b[0mfx_\u001b[0m\u001b[0;34m,\u001b[0m\u001b[0mx_\u001b[0m\u001b[0;34m,\u001b[0m\u001b[0m_\u001b[0m \u001b[0;34m=\u001b[0m \u001b[0mifft\u001b[0m\u001b[0;34m(\u001b[0m\u001b[0mFx\u001b[0m\u001b[0;34m,\u001b[0m\u001b[0mLk\u001b[0m\u001b[0;34m=\u001b[0m\u001b[0mLk\u001b[0m\u001b[0;34m,\u001b[0m\u001b[0ma\u001b[0m\u001b[0;34m=\u001b[0m\u001b[0ma\u001b[0m\u001b[0;34m,\u001b[0m\u001b[0mb\u001b[0m\u001b[0;34m=\u001b[0m\u001b[0mb\u001b[0m\u001b[0;34m)\u001b[0m\u001b[0;34m\u001b[0m\u001b[0m\n",
      "\u001b[0;31mNameError\u001b[0m: name 'fx' is not defined"
     ]
    }
   ],
   "source": [
    "a,b = 0 ,1\n",
    "Fx,freq,grid = fft(fx,L=L,a=a,b=b)\n",
    "\n",
    "Lk = -2*np.min(freq)\n",
    "fx_,x_,_ = ifft(Fx,Lk=Lk,a=a,b=b)\n",
    "print \"Maximum Difference (centre lies at 1): \", np.max(np.real((fx_-fx)))\n",
    "print \"Maximum Difference in grid: \", np.max(x_[0]-x)"
   ]
  },
  {
   "cell_type": "markdown",
   "metadata": {},
   "source": [
    "### Non-Unitary, Angular Freq."
   ]
  },
  {
   "cell_type": "code",
   "execution_count": 155,
   "metadata": {
    "ExecuteTime": {
     "end_time": "2017-02-17T10:29:55.962493",
     "start_time": "2017-02-17T10:29:55.640274"
    },
    "collapsed": false
   },
   "outputs": [
    {
     "name": "stdout",
     "output_type": "stream",
     "text": [
      "[ 0.01  0.01]\n",
      "[ 628.31853072  628.31853072] [1000, 1000] 394784.176044 [ 0.62831853  0.62831853] 0.394784176044\n",
      "Maximum Difference (centre lies at 1):  1.60982338571e-15\n",
      "Maximum Difference in grid:  2.13162820728e-13\n"
     ]
    }
   ],
   "source": [
    "a,b = 1. ,1.\n",
    "Fx,freq,grid = fft(fx,L=L,a=a,b=b)\n",
    "\n",
    "Lk = -2*np.min(freq)\n",
    "fx_,x_,_ = ifft(Fx,Lk=Lk,a=a,b=b)\n",
    "print \"Maximum Difference (centre lies at 1): \", np.max(np.real((fx_-fx)))\n",
    "print \"Maximum Difference in grid: \", np.max(x_[0]-x)"
   ]
  },
  {
   "cell_type": "markdown",
   "metadata": {},
   "source": [
    "## Test Forward Transform"
   ]
  },
  {
   "cell_type": "markdown",
   "metadata": {},
   "source": [
    "We are trying to make sure of the following (from Wikipedia, specifically 401):\n",
    "\n",
    "<img src=\"2d_fourier_wiki.jpg\">"
   ]
  },
  {
   "cell_type": "markdown",
   "metadata": {},
   "source": [
    "### Setup"
   ]
  },
  {
   "cell_type": "code",
   "execution_count": 56,
   "metadata": {
    "ExecuteTime": {
     "end_time": "2017-02-17T09:24:32.233825",
     "start_time": "2017-02-17T09:24:32.168171"
    },
    "collapsed": true
   },
   "outputs": [],
   "source": [
    "N = 1000\n",
    "x = np.linspace(-10,10,N)\n",
    "X,Y = np.meshgrid(x,x)\n",
    "\n",
    "a_squared = 1\n",
    "\n",
    "fx = np.exp(-np.pi*a_squared*(X**2+Y**2))"
   ]
  },
  {
   "cell_type": "markdown",
   "metadata": {},
   "source": [
    "### unitary, ordinary frequency"
   ]
  },
  {
   "cell_type": "code",
   "execution_count": 156,
   "metadata": {
    "ExecuteTime": {
     "end_time": "2017-02-17T10:30:22.548485",
     "start_time": "2017-02-17T10:30:21.270448"
    },
    "collapsed": false
   },
   "outputs": [
    {
     "name": "stdout",
     "output_type": "stream",
     "text": [
      "[ 0.01  0.01]\n"
     ]
    },
    {
     "data": {
      "text/plain": [
       "(1e-21, 1000.0)"
      ]
     },
     "execution_count": 156,
     "metadata": {},
     "output_type": "execute_result"
    },
    {
     "data": {
      "image/png": "[encoded data removed]",
      "text/plain": [
       "<matplotlib.figure.Figure at 0x7fac497d2a10>"
      ]
     },
     "metadata": {},
     "output_type": "display_data"
    }
   ],
   "source": [
    "a,b = 0, 2*np.pi\n",
    "\n",
    "Fx,freq,grid = fft(fx,L=L,a=a,b=b)\n",
    "Fx_anl_fc = lambda k : (1./a_squared) * np.exp(-np.pi*k**2/a_squared)\n",
    "\n",
    "# Analytic transform\n",
    "Fx_anl = Fx_anl_fc(grid)\n",
    "\n",
    "Fx_circ, bins = circavg(np.abs(Fx),grid,int(N/2.2))\n",
    "Fx_anl_circ = circavg(Fx_anl,grid,int(N/2.2))[0]\n",
    "\n",
    "# Numerical beam transform\n",
    "plt.plot(bins,Fx_circ)\n",
    "plt.plot(bins,Fx_anl_circ)\n",
    "plt.yscale('log')\n",
    "plt.xscale('log')\n",
    "plt.ylim(1e-21,1e3)"
   ]
  },
  {
   "cell_type": "markdown",
   "metadata": {},
   "source": [
    "### Unitary, Angular Frequency"
   ]
  },
  {
   "cell_type": "code",
   "execution_count": 157,
   "metadata": {
    "ExecuteTime": {
     "end_time": "2017-02-17T10:30:29.239902",
     "start_time": "2017-02-17T10:30:27.884123"
    },
    "collapsed": false
   },
   "outputs": [
    {
     "name": "stdout",
     "output_type": "stream",
     "text": [
      "[ 0.01  0.01]\n"
     ]
    },
    {
     "data": {
      "text/plain": [
       "(1e-21, 1000.0)"
      ]
     },
     "execution_count": 157,
     "metadata": {},
     "output_type": "execute_result"
    },
    {
     "data": {
      "image/png": "[encoded data removed]",
      "text/plain": [
       "<matplotlib.figure.Figure at 0x7fac49bf8cd0>"
      ]
     },
     "metadata": {},
     "output_type": "display_data"
    }
   ],
   "source": [
    "a,b = 0, 1.\n",
    "\n",
    "Fx,freq,grid = fft(fx,L=L,a=a,b=b)\n",
    "Fx_anl_fc = lambda k : 1./(2*np.pi*a_squared) * np.exp(-(1./(4*np.pi))*k**2/a_squared)\n",
    "\n",
    "# Analytic transform\n",
    "Fx_anl = Fx_anl_fc(grid)\n",
    "\n",
    "Fx_circ, bins = circavg(np.abs(Fx),grid,int(N/2.2))\n",
    "Fx_anl_circ = circavg(Fx_anl,grid,int(N/2.2))[0]\n",
    "\n",
    "# Numerical beam transform\n",
    "plt.plot(bins,Fx_circ)\n",
    "plt.plot(bins,Fx_anl_circ)\n",
    "plt.yscale('log')\n",
    "plt.xscale('log')\n",
    "plt.ylim(1e-21,1e3)"
   ]
  },
  {
   "cell_type": "markdown",
   "metadata": {},
   "source": [
    "### Non-unitary, Angular Frequency"
   ]
  },
  {
   "cell_type": "code",
   "execution_count": 158,
   "metadata": {
    "ExecuteTime": {
     "end_time": "2017-02-17T10:30:35.222896",
     "start_time": "2017-02-17T10:30:33.607012"
    },
    "collapsed": false
   },
   "outputs": [
    {
     "name": "stdout",
     "output_type": "stream",
     "text": [
      "[ 0.01  0.01]\n"
     ]
    },
    {
     "data": {
      "text/plain": [
       "(1e-21, 1000.0)"
      ]
     },
     "execution_count": 158,
     "metadata": {},
     "output_type": "execute_result"
    },
    {
     "data": {
      "image/png": "[encoded data removed]",
      "text/plain": [
       "<matplotlib.figure.Figure at 0x7fac498dd890>"
      ]
     },
     "metadata": {},
     "output_type": "display_data"
    }
   ],
   "source": [
    "a,b = 1,1\n",
    "\n",
    "Fx,freq,grid = fft(fx,L=L,a=a,b=b)\n",
    "Fx_anl_fc = lambda k : (1./a_squared) * np.exp(-k**2/(4*np.pi*a_squared))\n",
    "\n",
    "# Analytic transform\n",
    "Fx_anl = Fx_anl_fc(grid)\n",
    "\n",
    "Fx_circ, bins = circavg(np.abs(Fx),grid,int(N/2.2))\n",
    "Fx_anl_circ = circavg(Fx_anl,grid,int(N/2.2))[0]\n",
    "\n",
    "# Numerical beam transform\n",
    "plt.plot(bins,Fx_circ)\n",
    "plt.plot(bins,Fx_anl_circ)\n",
    "plt.yscale('log')\n",
    "plt.xscale('log')\n",
    "plt.ylim(1e-21,1e3)"
   ]
  },
  {
   "cell_type": "markdown",
   "metadata": {},
   "source": [
    "## Test mixed round-trip"
   ]
  },
  {
   "cell_type": "markdown",
   "metadata": {},
   "source": [
    "Here we test a mixed round-trip. That is, given a forward transform with parameters $a,b$ and an inverse transform with parameters $a',b'$, doing a forward-then-backward transform should yield:\n",
    "\n",
    "$$ \\left( \\frac{b'}{b(2\\pi)^{a'-a}}\\right)^{n/2} f\\left(\\frac{b'r}{b}\\right), $$\n",
    "\n",
    "and doing it the other way should yield:\n",
    "\n",
    "$$ \\left( \\frac{b}{b'(2\\pi)^{a'-a}}\\right)^{n/2} F\\left(\\frac{bk}{b'}\\right), $$\n"
   ]
  },
  {
   "cell_type": "markdown",
   "metadata": {},
   "source": [
    "### Setup"
   ]
  },
  {
   "cell_type": "code",
   "execution_count": 165,
   "metadata": {
    "ExecuteTime": {
     "end_time": "2017-02-17T14:13:46.880812",
     "start_time": "2017-02-17T14:13:46.876592"
    },
    "collapsed": false
   },
   "outputs": [],
   "source": [
    "N = 1000\n",
    "L = 10.\n",
    "dx = L/N\n",
    "x = np.arange(-L/2 , L/2,dx)[:N]\n",
    "\n",
    "alpha = np.pi\n",
    "fx = np.exp(-alpha*x**2)"
   ]
  },
  {
   "cell_type": "markdown",
   "metadata": {},
   "source": [
    "### Unitary -- Ordinary/Angular Freq"
   ]
  },
  {
   "cell_type": "markdown",
   "metadata": {},
   "source": [
    "Let the forward transform have $(a,b) = (0,2\\pi)$ and the backward transform have $(a',b') = (0,1)$, then the forward-then-back transform for a 1D problem should be:\n",
    "\n",
    "$$ f(r/(2\\pi))/ \\sqrt{2\\pi}, $$\n",
    "\n",
    "and the backward-then-forward should be\n",
    "\n",
    "$$ \\sqrt{2\\pi} F(2\\pi k). $$"
   ]
  },
  {
   "cell_type": "code",
   "execution_count": 174,
   "metadata": {
    "ExecuteTime": {
     "end_time": "2017-02-17T15:03:42.830564",
     "start_time": "2017-02-17T15:03:42.309537"
    },
    "collapsed": false
   },
   "outputs": [
    {
     "name": "stdout",
     "output_type": "stream",
     "text": [
      "[ 0.01]\n",
      "[ 100.] [1000] 100.0 [ 0.1] 0.1\n"
     ]
    },
    {
     "data": {
      "image/png": "[encoded data removed]",
      "text/plain": [
       "<matplotlib.figure.Figure at 0x7fac494267d0>"
      ]
     },
     "metadata": {},
     "output_type": "display_data"
    }
   ],
   "source": [
    "# Forward-then-back\n",
    "\n",
    "a,b = 0 , 2*np.pi\n",
    "Fk,freq,grid = fft(fx,L=L,a=0,b=2*np.pi)\n",
    "\n",
    "Lk = -2*np.min(freq)\n",
    "\n",
    "fx_,x_,_ = ifft(Fk,Lk=Lk,a=0,b=1)\n",
    "#fx_,bins = circavg(fx_,grid,200)\n",
    "\n",
    "plt.plot(x_[0],fx_)\n",
    "plt.plot(x,np.exp(-np.pi*(x/(2*np.pi))**2)/np.sqrt(2*np.pi))\n",
    "plt.yscale('log')\n",
    "plt.xscale('log')\n",
    "plt.ylim(1e-7,3)\n",
    "plt.show()"
   ]
  },
  {
   "cell_type": "code",
   "execution_count": 205,
   "metadata": {
    "ExecuteTime": {
     "end_time": "2017-02-17T15:23:12.252420",
     "start_time": "2017-02-17T15:23:11.858261"
    },
    "collapsed": false,
    "scrolled": true
   },
   "outputs": [
    {
     "name": "stdout",
     "output_type": "stream",
     "text": [
      "10.0 0.398942280401 6.28318530718\n",
      "0.628318530718 1.0 1.0\n"
     ]
    },
    {
     "data": {
      "text/plain": [
       "(1e-08, 50)"
      ]
     },
     "execution_count": 205,
     "metadata": {},
     "output_type": "execute_result"
    },
    {
     "data": {
      "image/png": "[encoded data removed]",
      "text/plain": [
       "<matplotlib.figure.Figure at 0x7fac49102a90>"
      ]
     },
     "metadata": {},
     "output_type": "display_data"
    }
   ],
   "source": [
    "# Back-then-forward\n",
    "\n",
    "N = 1000\n",
    "Lk = 10.\n",
    "dk = Lk/N\n",
    "k = np.arange(-Lk/2 , Lk/2,dk)[:N]\n",
    "\n",
    "alpha = np.pi\n",
    "Fk = np.exp(-alpha*k**2)\n",
    "\n",
    "\n",
    "fx,x,_ = ifft(Fk,Lk=Lk,a=0,b=1)\n",
    "Fk_,k_,_ = fft(fx,-2*np.min(x),a=0,b=2*np.pi)\n",
    "\n",
    "plt.plot(k_[0],Fk_)\n",
    "#plt.plot(k,Fk)\n",
    "plt.plot(k,np.sqrt(2*np.pi)*np.exp(-alpha*((2*np.pi)*k)**2))\n",
    "plt.xscale('log')\n",
    "plt.yscale('log')\n",
    "plt.ylim(1e-8,50)"
   ]
  },
  {
   "cell_type": "markdown",
   "metadata": {},
   "source": [
    "### Unitary -- Ordinary/Angular Freq, 2D"
   ]
  },
  {
   "cell_type": "markdown",
   "metadata": {},
   "source": [
    "Let the forward transform have $(a,b) = (0,2\\pi)$ and the backward transform have $(a',b') = (0,1)$, then the forward-then-back transform for a 2D problem should be:\n",
    "\n",
    "$$ \\frac{1}{2\\pi}f\\left(\\frac{r}{2\\pi}\\right), $$\n",
    "\n",
    "and the backward-then-forward should be\n",
    "\n",
    "$$ 2\\pi F(2\\pi k). $$"
   ]
  },
  {
   "cell_type": "code",
   "execution_count": 224,
   "metadata": {
    "ExecuteTime": {
     "end_time": "2017-02-17T15:55:48.669075",
     "start_time": "2017-02-17T15:55:47.949038"
    },
    "collapsed": false
   },
   "outputs": [
    {
     "name": "stdout",
     "output_type": "stream",
     "text": [
      "0.0001 1.0 1.0\n",
      "10000.0 0.159154943092 6.28318530718\n"
     ]
    },
    {
     "data": {
      "image/png": "[encoded data removed]",
      "text/plain": [
       "<matplotlib.figure.Figure at 0x7fac4971f210>"
      ]
     },
     "metadata": {},
     "output_type": "display_data"
    }
   ],
   "source": [
    "# Forward-then-back\n",
    "N = 1000\n",
    "L = 10.\n",
    "dx = L/N\n",
    "x = np.arange(-L/2 , L/2,dx)[:N]\n",
    "X,Y = np.meshgrid(x,x)\n",
    "\n",
    "a_squared = 1\n",
    "fx = np.exp(-np.pi*a_squared*(X**2+Y**2))\n",
    "\n",
    "\n",
    "a,b = 0 , 2*np.pi\n",
    "Fk,freq,grid = fft(fx,L=L,a=0,b=2*np.pi)\n",
    "Lk = -2*np.min(freq)\n",
    "fx_,x_,xgrid = ifft(Fk,Lk=Lk,a=0,b=1)\n",
    "\n",
    "\n",
    "fx_,bins = circavg(fx_,xgrid,200)\n",
    "\n",
    "plt.plot(bins,fx_)\n",
    "plt.plot(x,np.exp(-np.pi*(x/(2*np.pi))**2)/(2*np.pi))\n",
    "#plt.plot(bins,np.exp(-np.pi*bins**2))\n",
    "plt.yscale('log')\n",
    "plt.xscale('log')\n",
    "plt.ylim(1e-7,3)\n",
    "plt.show()"
   ]
  },
  {
   "cell_type": "code",
   "execution_count": 223,
   "metadata": {
    "ExecuteTime": {
     "end_time": "2017-02-17T15:55:03.547937",
     "start_time": "2017-02-17T15:55:03.000661"
    },
    "collapsed": false,
    "scrolled": true
   },
   "outputs": [
    {
     "name": "stdout",
     "output_type": "stream",
     "text": [
      "100.0 0.159154943092 6.28318530718\n",
      "0.394784176044 1.0 1.0\n"
     ]
    },
    {
     "data": {
      "text/plain": [
       "(1e-08, 50)"
      ]
     },
     "execution_count": 223,
     "metadata": {},
     "output_type": "execute_result"
    },
    {
     "data": {
      "image/png": "[encoded data removed]",
      "text/plain": [
       "<matplotlib.figure.Figure at 0x7fac490cea90>"
      ]
     },
     "metadata": {},
     "output_type": "display_data"
    }
   ],
   "source": [
    "# Back-then-forward\n",
    "\n",
    "N = 1000\n",
    "Lk = 10.\n",
    "dk = Lk/N\n",
    "k = np.arange(-Lk/2 , Lk/2,dk)[:N]\n",
    "KX,KY = np.meshgrid(k,k)\n",
    "\n",
    "alpha = np.pi\n",
    "Fk = np.exp(-alpha*(KX**2+KY**2))\n",
    "\n",
    "\n",
    "fx,x,xgrid = ifft(Fk,Lk=Lk,a=0,b=1)\n",
    "Fk_,k_,kgrid = fft(fx,-2*np.min(x),a=0,b=2*np.pi)\n",
    "\n",
    "Fk_,bins = circavg(Fk_,kgrid,200)\n",
    "\n",
    "plt.plot(bins,Fk_)\n",
    "#plt.plot(k,Fk)\n",
    "plt.plot(k,2*np.pi*np.exp(-alpha*((2*np.pi)*k)**2))\n",
    "plt.xscale('log')\n",
    "plt.yscale('log')\n",
    "plt.ylim(1e-8,50)"
   ]
  },
  {
   "cell_type": "code",
   "execution_count": 229,
   "metadata": {
    "ExecuteTime": {
     "end_time": "2017-02-17T17:02:02.812374",
     "start_time": "2017-02-17T17:02:02.809338"
    },
    "collapsed": false
   },
   "outputs": [
    {
     "data": {
      "text/plain": [
       "array([ 0.   ,  0.025,  0.05 ,  0.075,  0.1  ,  0.125,  0.15 ,  0.175,\n",
       "        0.2  ,  0.225, -0.25 , -0.225, -0.2  , -0.175, -0.15 , -0.125,\n",
       "       -0.1  , -0.075, -0.05 , -0.025])"
      ]
     },
     "execution_count": 229,
     "metadata": {},
     "output_type": "execute_result"
    }
   ],
   "source": [
    "fftfreq(20,d=2)"
   ]
  },
  {
   "cell_type": "code",
   "execution_count": 5,
   "metadata": {
    "ExecuteTime": {
     "end_time": "2017-02-20T16:48:31.797819",
     "start_time": "2017-02-20T16:48:30.983642"
    },
    "collapsed": false
   },
   "outputs": [],
   "source": [
    "from hmf import MassFunction\n",
    "from scipy.interpolate import InterpolatedUnivariateSpline as spline\n",
    "import numpy as np\n",
    "from old_powerbox import LogNormalPowerBox as _LNPB, PowerBox as _PB\n",
    "from powerbox import LogNormalPowerBox, PowerBox\n",
    "from powerbox.fft import fft,ifft,fftfreq\n",
    "from powerbox import get_power\n",
    "from old_powerbox import get_power as _get_power\n",
    "\n",
    "# Set up a MassFunction instance to access its cosmological power-spectrum\n",
    "mf = MassFunction(z=0)\n",
    "\n",
    "# Generate a callable function that returns the cosmological power spectrum.\n",
    "spl = spline(np.log(mf.k),np.log(mf.power),k=2)\n",
    "power = lambda k : np.exp(spl(np.log(k)))\n",
    "\n",
    "# Create the power-box instance. The boxlength is in inverse units of the k of which pk is a function, i.e.\n",
    "# Mpc/h in this case.\n",
    "lnpb = LogNormalPowerBox(N=128, dim=3, pk = power, boxlength= 100.,seed=1234,a=1.,b=1.)\n",
    "_lnpb = _LNPB(N=128, dim=3, pk = power, boxlength= 100.,seed=1234)\n",
    "\n",
    "pb = PowerBox(N=128, dim=3, pk = power, boxlength= 100.,seed=1234,a=0,b=2*np.pi)\n",
    "_pb = _PB(N=128, dim=3, pk = power, boxlength= 100.,seed=1234)"
   ]
  },
  {
   "cell_type": "code",
   "execution_count": 13,
   "metadata": {
    "ExecuteTime": {
     "end_time": "2017-02-20T16:18:35.863681",
     "start_time": "2017-02-20T16:18:34.707131"
    },
    "collapsed": false
   },
   "outputs": [
    {
     "data": {
      "image/png": "[encoded data removed]",
      "text/plain": [
       "<matplotlib.figure.Figure at 0x7f15dcf99b50>"
      ]
     },
     "metadata": {},
     "output_type": "display_data"
    }
   ],
   "source": [
    "\n",
    "p_k, kbins = get_power(pb.delta_x,pb.boxlength,a=0,b=2*np.pi)\n",
    "_p_k, _kbins = _get_power(_pb.delta_x,_pb.boxlength)\n",
    "\n",
    "lnp_k, lnkbins = get_power(lnpb.delta_x,lnpb.boxlength,a=1.,b=1.)\n",
    "_lnp_k, _lnkbins = _get_power(_lnpb.delta_x,_lnpb.boxlength)\n",
    "\n",
    "plt.plot(mf.k,mf.power,label=\"Input Power\")\n",
    "plt.plot(kbins,p_k,label=\"new straight pb\")\n",
    "plt.plot(_kbins,_p_k,label=\"old straight pb\")\n",
    "\n",
    "plt.plot(lnkbins,lnp_k,label=\"new ln pb\")\n",
    "plt.plot(_lnkbins,_lnp_k,label=\"old ln pb\")\n",
    "plt.plot(lnkbins,100*lnkbins**-2.)\n",
    "\n",
    "plt.xscale('log')\n",
    "plt.yscale('log')\n",
    "plt.legend()\n",
    "plt.show()"
   ]
  },
  {
   "cell_type": "code",
   "execution_count": 9,
   "metadata": {
    "ExecuteTime": {
     "end_time": "2017-02-20T16:52:50.560540",
     "start_time": "2017-02-20T16:52:25.796244"
    },
    "collapsed": false
   },
   "outputs": [
    {
     "data": {
      "image/png": "[encoded data removed]",
      "text/plain": [
       "<matplotlib.figure.Figure at 0x7f8e1d414650>"
      ]
     },
     "metadata": {},
     "output_type": "display_data"
    }
   ],
   "source": [
    "p_k = [0]*20\n",
    "lnp_k = [0]*20\n",
    "for i in range(20):\n",
    "    lnpb = LogNormalPowerBox(N=128, dim=3, pk = lambda u : 100.*u**-2., boxlength= 700.,a=0,b=2*np.pi)\n",
    "    pb = PowerBox(N=128, dim=3, pk = lambda u : 100.*u**-2., boxlength= 700.,a=0,b=2*np.pi)\n",
    "    p_k[i], kbins = get_power(pb.delta_x,pb.boxlength,a=0,b=2*np.pi)\n",
    "    lnp_k[i], lnkbins = get_power(lnpb.delta_x,lnpb.boxlength,a=0,b=2*np.pi)\n",
    "\n",
    "anl = 100.*kbins**-2.\n",
    "for i in range(20):\n",
    "    plt.plot(kbins,(p_k[i]-anl)/anl,color=\"C2\",alpha=0.5)\n",
    "    plt.plot(lnkbins,(lnp_k[i]-anl)/anl,color=\"C3\",alpha=0.5)\n",
    "#plt.plot(kbins,100.*kbins**-2.,label=\"Input Power\",lw=2,color=\"C1\")\n",
    "\n",
    "plt.grid(True)\n",
    "plt.xscale('log')\n",
    "#plt.yscale('log')\n",
    "plt.legend()\n",
    "plt.show()"
   ]
  },
  {
   "cell_type": "code",
   "execution_count": 22,
   "metadata": {
    "ExecuteTime": {
     "end_time": "2017-02-20T16:46:52.530072",
     "start_time": "2017-02-20T16:46:52.516336"
    },
    "collapsed": false
   },
   "outputs": [
    {
     "data": {
      "text/plain": [
       "1.0063715261040009"
      ]
     },
     "execution_count": 22,
     "metadata": {},
     "output_type": "execute_result"
    }
   ],
   "source": [
    "dx = np.exp(np.random.normal(size=10000,scale=2)-2)\n",
    "np.mean(dx)"
   ]
  },
  {
   "cell_type": "code",
   "execution_count": 6,
   "metadata": {
    "ExecuteTime": {
     "end_time": "2017-02-24T08:45:25.363791",
     "start_time": "2017-02-24T08:45:25.361706"
    },
    "collapsed": true
   },
   "outputs": [],
   "source": [
    "a = np.linspace(0,1,6)"
   ]
  },
  {
   "cell_type": "code",
   "execution_count": null,
   "metadata": {
    "collapsed": true
   },
   "outputs": [],
   "source": []
  },
  {
   "cell_type": "code",
   "execution_count": 7,
   "metadata": {
    "ExecuteTime": {
     "end_time": "2017-02-24T08:45:39.039806",
     "start_time": "2017-02-24T08:45:39.036549"
    },
    "collapsed": true
   },
   "outputs": [],
   "source": [
    "b = [a[i] for i in range(6)]"
   ]
  },
  {
   "cell_type": "code",
   "execution_count": 8,
   "metadata": {
    "ExecuteTime": {
     "end_time": "2017-02-24T08:45:44.437532",
     "start_time": "2017-02-24T08:45:44.431838"
    },
    "collapsed": true
   },
   "outputs": [],
   "source": [
    "a[1] = 10"
   ]
  },
  {
   "cell_type": "code",
   "execution_count": 4,
   "metadata": {
    "ExecuteTime": {
     "end_time": "2017-02-24T08:32:47.746392",
     "start_time": "2017-02-24T08:32:47.744678"
    },
    "collapsed": true
   },
   "outputs": [],
   "source": [
    "a[1,1] = 10"
   ]
  },
  {
   "cell_type": "code",
   "execution_count": 10,
   "metadata": {
    "ExecuteTime": {
     "end_time": "2017-02-24T09:28:24.969580",
     "start_time": "2017-02-24T09:28:24.966370"
    },
    "collapsed": false
   },
   "outputs": [
    {
     "data": {
      "text/plain": [
       "22"
      ]
     },
     "execution_count": 10,
     "metadata": {},
     "output_type": "execute_result"
    }
   ],
   "source": [
    "i,j,n = 2,4,5\n",
    "n*i + j if j<i else n*j+i"
   ]
  },
  {
   "cell_type": "code",
   "execution_count": 9,
   "metadata": {
    "ExecuteTime": {
     "end_time": "2017-02-24T08:45:49.934429",
     "start_time": "2017-02-24T08:45:49.920802"
    },
    "collapsed": false
   },
   "outputs": [
    {
     "data": {
      "text/plain": [
       "[0.0,\n",
       " 0.20000000000000001,\n",
       " 0.40000000000000002,\n",
       " 0.60000000000000009,\n",
       " 0.80000000000000004,\n",
       " 1.0]"
      ]
     },
     "execution_count": 9,
     "metadata": {},
     "output_type": "execute_result"
    }
   ],
   "source": [
    "b"
   ]
  },
  {
   "cell_type": "code",
   "execution_count": 5,
   "metadata": {
    "ExecuteTime": {
     "end_time": "2017-02-24T08:32:49.132017",
     "start_time": "2017-02-24T08:32:49.125700"
    },
    "collapsed": false
   },
   "outputs": [
    {
     "data": {
      "text/plain": [
       "array([ 0.        ,  0.06666667,  0.13333333,  0.2       ,  0.26666667,\n",
       "        0.33333333,  0.4       ,  0.46666667,  0.53333333,  0.6       ,\n",
       "        0.66666667,  0.73333333,  0.8       ,  0.86666667,  0.93333333,  1.        ])"
      ]
     },
     "execution_count": 5,
     "metadata": {},
     "output_type": "execute_result"
    }
   ],
   "source": [
    "b"
   ]
  },
  {
   "cell_type": "code",
   "execution_count": null,
   "metadata": {
    "collapsed": true
   },
   "outputs": [],
   "source": []
  }
 ],
 "metadata": {
  "celltoolbar": "Initialisation Cell",
  "kernelspec": {
   "display_name": "Python [conda root]",
   "language": "python",
   "name": "conda-root-py"
  },
  "language_info": {
   "codemirror_mode": {
    "name": "ipython",
    "version": 2
   },
   "file_extension": ".py",
   "mimetype": "text/x-python",
   "name": "python",
   "nbconvert_exporter": "python",
   "pygments_lexer": "ipython2",
   "version": "2.7.13"
  },
  "latex_envs": {
   "bibliofile": "biblio.bib",
   "cite_by": "apalike",
   "current_citInitial": 1,
   "eqLabelWithNumbers": true,
   "eqNumInitial": 0
  },
  "nav_menu": {},
  "toc": {
   "navigate_menu": true,
   "number_sections": true,
   "sideBar": true,
   "threshold": 6,
   "toc_cell": false,
   "toc_section_display": "block",
   "toc_window_display": true
  }
 },
 "nbformat": 4,
 "nbformat_minor": 2
}
