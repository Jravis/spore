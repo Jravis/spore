{
 "cells": [
  {
   "cell_type": "markdown",
   "metadata": {},
   "source": [
    "## Realistic Power Spectrum"
   ]
  },
  {
   "cell_type": "markdown",
   "metadata": {},
   "source": [
    "In this section, we attempt to derive a realistic power spectrum. We use the angular power spectrum of Blake+2008, $C_l = 2\\times 10^{-4} l^{-1.2}$, and from it derive an approximate power spectrum in $u,v$, fitting a power-law power spectrum form to the result/."
   ]
  },
  {
   "cell_type": "code",
   "execution_count": 1,
   "metadata": {
    "ExecuteTime": {
     "end_time": "2017-07-18T01:20:07.259047",
     "start_time": "2017-07-18T01:20:07.229017Z"
    },
    "collapsed": false
   },
   "outputs": [
    {
     "ename": "ImportError",
     "evalue": "No module named healpy",
     "output_type": "error",
     "traceback": [
      "\u001b[0;31m---------------------------------------------------------------------------\u001b[0m",
      "\u001b[0;31mImportError\u001b[0m                               Traceback (most recent call last)",
      "\u001b[0;32m<ipython-input-1-90bd9e659f95>\u001b[0m in \u001b[0;36m<module>\u001b[0;34m()\u001b[0m\n\u001b[0;32m----> 1\u001b[0;31m \u001b[0;32mfrom\u001b[0m \u001b[0mhealpy\u001b[0m \u001b[0;32mimport\u001b[0m \u001b[0msphtfunc\u001b[0m\u001b[0;34m\u001b[0m\u001b[0m\n\u001b[0m\u001b[1;32m      2\u001b[0m \u001b[0;32mfrom\u001b[0m \u001b[0mhealpy\u001b[0m \u001b[0;32mimport\u001b[0m \u001b[0mvisufunc\u001b[0m\u001b[0;34m\u001b[0m\u001b[0m\n\u001b[1;32m      3\u001b[0m \u001b[0;32mfrom\u001b[0m \u001b[0mhealpy\u001b[0m \u001b[0;32mimport\u001b[0m \u001b[0mpixelfunc\u001b[0m\u001b[0;34m\u001b[0m\u001b[0m\n\u001b[1;32m      4\u001b[0m \u001b[0;32mfrom\u001b[0m \u001b[0mscipy\u001b[0m\u001b[0;34m.\u001b[0m\u001b[0minterpolate\u001b[0m \u001b[0;32mimport\u001b[0m \u001b[0mgriddata\u001b[0m\u001b[0;34m\u001b[0m\u001b[0m\n\u001b[1;32m      5\u001b[0m \u001b[0;32mfrom\u001b[0m \u001b[0mscipy\u001b[0m\u001b[0;34m.\u001b[0m\u001b[0mstats\u001b[0m \u001b[0;32mimport\u001b[0m \u001b[0mlinregress\u001b[0m\u001b[0;34m\u001b[0m\u001b[0m\n",
      "\u001b[0;31mImportError\u001b[0m: No module named healpy"
     ]
    }
   ],
   "source": [
    "from healpy import sphtfunc\n",
    "from healpy import visufunc\n",
    "from healpy import pixelfunc\n",
    "from scipy.interpolate import griddata\n",
    "from scipy.stats import linregress\n",
    "from powerbox.tools import get_power"
   ]
  },
  {
   "cell_type": "code",
   "execution_count": null,
   "metadata": {
    "collapsed": true
   },
   "outputs": [],
   "source": [
    "## Set up grid of l, and C.\n",
    "l = np.arange(1,1000)\n",
    "cls = 2e-4 * l**-1.2\n",
    "\n",
    "# Generate the map from cls.\n",
    "clmap = sphtfunc.synfast(cls,64)\n",
    "\n",
    "# Find co-latitude and longitude of map pixels.\n",
    "theta, phi = pixelfunc.pix2ang(64,np.arange(12*64**2))"
   ]
  },
  {
   "cell_type": "code",
   "execution_count": null,
   "metadata": {
    "collapsed": true
   },
   "outputs": [],
   "source": [
    "# Restrict map to a single hemisphere.\n",
    "clmap_hemi = clmap[theta<=np.pi/2]\n",
    "phi = phi[theta<=np.pi/2]\n",
    "theta = theta[theta<=np.pi/2]"
   ]
  },
  {
   "cell_type": "code",
   "execution_count": null,
   "metadata": {
    "collapsed": true
   },
   "outputs": [],
   "source": [
    "# Generate semi-Euclidean l, m co-ordinates\n",
    "l = np.sin(theta)*np.cos(phi)\n",
    "m = np.sin(theta)*np.sin(phi)"
   ]
  },
  {
   "cell_type": "code",
   "execution_count": null,
   "metadata": {
    "collapsed": true
   },
   "outputs": [],
   "source": [
    "# Generate a uniform l,m grid. Only go up to 1/sqrt(2), so that the square stays within the circle.\n",
    "lgrid = np.linspace(-1/np.sqrt(2),1/np.sqrt(2),3000)\n",
    "L,M = np.meshgrid(lgrid,lgrid)\n",
    "\n",
    "# Interpolate map onto the uniform grid.\n",
    "interp_map = griddata(np.array([l,m]).T,clmap_hemi, (L,M))\n",
    "interp_map[np.isnan(interp_map)] = np.nanmean(interp_map)"
   ]
  },
  {
   "cell_type": "code",
   "execution_count": null,
   "metadata": {
    "collapsed": true
   },
   "outputs": [],
   "source": [
    "# Make a plot of the map\n",
    "plt.imshow(interp_map,extent=[-1/np.sqrt(2),1/np.sqrt(2),-1/np.sqrt(2),1/np.sqrt(2)])"
   ]
  },
  {
   "cell_type": "code",
   "execution_count": null,
   "metadata": {
    "collapsed": true
   },
   "outputs": [],
   "source": [
    "# Generate the power spectrum of the map\n",
    "pk, k = get_power(interp_map,2/np.sqrt(2))"
   ]
  },
  {
   "cell_type": "code",
   "execution_count": null,
   "metadata": {
    "collapsed": true
   },
   "outputs": [],
   "source": [
    "# Find the slope and intercept of the resulting power spectrum\n",
    "slope, intercept, _,_,_ = linregress(np.log(k), np.log(pk))\n",
    "print slope, intercept\n",
    "\n",
    "# Find u0 and kappa from slope and intercept\n",
    "u0= np.exp(-intercept/slope)\n",
    "kappa = -slope\n",
    "print u0, kappa"
   ]
  },
  {
   "cell_type": "code",
   "execution_count": null,
   "metadata": {
    "collapsed": true
   },
   "outputs": [],
   "source": [
    "# Compare power-law fit to actual power-spectrum. We really only trust smaller scales.\n",
    "plt.plot(k,pk)\n",
    "plt.plot(k,(k/u0)**-kappa)\n",
    "plt.xscale('log')\n",
    "plt.yscale('log')"
   ]
  }
 ],
 "metadata": {
  "kernelspec": {
   "display_name": "Python [conda env:spore]",
   "language": "python",
   "name": "conda-env-spore-py"
  },
  "language_info": {
   "codemirror_mode": {
    "name": "ipython",
    "version": 2
   },
   "file_extension": ".py",
   "mimetype": "text/x-python",
   "name": "python",
   "nbconvert_exporter": "python",
   "pygments_lexer": "ipython2",
   "version": "2.7.13"
  },
  "latex_envs": {
   "bibliofile": "biblio.bib",
   "cite_by": "apalike",
   "current_citInitial": 1,
   "eqLabelWithNumbers": true,
   "eqNumInitial": 0
  },
  "nav_menu": {},
  "toc": {
   "navigate_menu": true,
   "number_sections": true,
   "sideBar": true,
   "threshold": 6,
   "toc_cell": false,
   "toc_section_display": "block",
   "toc_window_display": true
  }
 },
 "nbformat": 4,
 "nbformat_minor": 2
}
